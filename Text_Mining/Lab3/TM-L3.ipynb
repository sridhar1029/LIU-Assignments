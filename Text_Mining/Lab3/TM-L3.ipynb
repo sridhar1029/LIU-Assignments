{
 "cells": [
  {
   "cell_type": "markdown",
   "metadata": {},
   "source": [
    "# L3: Text clustering and topic modelling"
   ]
  },
  {
   "cell_type": "markdown",
   "metadata": {},
   "source": [
    "Text clustering groups documents in such a way that documents within a group are more &lsquo;similar&rsquo; to other documents in the cluster than to documents not in the cluster. The exact definition of what &lsquo;similar&rsquo; means in this context varies across applications and clustering algorithms.\n",
    "\n",
    "In this lab you will experiment with both hard and soft clustering techniques. More specifically, in the first part you will be using the $k$-means algorithm, and in the second part you will be using a topic model based on the Latent Dirichlet Allocation (LDA)."
   ]
  },
  {
   "cell_type": "markdown",
   "metadata": {},
   "source": [
    "## Hard clustering data set"
   ]
  },
  {
   "cell_type": "markdown",
   "metadata": {},
   "source": [
    "The raw data for the hard clustering part of this lab is a collection of product reviews. We have preprocessed the data by tokenization and lowercasing."
   ]
  },
  {
   "cell_type": "code",
   "execution_count": 1,
   "metadata": {},
   "outputs": [],
   "source": [
    "import pandas as pd\n",
    "import bz2\n",
    "\n",
    "with bz2.open(\"reviews.json.bz2\") as source:\n",
    "    df = pd.read_json(source)"
   ]
  },
  {
   "cell_type": "markdown",
   "metadata": {},
   "source": [
    "When you inspect the data frame, you can see that there are three labelled columns: `category` (the product category), `sentiment` (whether the product review was classified as &lsquo;positive&rsquo; or &lsquo;negative&rsquo; towards the product), and `text` (the space-separated text of the review)."
   ]
  },
  {
   "cell_type": "code",
   "execution_count": 2,
   "metadata": {},
   "outputs": [
    {
     "data": {
      "text/html": [
       "<div>\n",
       "<style scoped>\n",
       "    .dataframe tbody tr th:only-of-type {\n",
       "        vertical-align: middle;\n",
       "    }\n",
       "\n",
       "    .dataframe tbody tr th {\n",
       "        vertical-align: top;\n",
       "    }\n",
       "\n",
       "    .dataframe thead th {\n",
       "        text-align: right;\n",
       "    }\n",
       "</style>\n",
       "<table border=\"1\" class=\"dataframe\">\n",
       "  <thead>\n",
       "    <tr style=\"text-align: right;\">\n",
       "      <th></th>\n",
       "      <th>category</th>\n",
       "      <th>sentiment</th>\n",
       "      <th>text</th>\n",
       "    </tr>\n",
       "  </thead>\n",
       "  <tbody>\n",
       "    <tr>\n",
       "      <th>0</th>\n",
       "      <td>music</td>\n",
       "      <td>neg</td>\n",
       "      <td>i bought this album because i loved the title ...</td>\n",
       "    </tr>\n",
       "    <tr>\n",
       "      <th>1</th>\n",
       "      <td>music</td>\n",
       "      <td>neg</td>\n",
       "      <td>i was misled and thought i was buying the enti...</td>\n",
       "    </tr>\n",
       "    <tr>\n",
       "      <th>2</th>\n",
       "      <td>books</td>\n",
       "      <td>neg</td>\n",
       "      <td>i have introduced many of my ell , high school...</td>\n",
       "    </tr>\n",
       "    <tr>\n",
       "      <th>3</th>\n",
       "      <td>books</td>\n",
       "      <td>pos</td>\n",
       "      <td>anything you purchase in the left behind serie...</td>\n",
       "    </tr>\n",
       "    <tr>\n",
       "      <th>4</th>\n",
       "      <td>dvd</td>\n",
       "      <td>pos</td>\n",
       "      <td>i loved these movies , and i cant wiat for the...</td>\n",
       "    </tr>\n",
       "  </tbody>\n",
       "</table>\n",
       "</div>"
      ],
      "text/plain": [
       "  category sentiment                                               text\n",
       "0    music       neg  i bought this album because i loved the title ...\n",
       "1    music       neg  i was misled and thought i was buying the enti...\n",
       "2    books       neg  i have introduced many of my ell , high school...\n",
       "3    books       pos  anything you purchase in the left behind serie...\n",
       "4      dvd       pos  i loved these movies , and i cant wiat for the..."
      ]
     },
     "execution_count": 2,
     "metadata": {},
     "output_type": "execute_result"
    }
   ],
   "source": [
    "df.head()"
   ]
  },
  {
   "cell_type": "markdown",
   "metadata": {},
   "source": [
    "## Problem 1: K-means clustering"
   ]
  },
  {
   "cell_type": "markdown",
   "metadata": {},
   "source": [
    "Your first task is to cluster the product review data using a tf–idf vectorizer and a $k$-means clusterer."
   ]
  },
  {
   "cell_type": "markdown",
   "metadata": {},
   "source": [
    "Start by doing the vectorization. In connection with vectorization, you should also filter out standard English stop words. While you could use [spaCy](https://spacy.io/) for this task, here it suffices to use the word list implemented in [TfidfVectorizer](https://scikit-learn.org/stable/modules/generated/sklearn.feature_extraction.text.TfidfVectorizer.html)."
   ]
  },
  {
   "cell_type": "code",
   "execution_count": 3,
   "metadata": {},
   "outputs": [],
   "source": [
    "import numpy as np\n",
    "from sklearn.feature_extraction.text import TfidfVectorizer\n",
    "np.random.seed(12345)\n",
    "\n",
    "vectorizer = TfidfVectorizer(stop_words=\"english\")\n",
    "reviews = vectorizer.fit_transform(df[\"text\"])"
   ]
  },
  {
   "cell_type": "markdown",
   "metadata": {},
   "source": [
    "Test your vectorization by running the following code cell:"
   ]
  },
  {
   "cell_type": "code",
   "execution_count": 4,
   "metadata": {},
   "outputs": [
    {
     "data": {
      "text/plain": [
       "(11914, 46619)"
      ]
     },
     "execution_count": 4,
     "metadata": {},
     "output_type": "execute_result"
    }
   ],
   "source": [
    "reviews.shape"
   ]
  },
  {
   "cell_type": "markdown",
   "metadata": {},
   "source": [
    "If you used the English stop word list from scikit-learn, then the resulting vocabulary should have 46,619 entries."
   ]
  },
  {
   "cell_type": "markdown",
   "metadata": {},
   "source": [
    "Next, cluster the vectorized data. Before doing so, you should read the documentation of the [KMeans](https://scikit-learn.org/stable/modules/generated/sklearn.cluster.KMeans.html) class, which is scikit-learn&rsquo;s implementation of the $k$-means algorithm. As you can see, this class has several parameters that you can tweak. For now, the only parameter that you will have to set is the number of clusters. We recommend that you choose $k=3$.\n",
    "\n",
    "**Tip:** Training $k$-means models will take some time. To speed things up, you can use the `n_init` parameter to control the number of times that the clustering is re-computed with different initial values. The default value for this parameter is 10; here and in the rest of this lab, you may want to set this to a lower value."
   ]
  },
  {
   "cell_type": "code",
   "execution_count": 5,
   "metadata": {},
   "outputs": [
    {
     "data": {
      "text/plain": [
       "KMeans(algorithm='auto', copy_x=True, init='k-means++', max_iter=300,\n",
       "       n_clusters=3, n_init=3, n_jobs=None, precompute_distances='auto',\n",
       "       random_state=None, tol=0.0001, verbose=0)"
      ]
     },
     "execution_count": 5,
     "metadata": {},
     "output_type": "execute_result"
    }
   ],
   "source": [
    "from sklearn.cluster import KMeans\n",
    "\n",
    "kmeans3 = KMeans(n_clusters=3, n_init=3)\n",
    "kmeans3.fit(reviews)"
   ]
  },
  {
   "cell_type": "code",
   "execution_count": 6,
   "metadata": {},
   "outputs": [
    {
     "data": {
      "text/plain": [
       "array([0, 1, 2])"
      ]
     },
     "execution_count": 6,
     "metadata": {},
     "output_type": "execute_result"
    }
   ],
   "source": [
    "np.unique(kmeans3.labels_)"
   ]
  },
  {
   "cell_type": "markdown",
   "metadata": {},
   "source": [
    "To sanity-check your clustering, create a bar plot with the number of documents per cluster."
   ]
  },
  {
   "cell_type": "code",
   "execution_count": 8,
   "metadata": {},
   "outputs": [],
   "source": [
    "# TODO: Enter code here to produce a bar plot of the cluster size\n",
    "import seaborn as sns\n",
    "import matplotlib.pyplot as plt\n",
    "\n",
    "def gen_barplot(labels, n_clusters):\n",
    "    sns.set(style=\"whitegrid\")\n",
    "    lis = [[(labels==0).sum()]]\n",
    "    for i in range(1, n_clusters):\n",
    "        lis.append([(labels==i).sum()])\n",
    "    ax = sns.barplot(data=lis)\n",
    "  "
   ]
  },
  {
   "cell_type": "code",
   "execution_count": 9,
   "metadata": {},
   "outputs": [
    {
     "data": {
      "image/png": "[encoded data removed]",
      "text/plain": [
       "<Figure size 432x288 with 1 Axes>"
      ]
     },
     "metadata": {},
     "output_type": "display_data"
    }
   ],
   "source": [
    "gen_barplot(kmeans3.labels_, 3)"
   ]
  },
  {
   "cell_type": "markdown",
   "metadata": {},
   "source": [
    "Note that sizes may vary considerable between clusters and among different random seeds."
   ]
  },
  {
   "cell_type": "markdown",
   "metadata": {},
   "source": [
    "## Problem 2: Summarize clusters"
   ]
  },
  {
   "cell_type": "markdown",
   "metadata": {},
   "source": [
    "Once you have a clustering, you can try to see whether it is meaningful. One useful technique in that context is to generate a **summary** for each cluster by extracting the $n$ highest-weighted terms from the centroid of each cluster. Your next task is to implement this approach.\n",
    "\n",
    "**Hint:** You will need to construct an &lsquo;inverted vocabulary&rsquo; that allows you to map from the index of a term back to the original term."
   ]
  },
  {
   "cell_type": "code",
   "execution_count": 10,
   "metadata": {},
   "outputs": [],
   "source": [
    "def cluster_summary(n_clusters, vect, model, n_terms=10):\n",
    "    print(\"Top terms per cluster:\")\n",
    "    order_centroids = model.cluster_centers_.argsort()[:, ::-1]\n",
    "    terms = vect.get_feature_names()\n",
    "    for i in range(n_clusters):\n",
    "        print(\"Cluster %d:\" % i),\n",
    "        for ind in order_centroids[i, :n_terms]:\n",
    "            print(' %s, ' % terms[ind], end=\"\")\n",
    "        print(end=\"\\n\")"
   ]
  },
  {
   "cell_type": "code",
   "execution_count": 12,
   "metadata": {},
   "outputs": [
    {
     "name": "stdout",
     "output_type": "stream",
     "text": [
      "Top terms per cluster:\n",
      "Cluster 0:\n",
      " like,  product,  movie,  great,  just,  good,  cd,  album,  use,  time,  does,  did,  really,  music,  work, \n",
      "Cluster 1:\n",
      " book,  read,  books,  author,  reading,  story,  quot,  like,  just,  good,  written,  did,  great,  really,  people, \n",
      "Cluster 2:\n",
      " camera,  lens,  pictures,  canon,  digital,  use,  battery,  flash,  quality,  great,  case,  good,  cameras,  picture,  zoom, \n"
     ]
    }
   ],
   "source": [
    "cluster_summary(n_clusters=3,\n",
    "               vect=vectorizer,\n",
    "               model=kmeans3,\n",
    "               n_terms=15)"
   ]
  },
  {
   "cell_type": "markdown",
   "metadata": {},
   "source": [
    "Once you have computed the cluster summaries, discuss their quality. Is it clear what the reviews in a given cluster are about? Which clusters are clearest? Which are less clear? Do the cluster summaries contain any unexpected terms? What happens if you re-cluster with, say, $k=6$?"
   ]
  },
  {
   "cell_type": "markdown",
   "metadata": {},
   "source": [
    "Answer:\n",
    "\n",
    "Cluster 1 and Cluster 2 look to be clear. \n",
    "Cluster 1 belongs to books and cluster 2 belongs to cameras. \n",
    "\n",
    "Cluster 0 is not lear at all. It is a mix of music, movies, etc. This gives us a hint that we can increase the number of clusters as a lot of categories have been merged into this cluster(Cluster 0)."
   ]
  },
  {
   "cell_type": "code",
   "execution_count": 13,
   "metadata": {},
   "outputs": [
    {
     "name": "stdout",
     "output_type": "stream",
     "text": [
      "Top terms per cluster:\n",
      "Cluster 0:\n",
      " product,  use,  software,  program,  hair,  used,  easy,  does,  work,  time,  great,  just,  version,  bought,  using, \n",
      "Cluster 1:\n",
      " movie,  film,  like,  good,  dvd,  just,  great,  really,  love,  time,  story,  did,  does,  best,  people, \n",
      "Cluster 2:\n",
      " quot,  book,  cd,  album,  music,  just,  like,  song,  great,  good,  best,  songs,  movie,  new,  time, \n",
      "Cluster 3:\n",
      " camera,  lens,  pictures,  canon,  digital,  use,  flash,  battery,  quality,  great,  case,  good,  cameras,  picture,  zoom, \n",
      "Cluster 4:\n",
      " book,  read,  books,  author,  reading,  like,  story,  just,  written,  did,  good,  really,  great,  people,  writing, \n",
      "Cluster 5:\n",
      " album,  cd,  songs,  music,  song,  like,  just,  great,  band,  good,  listen,  sound,  albums,  love,  best, \n"
     ]
    },
    {
     "data": {
      "image/png": "[encoded data removed]",
      "text/plain": [
       "<Figure size 432x288 with 1 Axes>"
      ]
     },
     "metadata": {},
     "output_type": "display_data"
    }
   ],
   "source": [
    "n_cl = 6\n",
    "kmeans6 = KMeans(n_clusters=n_cl, n_init=3)\n",
    "kmeans6.fit(reviews)\n",
    "gen_barplot(kmeans6.labels_, n_cl)\n",
    "cluster_summary(n_clusters=n_cl,\n",
    "               vect=vectorizer,\n",
    "               model=kmeans6,\n",
    "               n_terms=15)"
   ]
  },
  {
   "cell_type": "markdown",
   "metadata": {},
   "source": [
    "*Now the clusters seem to be better clustred. Cluster 0 belongs to softwares, cluster 1 belongs to movies, Cluster 3 belongs to cameras and cluster 5 belongs to songs. CLuster 2 and Cluster 4 are still mixed up.*"
   ]
  },
  {
   "cell_type": "markdown",
   "metadata": {},
   "source": [
    "## Problem 3: Tune the k-means algorithm"
   ]
  },
  {
   "cell_type": "markdown",
   "metadata": {},
   "source": [
    "A major limitation of the $k$-means algorithm is that one has to manually set the value for $k$, the number of clusters. One heuristic that can help you with this is the [Elbow method](https://en.wikipedia.org/wiki/Elbow_method_(clustering)). Your next task is to implement this method to see whether it allows you to find a better value for $k$.\n",
    "\n",
    "To follow the elbow method, you should plot different values of $k$ against the **inertia** (sums of squared distances between documents and closest centroids) of the fitted $k$-means model, and pick the $k$ at the &lsquo;elbow point&rsquo; of the resulting graph. Test cluster sizes between 1 and 9.\n",
    "\n",
    "**Note that this will take a while.**"
   ]
  },
  {
   "cell_type": "code",
   "execution_count": 14,
   "metadata": {},
   "outputs": [
    {
     "data": {
      "text/plain": [
       "[11764.202585909867,\n",
       " 11712.7252796774,\n",
       " 11652.428933944515,\n",
       " 11634.817520075912,\n",
       " 11593.688225660128,\n",
       " 11552.862069473045,\n",
       " 11533.978969283842,\n",
       " 11515.940336600843,\n",
       " 11482.185532129648]"
      ]
     },
     "execution_count": 14,
     "metadata": {},
     "output_type": "execute_result"
    }
   ],
   "source": [
    "inertia_list = []\n",
    "for i in range(1,10):\n",
    "    kmeans = KMeans(n_clusters=i, n_init=1)\n",
    "    kmeans.fit(reviews)\n",
    "    inertia_list.append(kmeans.inertia_)\n",
    "    \n",
    "inertia_list"
   ]
  },
  {
   "cell_type": "code",
   "execution_count": 15,
   "metadata": {},
   "outputs": [
    {
     "data": {
      "image/png": "[encoded data removed]",
      "text/plain": [
       "<Figure size 432x288 with 1 Axes>"
      ]
     },
     "metadata": {},
     "output_type": "display_data"
    }
   ],
   "source": [
    "inertia_df = pd.DataFrame({\"N_Clusters\":list(range(1,10)), \"Inertia\":inertia_list})\n",
    "ax = sns.lineplot(x=\"N_Clusters\", y=\"Inertia\", markers=True, dashes=False, data=inertia_df)"
   ]
  },
  {
   "cell_type": "markdown",
   "metadata": {},
   "source": [
    "Once you have the diagram, can you see a pronounced &lsquo;elbow point&rsquo;? Discuss your findings in a short text."
   ]
  },
  {
   "cell_type": "markdown",
   "metadata": {},
   "source": [
    "*Points 3 and 6 both look like potential elbow points. There is a steep decrease in inertia after the the 4th point till 6th, and then the decrease seems to slow down. So we think the n_cluster = 6 is a good elbow point, according to this plot.*"
   ]
  },
  {
   "cell_type": "markdown",
   "metadata": {},
   "source": [
    "## Problem 4: Compare clusterings using the Rand index"
   ]
  },
  {
   "cell_type": "markdown",
   "metadata": {},
   "source": [
    "In some scenarios, you may have gold-standard class labels available for at least a subset of your documents. In these cases you can compute the **Rand index** of a clustering, and use this measure to compare the quality of different clusterings.\n",
    "\n",
    "To compute the Rand index, we view a clustering as a binary classifier on pairs of documents. The classifier predicts &lsquo;positive&rsquo; if and only if the two documents belong to the same cluster. The (non-normalized) Rand index of the clustering is the accuracy of this classifier relative to a reference in which a document pair belongs to the &lsquo;positive&rsquo; class if and only if the two documents in the pair have the same gold-standard class label.\n",
    "\n",
    "Compare a clustering with $k=3$ clusters to a second clustering with $k=6$ clusters. As your evaluation data, use the first 500 documents from the original data set along with their gold-standard categories (from the `category` column). What do you observe? How do you interpret your observations? What arguments can you find against the Rand index as a measure for comparing clusterings?"
   ]
  },
  {
   "cell_type": "code",
   "execution_count": 18,
   "metadata": {},
   "outputs": [
    {
     "data": {
      "text/plain": [
       "((500,), (500,), (500,))"
      ]
     },
     "execution_count": 18,
     "metadata": {},
     "output_type": "execute_result"
    }
   ],
   "source": [
    "true_labels = pd.Categorical(df.category[:500]).codes\n",
    "predicted_3 = kmeans3.predict(reviews[:500,])\n",
    "predicted_6 = kmeans6.predict(reviews[:500,])\n",
    "predicted_3.shape, predicted_6.shape, true_labels.shape"
   ]
  },
  {
   "cell_type": "code",
   "execution_count": 19,
   "metadata": {},
   "outputs": [
    {
     "name": "stdout",
     "output_type": "stream",
     "text": [
      "Rand score for n_cluster=3 is :  0.08411545968867824\n",
      "Rand score for n_cluster=6 is :  0.3380776375979689\n"
     ]
    }
   ],
   "source": [
    "from sklearn.metrics.cluster import adjusted_rand_score\n",
    "\n",
    "print(\"Rand score for n_cluster=3 is : \", adjusted_rand_score(true_labels, predicted_3))\n",
    "print(\"Rand score for n_cluster=6 is : \", adjusted_rand_score(true_labels, predicted_6))"
   ]
  },
  {
   "cell_type": "markdown",
   "metadata": {},
   "source": [
    "*Rand index can be thought of as the accuracy measure of the clustering. When calculating the rand score for the first 500 documents, the rand score for 3 clusters is very low(0.08), while the rand score for 6 clusters is much higher(0.34). This cleraly shows that the quality of 6 clusters is better.The rand index method is only good if we know the number of categories in the data and cluster accordingly. For example the data we have has 6 categories and since we used the number of cluster as 6 we get a good rand socre, better than the score for number of clusters as 6. It is not a good measure of how good the clustering process actually performed.*"
   ]
  },
  {
   "cell_type": "markdown",
   "metadata": {},
   "source": [
    "## Topic modelling data set"
   ]
  },
  {
   "cell_type": "markdown",
   "metadata": {},
   "source": [
    "The data set for the topic modelling part of this lab is the collection of all [State of the Union](https://en.wikipedia.org/wiki/State_of_the_Union) addresses from the years 1975–2000. These speeches come as a single text file with one sentence per line. The following code cell prints the first 5 lines from the data file:"
   ]
  },
  {
   "cell_type": "code",
   "execution_count": 20,
   "metadata": {},
   "outputs": [
    {
     "name": "stdout",
     "output_type": "stream",
     "text": [
      "mr speaker mr vice president members of the 94th congress and distinguished guests\n",
      "twenty six years ago a freshman congressman a young fellow with lots of idealism who was out to change the world stood before sam rayburn in the well of the house and solemnly swore to the same oath that all of you took yesterday an unforgettable experience and i congratulate you all\n",
      "two days later that same freshman stood at the back of this great chamber over there someplace as president truman all charged up by his single handed election victory reported as the constitution requires on the state of the union\n",
      "when the bipartisan applause stopped president truman said i am happy to report to this 81st congress that the state of the union is good our nation is better able than ever before to meet the needs of the american people and to give them their fair chance in the pursuit of happiness it is foremost among the nations of the world in the search for peace\n",
      "today that freshman member from michigan stands where mr truman stood and i must say to you that the state of the union is not good\n",
      "millions of americans are out of work\n"
     ]
    }
   ],
   "source": [
    "with open(\"sotu_1975_2000.txt\") as source:\n",
    "    for i, line in enumerate(source):\n",
    "        print(line.rstrip())\n",
    "        if i >= 5:\n",
    "            break"
   ]
  },
  {
   "cell_type": "markdown",
   "metadata": {},
   "source": [
    "## Problem 5: Train a topic model"
   ]
  },
  {
   "cell_type": "markdown",
   "metadata": {},
   "source": [
    "Your first task on the topic modelling data is to train an LDA model. For this task you will be using [spaCy](https://spacy.io/) and the [gensim](https://radimrehurek.com/gensim/) topic modelling library.\n",
    "\n",
    "Start by preprocessing the data using spaCy. Given that the data set for this problem is rather small, you do not have to exclude any components from the standard pipeline. Filter out stop words, non-alphabetic tokens, and tokens less than 3 characters in length. Store the documents as a nested list where the first level of nesting corresponds to the sentences and the second level corresponds to the tokens in each sentence."
   ]
  },
  {
   "cell_type": "code",
   "execution_count": 21,
   "metadata": {},
   "outputs": [],
   "source": [
    "import spacy\n",
    "\n",
    "def preprocess(text):\n",
    "    # TODO: Replace the next line with your own code.\n",
    "    #text=\"Apple is looking at buying U.K. startup for $1 billion.\"\n",
    "    if 'nlp' not in globals():\n",
    "        global nlp\n",
    "        nlp = spacy.load(\"en_core_web_sm\",disable=[\"tagger\", \"parser\", \"ner\"])\n",
    "        \n",
    "    #tokenization\n",
    "    doc = nlp(text)\n",
    "\n",
    "    #stop words\n",
    "    no_stop_words = [t.lemma_ for t in doc if not t.is_stop and len(t.lemma_) > 2]\n",
    "    tokens = [t for t in no_stop_words if t.isalpha()]\n",
    "\n",
    "    return tokens"
   ]
  },
  {
   "cell_type": "code",
   "execution_count": 22,
   "metadata": {},
   "outputs": [],
   "source": [
    "# TODO: Replace the following lines with your own code for preprocessing the documents\n",
    "with open(\"sotu_1975_2000.txt\") as source:\n",
    "    documents = [preprocess(line) for line in source]"
   ]
  },
  {
   "cell_type": "markdown",
   "metadata": {},
   "source": [
    "Test your preprocessing by running the following cell:"
   ]
  },
  {
   "cell_type": "code",
   "execution_count": 23,
   "metadata": {},
   "outputs": [
    {
     "data": {
      "text/plain": [
       "'reduce oil import million barrel day end year million barrel day end'"
      ]
     },
     "execution_count": 23,
     "metadata": {},
     "output_type": "execute_result"
    }
   ],
   "source": [
    "\" \".join(documents[42])"
   ]
  },
  {
   "cell_type": "markdown",
   "metadata": {},
   "source": [
    "You should get the following output:"
   ]
  },
  {
   "cell_type": "raw",
   "metadata": {},
   "source": [
    "'reduce oil imports million barrels day end year million barrels day end'"
   ]
  },
  {
   "cell_type": "markdown",
   "metadata": {},
   "source": [
    "Once you have the list of documents, skim the section [Pre-process and vectorize the documents](https://radimrehurek.com/gensim/auto_examples/tutorials/run_lda.html#pre-process-and-vectorize-the-documents) of the gensim documentation to learn how to create the dictionary and the vectorized corpus representation required by gensim. (Note that you cannot use the standard scikit-learn pipeline in this case.) Then, write code to train an [LdaModel](https://radimrehurek.com/gensim/models/ldamodel.html) for $k=10$ topics, and using default values for all other parameters."
   ]
  },
  {
   "cell_type": "code",
   "execution_count": 25,
   "metadata": {},
   "outputs": [],
   "source": [
    "# TODO: Enter code here to train an LDA model\n",
    "import spacy\n",
    "from gensim.test.utils import common_texts\n",
    "from gensim.corpora import Dictionary\n",
    "\n",
    "#Create Dictionary \n",
    "# Create a dictionary representation of the documents.\n",
    "dictionary = Dictionary(documents)\n",
    "\n",
    "#Vectorized corpus\n",
    "# Bag-of-words representation of the documents.\n",
    "corpus = [dictionary.doc2bow(doc) for doc in documents]"
   ]
  },
  {
   "cell_type": "code",
   "execution_count": 26,
   "metadata": {},
   "outputs": [],
   "source": [
    "# Train LDA model.\n",
    "from gensim.models import LdaModel\n",
    "seed=123\n",
    "k=10\n",
    "temp = dictionary[0]  # This is only to \"load\" the dictionary.\n",
    "id2word = dictionary.id2token\n",
    "lda_model = LdaModel(corpus, num_topics=k, random_state=seed,id2word=id2word)"
   ]
  },
  {
   "cell_type": "markdown",
   "metadata": {},
   "source": [
    "Once you have a trained model, run the following cell to print the topics:"
   ]
  },
  {
   "cell_type": "code",
   "execution_count": 28,
   "metadata": {},
   "outputs": [
    {
     "name": "stdout",
     "output_type": "stream",
     "text": [
      "[(0,\n",
      "  '0.017*\"year\" + 0.016*\"school\" + 0.015*\"america\" + 0.013*\"work\" + '\n",
      "  '0.010*\"child\" + 0.009*\"american\" + 0.009*\"people\" + 0.008*\"new\" + '\n",
      "  '0.008*\"world\" + 0.008*\"community\"'),\n",
      " (1,\n",
      "  '0.012*\"america\" + 0.011*\"thank\" + 0.009*\"drug\" + 0.009*\"people\" + '\n",
      "  '0.008*\"world\" + 0.008*\"new\" + 0.007*\"know\" + 0.007*\"let\" + 0.007*\"nation\" + '\n",
      "  '0.007*\"crime\"'),\n",
      " (2,\n",
      "  '0.013*\"year\" + 0.012*\"new\" + 0.010*\"college\" + 0.010*\"work\" + '\n",
      "  '0.010*\"congress\" + 0.008*\"people\" + 0.008*\"job\" + 0.008*\"trade\" + '\n",
      "  '0.008*\"pass\" + 0.007*\"right\"'),\n",
      " (3,\n",
      "  '0.019*\"america\" + 0.014*\"year\" + 0.012*\"world\" + 0.010*\"congress\" + '\n",
      "  '0.009*\"time\" + 0.008*\"state\" + 0.008*\"child\" + 0.008*\"people\" + '\n",
      "  '0.008*\"americans\" + 0.008*\"work\"'),\n",
      " (4,\n",
      "  '0.015*\"year\" + 0.014*\"work\" + 0.013*\"child\" + 0.008*\"congress\" + '\n",
      "  '0.007*\"home\" + 0.006*\"america\" + 0.006*\"help\" + 0.006*\"program\" + '\n",
      "  '0.006*\"read\" + 0.006*\"way\"'),\n",
      " (5,\n",
      "  '0.013*\"work\" + 0.011*\"welfare\" + 0.010*\"budget\" + 0.010*\"new\" + 0.010*\"tax\" '\n",
      "  '+ 0.009*\"help\" + 0.009*\"year\" + 0.008*\"national\" + 0.007*\"family\" + '\n",
      "  '0.006*\"cut\"'),\n",
      " (6,\n",
      "  '0.015*\"work\" + 0.014*\"new\" + 0.013*\"child\" + 0.013*\"community\" + '\n",
      "  '0.012*\"people\" + 0.009*\"government\" + 0.008*\"help\" + 0.008*\"job\" + '\n",
      "  '0.007*\"support\" + 0.007*\"world\"'),\n",
      " (7,\n",
      "  '0.015*\"year\" + 0.014*\"people\" + 0.012*\"child\" + 0.011*\"let\" + '\n",
      "  '0.011*\"congress\" + 0.010*\"work\" + 0.009*\"government\" + 0.007*\"ask\" + '\n",
      "  '0.007*\"america\" + 0.007*\"know\"'),\n",
      " (8,\n",
      "  '0.016*\"health\" + 0.015*\"care\" + 0.015*\"america\" + 0.013*\"new\" + '\n",
      "  '0.012*\"americans\" + 0.011*\"people\" + 0.011*\"year\" + 0.010*\"nation\" + '\n",
      "  '0.010*\"american\" + 0.009*\"work\"'),\n",
      " (9,\n",
      "  '0.031*\"year\" + 0.010*\"social\" + 0.010*\"security\" + 0.008*\"new\" + '\n",
      "  '0.007*\"people\" + 0.007*\"work\" + 0.007*\"federal\" + 0.006*\"propose\" + '\n",
      "  '0.006*\"program\" + 0.006*\"billion\"')]\n"
     ]
    }
   ],
   "source": [
    "from pprint import pprint\n",
    "pprint(lda_model.print_topics())"
   ]
  },
  {
   "cell_type": "markdown",
   "metadata": {},
   "source": [
    "Inspect the topics. Do they make sense? Can you &lsquo;label&rsquo; each topic with a short description of what it is about? Do the topics contain any unexpected terms? Summarize your discussion in a short text."
   ]
  },
  {
   "cell_type": "markdown",
   "metadata": {},
   "source": [
    "*These topics seem to be the most expected terms for the topic. They are the most likely terms.*"
   ]
  },
  {
   "cell_type": "markdown",
   "metadata": {},
   "source": [
    "## Problem 6: Monitoring a topic model for convergence"
   ]
  },
  {
   "cell_type": "markdown",
   "metadata": {},
   "source": [
    "When learning an LDA model, it is important to make sure that the training algorithm has converged to a stable posterior distribution. One way to do so is to plot, after each training epochs(or &lsquo;pass&rsquo;, in gensim parlance) the log likelihood of the training data under the posterior. Your last task in this lab is to create such a plot and, based on this, to suggest an appropriate number of epochs.\n",
    "\n",
    "To collect information about the posterior likelihood after each pass, we need to enable the logging facilities of gensim. Once this is done, gensim will add various diagnostics to a log file `gensim.log`."
   ]
  },
  {
   "cell_type": "code",
   "execution_count": 29,
   "metadata": {},
   "outputs": [],
   "source": [
    "import logging\n",
    "\n",
    "logging.basicConfig(filename=\"gensim.log\", format=\"%(asctime)s:%(levelname)s:%(message)s\", level=logging.INFO)"
   ]
  },
  {
   "cell_type": "markdown",
   "metadata": {},
   "source": [
    "The following function will parse the generated logfile and return the list of log likelihoods."
   ]
  },
  {
   "cell_type": "code",
   "execution_count": 30,
   "metadata": {},
   "outputs": [],
   "source": [
    "import re\n",
    "\n",
    "def parse_logfile():\n",
    "    matcher = re.compile(\"(-*\\d+\\.\\d+) per-word .* (\\d+\\.\\d+) perplexity\")\n",
    "    likelihoods = []\n",
    "    with open(\"gensim.log\") as source:\n",
    "        for line in source:\n",
    "            match = matcher.search(line)\n",
    "            if match:\n",
    "                likelihoods.append(float(match.group(1)))\n",
    "    return likelihoods"
   ]
  },
  {
   "cell_type": "markdown",
   "metadata": {},
   "source": [
    "Your task now is to re-train your LDA model for 50&nbsp;passes, retrieve the list of log likelihoods, and create a plot from this data."
   ]
  },
  {
   "cell_type": "code",
   "execution_count": 31,
   "metadata": {},
   "outputs": [
    {
     "name": "stdout",
     "output_type": "stream",
     "text": [
      "Wall time: 2min 2s\n"
     ]
    }
   ],
   "source": [
    "%%time\n",
    "\n",
    "seed=123\n",
    "k=10\n",
    "temp = dictionary[0]  # This is only to \"load\" the dictionary.\n",
    "id2word = dictionary.id2token\n",
    "passes = 50\n",
    "lda_model = LdaModel(corpus, num_topics=k, random_state=seed, id2word=id2word, passes=passes)"
   ]
  },
  {
   "cell_type": "code",
   "execution_count": 32,
   "metadata": {},
   "outputs": [
    {
     "name": "stdout",
     "output_type": "stream",
     "text": [
      "[(0,\n",
      "  '0.026*\"america\" + 0.018*\"child\" + 0.017*\"school\" + 0.017*\"people\" + '\n",
      "  '0.016*\"year\" + 0.013*\"work\" + 0.012*\"community\" + 0.012*\"new\" + '\n",
      "  '0.011*\"world\" + 0.010*\"american\"'),\n",
      " (1,\n",
      "  '0.021*\"peace\" + 0.018*\"world\" + 0.018*\"nation\" + 0.014*\"soviet\" + '\n",
      "  '0.014*\"nuclear\" + 0.012*\"unite\" + 0.010*\"security\" + 0.010*\"war\" + '\n",
      "  '0.010*\"state\" + 0.008*\"military\"'),\n",
      " (2,\n",
      "  '0.023*\"crime\" + 0.018*\"right\" + 0.018*\"congress\" + 0.016*\"pass\" + '\n",
      "  '0.014*\"bill\" + 0.013*\"reform\" + 0.012*\"law\" + 0.011*\"year\" + 0.011*\"gun\" + '\n",
      "  '0.011*\"ask\"'),\n",
      " (3,\n",
      "  '0.017*\"world\" + 0.017*\"america\" + 0.014*\"state\" + 0.014*\"president\" + '\n",
      "  '0.011*\"trade\" + 0.010*\"congress\" + 0.008*\"democracy\" + 0.008*\"speaker\" + '\n",
      "  '0.007*\"export\" + 0.007*\"asia\"'),\n",
      " (4,\n",
      "  '0.015*\"energy\" + 0.013*\"policy\" + 0.012*\"state\" + 0.010*\"national\" + '\n",
      "  '0.010*\"wage\" + 0.010*\"year\" + 0.010*\"oil\" + 0.010*\"price\" + 0.009*\"read\" + '\n",
      "  '0.008*\"standard\"'),\n",
      " (5,\n",
      "  '0.023*\"work\" + 0.022*\"tax\" + 0.017*\"family\" + 0.016*\"child\" + 0.015*\"new\" + '\n",
      "  '0.015*\"job\" + 0.014*\"help\" + 0.014*\"year\" + 0.014*\"million\" + '\n",
      "  '0.013*\"welfare\"'),\n",
      " (6,\n",
      "  '0.020*\"new\" + 0.012*\"economic\" + 0.012*\"government\" + 0.011*\"economy\" + '\n",
      "  '0.011*\"nation\" + 0.009*\"program\" + 0.009*\"energy\" + 0.009*\"need\" + '\n",
      "  '0.009*\"policy\" + 0.008*\"development\"'),\n",
      " (7,\n",
      "  '0.019*\"people\" + 0.015*\"let\" + 0.014*\"know\" + 0.013*\"government\" + '\n",
      "  '0.012*\"year\" + 0.012*\"american\" + 0.010*\"congress\" + 0.008*\"country\" + '\n",
      "  '0.008*\"work\" + 0.008*\"woman\"'),\n",
      " (8,\n",
      "  '0.033*\"health\" + 0.024*\"care\" + 0.017*\"americans\" + 0.016*\"insurance\" + '\n",
      "  '0.015*\"people\" + 0.014*\"work\" + 0.011*\"year\" + 0.011*\"american\" + '\n",
      "  '0.010*\"new\" + 0.008*\"change\"'),\n",
      " (9,\n",
      "  '0.038*\"year\" + 0.024*\"budget\" + 0.021*\"federal\" + 0.016*\"spend\" + '\n",
      "  '0.015*\"cut\" + 0.015*\"security\" + 0.014*\"social\" + 0.014*\"deficit\" + '\n",
      "  '0.013*\"program\" + 0.011*\"percent\"')]\n"
     ]
    }
   ],
   "source": [
    "pprint(lda_model.print_topics())"
   ]
  },
  {
   "cell_type": "code",
   "execution_count": 33,
   "metadata": {},
   "outputs": [],
   "source": [
    "likeli_hoods = parse_logfile()"
   ]
  },
  {
   "cell_type": "code",
   "execution_count": 34,
   "metadata": {},
   "outputs": [
    {
     "data": {
      "text/plain": [
       "[<matplotlib.lines.Line2D at 0x253dec18>]"
      ]
     },
     "execution_count": 34,
     "metadata": {},
     "output_type": "execute_result"
    },
    {
     "data": {
      "image/png": "[encoded data removed]",
      "text/plain": [
       "<Figure size 432x288 with 1 Axes>"
      ]
     },
     "metadata": {},
     "output_type": "display_data"
    }
   ],
   "source": [
    "# TODO: Enter code here to generate the convergence plot\n",
    "plt.plot(range(1,51),likeli_hoods[:50]) \n",
    "# there are total 150 likelihoods but since pass is 50 it seems repeat llkhoods after every 50 pass"
   ]
  },
  {
   "cell_type": "markdown",
   "metadata": {},
   "source": [
    "How do you interpret your plot? What would be a reasonable choice for the number of passes? Retrain your LDA model with that number and re-inspect the topics it finds. Do you consider the new topics to be &lsquo;better&rsquo; than the ones that you got from the 1-pass model in Problem&nbsp;5?"
   ]
  },
  {
   "cell_type": "markdown",
   "metadata": {},
   "source": [
    "*The likelihood suddenly increases 5-8 interations. But after 25 interations or so it changes negligibly. It is difficult to say if the new topics are better than the 1-pass model but the terms look less repeatitive for the 50 passes. The reasonable number of passes seem to be about 25 in this case as after that the likelihood doesn't change so much.*"
   ]
  },
  {
   "cell_type": "markdown",
   "metadata": {},
   "source": [
    "<div class=\"alert alert-info\">\n",
    "    Please read the section ‘General information’ on the ‘Labs’ page of the course website before submitting this notebook!\n",
    "</div>"
   ]
  }
 ],
 "metadata": {
  "kernelspec": {
   "display_name": "Python 3",
   "language": "python",
   "name": "python3"
  },
  "language_info": {
   "codemirror_mode": {
    "name": "ipython",
    "version": 3
   },
   "file_extension": ".py",
   "mimetype": "text/x-python",
   "name": "python",
   "nbconvert_exporter": "python",
   "pygments_lexer": "ipython3",
   "version": "3.7.3"
  }
 },
 "nbformat": 4,
 "nbformat_minor": 2
}
