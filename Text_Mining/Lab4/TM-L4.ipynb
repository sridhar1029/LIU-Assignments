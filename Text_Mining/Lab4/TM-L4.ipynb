{
 "cells": [
  {
   "cell_type": "markdown",
   "metadata": {},
   "source": [
    "# L4: Word embeddings"
   ]
  },
  {
   "cell_type": "markdown",
   "metadata": {},
   "source": [
    "In this lab you will explore word embeddings. A **word embedding** is a mapping of words to points in a vector space such that nearby words (points) are similar in terms of their distributional properties. You will use word embedding to find similar words, and evaluate their usefulness in an inference task.\n",
    "\n",
    "You will use the word vectors that come with [spaCy](http://spacy.io). Note that you will need the &lsquo;large&rsquo; English language model; the &lsquo;small&rsquo; model that you used in previous labs does not include proper word vectors."
   ]
  },
  {
   "cell_type": "code",
   "execution_count": 2,
   "metadata": {},
   "outputs": [],
   "source": [
    "import spacy\n",
    "\n",
    "nlp = spacy.load(\"en_core_web_lg\")\n"
   ]
  },
  {
   "cell_type": "markdown",
   "metadata": {},
   "source": [
    "Every word in the model&rsquo;s vocabulary comes with a 300-dimensional vector, represented as a NumPy array. The following code cell shows how to access the vector for the word *cheese*:"
   ]
  },
  {
   "cell_type": "code",
   "execution_count": 4,
   "metadata": {},
   "outputs": [],
   "source": [
    "# nlp.vocab[\"cheese\"].vector"
   ]
  },
  {
   "cell_type": "markdown",
   "metadata": {},
   "source": [
    "## Problem 1: Finding similar words"
   ]
  },
  {
   "cell_type": "markdown",
   "metadata": {},
   "source": [
    "Your first task is to use the word embeddings to find similar words. More specifically, we ask you to write a function `most_similar` that takes a vector $x$ and returns a list with the 10 most similar entries in spaCy&rsquo;s vocabulary, with similarity being defined by cosine.\n",
    "\n",
    "**Tip:** spaCy already has a [`most_similar`](https://spacy.io/api/vectors#most_similar) method that you can wrap."
   ]
  },
  {
   "cell_type": "code",
   "execution_count": 5,
   "metadata": {},
   "outputs": [],
   "source": [
    "# TODO: Enter your implementation of `most_similar` here\n",
    "from scipy.spatial import distance\n",
    "from scipy import spatial\n",
    "import numpy as np\n",
    "\n",
    "# Format the input vector for use in the distance function\n",
    "# In this case we will artificially create a word vector from a real word (\"cheese\")\n",
    "# but any derived word vector could be used\n",
    "\n",
    "def most_similar(word,k):\n",
    "    input_word = word#\"cheese\"\n",
    "    p = np.array([nlp.vocab[input_word].vector])\n",
    "\n",
    "    # Format the vocabulary for use in the distance function\n",
    "    ids = [x for x in nlp.vocab.vectors.keys()]\n",
    "    vectors = [nlp.vocab.vectors[x] for x in ids]\n",
    "    vectors = np.array(vectors)\n",
    "\n",
    "\n",
    "    # *** Find the closest word below ***\n",
    "    closest_index = distance.cdist(p, vectors, metric='cosine')\n",
    "    closest_index = np.array(closest_index)\n",
    "    idx = np.argpartition(closest_index[0], k)\n",
    "    indices = idx[:k]\n",
    "    df =  [None] * k \n",
    "    count=0\n",
    "    for i in indices:\n",
    "        a = ids[i]\n",
    "        df[count] = nlp.vocab[a].text\n",
    "        count =count+1\n",
    "        \n",
    "    return(df)"
   ]
  },
  {
   "cell_type": "markdown",
   "metadata": {},
   "source": [
    "Test your implementation by running the following code cell, which will print the 10 most similar words for the word *cheese*:"
   ]
  },
  {
   "cell_type": "code",
   "execution_count": 6,
   "metadata": {
    "scrolled": true
   },
   "outputs": [
    {
     "name": "stdout",
     "output_type": "stream",
     "text": [
      "['BACON', 'cheese', 'CHEESE', 'CHEDDAR', 'Cheese', 'Cheddar', 'bacon', 'cheddar', 'Bacon', 'CHEESES']\n"
     ]
    }
   ],
   "source": [
    "#print(\" \".join(w.text for w in most_similar(nlp.vocab[\"cheese\"].vector)))\n",
    "similar = most_similar(\"cheese\",k=10)\n",
    "print(similar)"
   ]
  },
  {
   "cell_type": "markdown",
   "metadata": {},
   "source": [
    "You should get the following output:"
   ]
  },
  {
   "cell_type": "raw",
   "metadata": {},
   "source": [
    "Cheese CHEESE cheese Cheddar cheddar CHEDDAR BACON Bacon bacon cheeses"
   ]
  },
  {
   "cell_type": "markdown",
   "metadata": {},
   "source": [
    "Once you have a working implementation of `most_similar`, use it to think about in what sense the returned words really are &lsquo;similar&rsquo; to the cue word. Try to find examples where the cue word and at least one of the words returned by `most_similar` are in the following semantic relations:\n",
    "\n",
    "1. synonymy (exchangeable meanings)\n",
    "2. antonymy (opposite meanings)\n",
    "3. hyperonymy/hyponymy (more specific/less specific meanings)\n",
    "\n",
    "Document your examples in the code cell below."
   ]
  },
  {
   "cell_type": "code",
   "execution_count": 7,
   "metadata": {},
   "outputs": [
    {
     "name": "stdout",
     "output_type": "stream",
     "text": [
      "['solos', 'PIANO', 'SOLOS', 'solo', 'Solo', 'SOLO', 'Solos', 'Piano', 'GUITAR', 'piano']\n"
     ]
    }
   ],
   "source": [
    "# TODO: Insert code here to generate your examples\n",
    "\n",
    "similar = most_similar(\"solo\",k=10)\n",
    "print(similar)"
   ]
  },
  {
   "cell_type": "markdown",
   "metadata": {},
   "source": [
    "Here with the word `solo` I was expecting words to be returned as `single`, `one`, or `double`. Instead we got something less specific like an association to the word `Piano solos` or `guitar solos` with which this word is used a lot. It also returns plural form \"solos\""
   ]
  },
  {
   "cell_type": "code",
   "execution_count": 8,
   "metadata": {},
   "outputs": [
    {
     "name": "stdout",
     "output_type": "stream",
     "text": [
      "['dry', 'DRYING', 'Drying', 'drying', 'wet', 'Dry', 'Wet', 'WET', 'DRY', 'Damp']\n"
     ]
    }
   ],
   "source": [
    "similar = most_similar(\"dry\",k=10)\n",
    "print(similar)"
   ]
  },
  {
   "cell_type": "markdown",
   "metadata": {},
   "source": [
    "With the word `dry` I received its verd form and opposites like `Wet` and `Damp`"
   ]
  },
  {
   "cell_type": "code",
   "execution_count": 9,
   "metadata": {},
   "outputs": [
    {
     "name": "stdout",
     "output_type": "stream",
     "text": [
      "['sizzling', 'hot', 'Hot', 'Sexy', 'sexy', 'HOT', 'SEXY', 'HoT', 'SIZZLING', 'Sizzling']\n"
     ]
    }
   ],
   "source": [
    "similar = most_similar(\"hot\",k=10)\n",
    "print(similar)"
   ]
  },
  {
   "cell_type": "markdown",
   "metadata": {},
   "source": [
    "With the word `hot` I got returned `sexy` which I would say is `hyperonym` and the word `sizzling` is used with food so again `hyperonym` "
   ]
  },
  {
   "cell_type": "code",
   "execution_count": 10,
   "metadata": {},
   "outputs": [
    {
     "name": "stdout",
     "output_type": "stream",
     "text": [
      "['CHILLY', 'cOLD', 'COLD', 'Cold', 'cold', 'chilly', 'Chilly', 'WARM', 'warm', 'Warm']\n"
     ]
    }
   ],
   "source": [
    "similar = most_similar(\"cold\",k=10)\n",
    "print(similar)"
   ]
  },
  {
   "cell_type": "markdown",
   "metadata": {},
   "source": [
    "With the word `cold` I received a `synonym` and an `antonym` warm"
   ]
  },
  {
   "cell_type": "code",
   "execution_count": 11,
   "metadata": {},
   "outputs": [],
   "source": [
    "# this is faster but without cosine similarity and I will be using this function to plot most similar words\n",
    "# reshape(1,300): 300 is the dimension of the vector of the word here\n",
    "def most_similar_noCosine(word,k):\n",
    "    most_similar = nlp.vocab.vectors.most_similar(nlp.vocab[word].vector.reshape(1,300), n=k)[0][0]\n",
    "    return[nlp.vocab.strings[key] for key in most_similar]\n"
   ]
  },
  {
   "cell_type": "code",
   "execution_count": 12,
   "metadata": {},
   "outputs": [
    {
     "data": {
      "text/plain": [
       "['Cheese',\n",
       " 'CHEESE',\n",
       " 'cheese',\n",
       " 'Cheddar',\n",
       " 'cheddar',\n",
       " 'CHEDDAR',\n",
       " 'BACON',\n",
       " 'Bacon',\n",
       " 'bacon',\n",
       " 'cheeses']"
      ]
     },
     "execution_count": 12,
     "metadata": {},
     "output_type": "execute_result"
    }
   ],
   "source": [
    "most_similar_noCosine(\"cheese\",k=10)"
   ]
  },
  {
   "cell_type": "markdown",
   "metadata": {},
   "source": [
    "## Problem 2: Plotting similar words"
   ]
  },
  {
   "cell_type": "markdown",
   "metadata": {},
   "source": [
    "Your next task is to visualize the word embedding space by a plot. To do so, you will have to reduce the dimensionality of the space from 300 to 2&nbsp;dimensions. One suitable algorithm for this is [T-distributed Stochastic Neighbor Embedding](https://en.wikipedia.org/wiki/T-distributed_stochastic_neighbor_embedding) (TSNE), which is implemented in scikit-learn&rsquo;s [TSNE](https://scikit-learn.org/stable/modules/generated/sklearn.manifold.TSNE.html) class.\n",
    "\n",
    "Write a function `plot_most_similar` that takes a list of words (lexemes) and does the following:\n",
    "\n",
    "1. For each word in the list, find the most similar words (lexemes) in the spaCy vocabulary.\n",
    "2. Compute the TSNE transformation of the corresponding vectors to 2&nbsp;dimensions.\n",
    "3. Produce a scatter plot of the transformed vectors, with the vectors as points and the corresponding word forms as labels."
   ]
  },
  {
   "cell_type": "code",
   "execution_count": 16,
   "metadata": {},
   "outputs": [],
   "source": [
    "# TODO: Write code here to plot the most similar words\n",
    "%matplotlib inline\n",
    "\n",
    "from sklearn.manifold import TSNE\n",
    "import matplotlib.pyplot as plt\n",
    "import seaborn as sns\n",
    "from itertools import chain, product\n",
    "\n",
    "def plot_most_similar(word,k=10):\n",
    "    ms_words = [most_similar_noCosine(i, k=k) for i in word]\n",
    "    ms_words = [x for x in chain(*ms_words)]\n",
    "    print(ms_words)\n",
    "    ms_vectors = [nlp.vocab[word].vector for word in ms_words]\n",
    "    y_trans = TSNE(n_components=2)\n",
    "    y_trans = y_trans.fit_transform(ms_vectors)\n",
    "    df_one = y_trans[:, 0]\n",
    "    df_two = y_trans[:, 1]\n",
    "    plt.scatter(df_one,df_two)\n",
    "    for index, value in enumerate(ms_words):\n",
    "        plt.annotate(value, (df_one[index], df_two[index]))\n",
    "    \n",
    "    sns.set(rc={'figure.figsize':(12,10)})\n",
    "    plt.show()"
   ]
  },
  {
   "cell_type": "markdown",
   "metadata": {},
   "source": [
    "Test your code by running the following cell:"
   ]
  },
  {
   "cell_type": "code",
   "execution_count": 17,
   "metadata": {},
   "outputs": [
    {
     "name": "stdout",
     "output_type": "stream",
     "text": [
      "['Cheese', 'CHEESE', 'cheese', 'Cheddar', 'cheddar', 'CHEDDAR', 'BACON', 'Bacon', 'bacon', 'cheeses', 'goat', 'GOAT', 'Goat', 'goats', 'GOATs', 'Goats', 'GOATS', 'CoW', 'COW', 'cow', 'Sweden', 'SWEDEN', 'sweden', 'FINLAND', 'Finland', 'finland', 'Norway', 'NORWAY', 'norway', 'Denmark', 'UNIVERSITY', 'university', 'University', 'College', 'college', 'COLLEGE', 'UNIVERSITIES', 'Universities', 'universities', 'colleges', 'Computer', 'COMPUTER', 'computer', 'COMPUTERS', 'computers', 'Computers', 'LAPTOP', 'laptop', 'Laptop', 'software']\n"
     ]
    },
    {
     "data": {
      "image/png": "[encoded data removed]",
      "text/plain": [
       "<Figure size 432x288 with 1 Axes>"
      ]
     },
     "metadata": {
      "needs_background": "light"
     },
     "output_type": "display_data"
    }
   ],
   "source": [
    "plot_most_similar(w for w in [\"cheese\", \"goat\", \"sweden\", \"university\", \"computer\"])"
   ]
  },
  {
   "cell_type": "markdown",
   "metadata": {},
   "source": [
    "## Problem 3: Analogies"
   ]
  },
  {
   "cell_type": "markdown",
   "metadata": {},
   "source": [
    "In a **word analogy task** you are given three words $x$, $y$, $z$ and have to predict a word $w$ that has the same semantic relation to $z$ as $y$ has to $x$. One example is *man*, *woman*, *brother*, the expected answer being *sister* (the semantic relation is *male*/*female*).\n",
    "\n",
    "[Mikolov et al. (2013)](http://www.aclweb.org/anthology/N13-1090) have shown that word analogy tasks can be solved by adding and substracting word vectors in a word embedding: the vector for *sister* is the closest vector (in terms of cosine distance) to the vector *brother* $-$ *man* $+$ *woman*. Your next task is to write a function `fourth` that takes in three words (say *brother*, *man*, *woman*) and predicts the word that completes the analogy (in this case, *sister*)."
   ]
  },
  {
   "cell_type": "code",
   "execution_count": 18,
   "metadata": {},
   "outputs": [],
   "source": [
    "# TODO: Enter code here to solve the analogy problem\n",
    "def most_similar_Co(x,y,z,k):\n",
    "    x = nlp.vocab[x].vector.reshape(1,300)\n",
    "    y = nlp.vocab[y].vector.reshape(1,300)\n",
    "    z = nlp.vocab[z].vector.reshape(1,300)\n",
    "    new_eq = x-y+z\n",
    "    most_similar = nlp.vocab.vectors.most_similar(new_eq, n=k)[0][0]\n",
    "    return[nlp.vocab.strings[key] for key in most_similar]\n",
    "\n",
    "def fourth(x,y,z):\n",
    "    return most_similar_Co(x,y,z, k=1)"
   ]
  },
  {
   "cell_type": "markdown",
   "metadata": {},
   "source": [
    "Test your code by running the following code. You should get *sister*."
   ]
  },
  {
   "cell_type": "code",
   "execution_count": 19,
   "metadata": {},
   "outputs": [
    {
     "data": {
      "text/plain": [
       "['SISTER']"
      ]
     },
     "execution_count": 19,
     "metadata": {},
     "output_type": "execute_result"
    }
   ],
   "source": [
    "fourth(\"brother\", \"man\", \"woman\")"
   ]
  },
  {
   "cell_type": "code",
   "execution_count": 20,
   "metadata": {},
   "outputs": [
    {
     "name": "stdout",
     "output_type": "stream",
     "text": [
      "['BERLIN']\n",
      "['FRENCH']\n",
      "['WORSE']\n",
      "['TOOK']\n"
     ]
    }
   ],
   "source": [
    "print(fourth(\"Stockholm\", \"Sweden\", \"Germany\"))\n",
    "print(fourth(\"Swedish\", \"Sweden\", \"France\"))\n",
    "print(fourth(\"better\", \"good\", \"bad\"))\n",
    "print(fourth(\"walked\", \"walk\", \"take\"))"
   ]
  },
  {
   "cell_type": "markdown",
   "metadata": {},
   "source": [
    "You should also be able to get the following:\n",
    "\n",
    "* *Stockholm* $-$ *Sweden* $+$ *Germany* $=$ *Berlin*\n",
    "* *Swedish* $-$ *Sweden* $+$ *France* $=$ *French*\n",
    "* *better* $-$ *good* $+$ *bad* $=$ *worse*\n",
    "* *walked* $-$ *walk* $+$ *take* $=$ *took*\n",
    "\n",
    "Experiment with other examples to see whether you get the expected output. Provide three examples of analogies for which the model produces the &lsquo;correct&rsquo; answer, and three examples on which the model &lsquo;failed&rsquo;. Based on your theoretical understanding of word embeddings, do you have a hypothesis as to why the model succeeds/fails in completing the analogy? Discuss this question in a short text."
   ]
  },
  {
   "cell_type": "markdown",
   "metadata": {},
   "source": [
    "*TODO: Insert your examples and your discussion here*"
   ]
  },
  {
   "cell_type": "code",
   "execution_count": 21,
   "metadata": {},
   "outputs": [
    {
     "name": "stdout",
     "output_type": "stream",
     "text": [
      "['GIRL']\n",
      "['womAn']\n",
      "['NEGATIVE']\n",
      "['WENT']\n"
     ]
    }
   ],
   "source": [
    "# Correct\n",
    "print(fourth(\"woman\", \"man\", \"boy\"))\n",
    "print(fourth(\"man\", \"king\", \"queen\"))\n",
    "print(fourth(\"positive\", \"happy\", \"angry\"))\n",
    "print(fourth('danced', 'dance' , 'go'))"
   ]
  },
  {
   "cell_type": "code",
   "execution_count": 22,
   "metadata": {},
   "outputs": [
    {
     "name": "stdout",
     "output_type": "stream",
     "text": [
      "['CANADA']\n",
      "['TEACHER']\n",
      "['BOOKS']\n",
      "['ouT']\n"
     ]
    }
   ],
   "source": [
    "# Failed\n",
    "print(fourth(\"Oslo\", \"Norway\", \"Canada\"))\n",
    "print(fourth(\"hospital\", \"doctor\", \"teacher\"))\n",
    "print(fourth('bus', 'buses' , 'books'))\n",
    "print(fourth('out', 'outdoor' , 'indoor'))"
   ]
  },
  {
   "cell_type": "markdown",
   "metadata": {},
   "source": [
    "## Natural language inference dataset"
   ]
  },
  {
   "cell_type": "markdown",
   "metadata": {},
   "source": [
    "In the second part of this lab, you will be evaluating the usefulness of word embeddings in the context of a natural language inference task. The data for this part is the [SNLI corpus](https://nlp.stanford.edu/projects/snli/), a collection of 570k human-written English image caption pairs manually labeled with the labels *Entailment*, *Contradiction*, and *Neutral*. Consider the following sentence pair as an example:\n",
    "\n",
    "* Sentence 1: A soccer game with multiple males playing.\n",
    "* Sentence 2: Some men are playing a sport.\n",
    "\n",
    "This pair is labeled with *Entailment*, because sentence&nbsp;2 is logically entailed (implied) by sentence&nbsp;1 – if sentence&nbsp;1 is true, then sentence&nbsp;2 is true, too. The following sentence pair, on the other hand, is labeled with *Contradiction*, because both sentences cannot be true at the same time.\n",
    "\n",
    "* Sentence 1: A black race car starts up in front of a crowd of people.\n",
    "* Sentence 2: A man is driving down a lonely road.\n",
    "\n",
    "For detailed information about the corpus, refer to [Bowman et al. (2015)](https://www.aclweb.org/anthology/D15-1075/). For this lab, we load the training portion and the development portion of the dataset.\n",
    "\n",
    "**Note:** Because the SNLI corpus is rather big, we initially only load a small portion (25,000 samples) of the training data. Once you have working code for Problems&nbsp;4–6, you should set the flag `final` to `True` and re-run all cells with the full dataset."
   ]
  },
  {
   "cell_type": "code",
   "execution_count": 23,
   "metadata": {},
   "outputs": [
    {
     "name": "stdout",
     "output_type": "stream",
     "text": [
      "Number of sentence pairs in the training data: 25000\n",
      "Number of sentence pairs in the development data: 9842\n"
     ]
    }
   ],
   "source": [
    "import bz2\n",
    "import pandas as pd\n",
    "\n",
    "final_evaluation = False    # TODO: Set to True for the final evaluation!\n",
    "\n",
    "with bz2.open(\"train.jsonl.bz2\", 'rt') as source:\n",
    "    if final_evaluation:\n",
    "        df_train = pd.read_json(source, lines=True)\n",
    "    else:\n",
    "        df_train = pd.read_json(source, lines=True)[:25000]\n",
    "    print(\"Number of sentence pairs in the training data:\", len(df_train))\n",
    "\n",
    "with bz2.open(\"dev.jsonl.bz2\", 'rt') as source:\n",
    "    df_dev = pd.read_json(source, lines=True)\n",
    "    print(\"Number of sentence pairs in the development data:\", len(df_dev))"
   ]
  },
  {
   "cell_type": "markdown",
   "metadata": {},
   "source": [
    "When you inspect the data frames, you will see that we have preprocessed the sentences and separated tokens by spaces. In the columns `tagged1` and `tagged2`, we have added the part-of-speech tags for every token (as predicted by spaCy), also separated by spaces."
   ]
  },
  {
   "cell_type": "code",
   "execution_count": 24,
   "metadata": {},
   "outputs": [
    {
     "data": {
      "text/html": [
       "<div>\n",
       "<style scoped>\n",
       "    .dataframe tbody tr th:only-of-type {\n",
       "        vertical-align: middle;\n",
       "    }\n",
       "\n",
       "    .dataframe tbody tr th {\n",
       "        vertical-align: top;\n",
       "    }\n",
       "\n",
       "    .dataframe thead th {\n",
       "        text-align: right;\n",
       "    }\n",
       "</style>\n",
       "<table border=\"1\" class=\"dataframe\">\n",
       "  <thead>\n",
       "    <tr style=\"text-align: right;\">\n",
       "      <th></th>\n",
       "      <th>gold_label</th>\n",
       "      <th>sentence1</th>\n",
       "      <th>sentence2</th>\n",
       "      <th>tags1</th>\n",
       "      <th>tags2</th>\n",
       "    </tr>\n",
       "  </thead>\n",
       "  <tbody>\n",
       "    <tr>\n",
       "      <th>0</th>\n",
       "      <td>neutral</td>\n",
       "      <td>A person on a horse jumps over a broken down a...</td>\n",
       "      <td>A person is training his horse for a competiti...</td>\n",
       "      <td>DET NOUN ADP DET NOUN VERB ADP DET ADJ ADP NOU...</td>\n",
       "      <td>DET NOUN AUX VERB PRON NOUN ADP DET NOUN PUNCT</td>\n",
       "    </tr>\n",
       "    <tr>\n",
       "      <th>1</th>\n",
       "      <td>contradiction</td>\n",
       "      <td>A person on a horse jumps over a broken down a...</td>\n",
       "      <td>A person is at a diner , ordering an omelette .</td>\n",
       "      <td>DET NOUN ADP DET NOUN VERB ADP DET ADJ ADP NOU...</td>\n",
       "      <td>DET NOUN AUX ADP DET NOUN PUNCT VERB DET NOUN ...</td>\n",
       "    </tr>\n",
       "    <tr>\n",
       "      <th>2</th>\n",
       "      <td>entailment</td>\n",
       "      <td>A person on a horse jumps over a broken down a...</td>\n",
       "      <td>A person is outdoors , on a horse .</td>\n",
       "      <td>DET NOUN ADP DET NOUN VERB ADP DET ADJ ADP NOU...</td>\n",
       "      <td>DET NOUN AUX ADV PUNCT ADP DET NOUN PUNCT</td>\n",
       "    </tr>\n",
       "    <tr>\n",
       "      <th>3</th>\n",
       "      <td>neutral</td>\n",
       "      <td>Children smiling and waving at camera</td>\n",
       "      <td>They are smiling at their parents</td>\n",
       "      <td>NOUN VERB CCONJ VERB ADP NOUN</td>\n",
       "      <td>PRON AUX VERB ADP PRON NOUN</td>\n",
       "    </tr>\n",
       "    <tr>\n",
       "      <th>4</th>\n",
       "      <td>entailment</td>\n",
       "      <td>Children smiling and waving at camera</td>\n",
       "      <td>There are children present</td>\n",
       "      <td>NOUN VERB CCONJ VERB ADP NOUN</td>\n",
       "      <td>PRON AUX NOUN ADJ</td>\n",
       "    </tr>\n",
       "  </tbody>\n",
       "</table>\n",
       "</div>"
      ],
      "text/plain": [
       "      gold_label                                          sentence1  \\\n",
       "0        neutral  A person on a horse jumps over a broken down a...   \n",
       "1  contradiction  A person on a horse jumps over a broken down a...   \n",
       "2     entailment  A person on a horse jumps over a broken down a...   \n",
       "3        neutral              Children smiling and waving at camera   \n",
       "4     entailment              Children smiling and waving at camera   \n",
       "\n",
       "                                           sentence2  \\\n",
       "0  A person is training his horse for a competiti...   \n",
       "1    A person is at a diner , ordering an omelette .   \n",
       "2                A person is outdoors , on a horse .   \n",
       "3                  They are smiling at their parents   \n",
       "4                         There are children present   \n",
       "\n",
       "                                               tags1  \\\n",
       "0  DET NOUN ADP DET NOUN VERB ADP DET ADJ ADP NOU...   \n",
       "1  DET NOUN ADP DET NOUN VERB ADP DET ADJ ADP NOU...   \n",
       "2  DET NOUN ADP DET NOUN VERB ADP DET ADJ ADP NOU...   \n",
       "3                      NOUN VERB CCONJ VERB ADP NOUN   \n",
       "4                      NOUN VERB CCONJ VERB ADP NOUN   \n",
       "\n",
       "                                               tags2  \n",
       "0     DET NOUN AUX VERB PRON NOUN ADP DET NOUN PUNCT  \n",
       "1  DET NOUN AUX ADP DET NOUN PUNCT VERB DET NOUN ...  \n",
       "2          DET NOUN AUX ADV PUNCT ADP DET NOUN PUNCT  \n",
       "3                        PRON AUX VERB ADP PRON NOUN  \n",
       "4                                  PRON AUX NOUN ADJ  "
      ]
     },
     "execution_count": 24,
     "metadata": {},
     "output_type": "execute_result"
    }
   ],
   "source": [
    "df_train.head()"
   ]
  },
  {
   "cell_type": "markdown",
   "metadata": {},
   "source": [
    "## Problem 4: Two simple baselines"
   ]
  },
  {
   "cell_type": "markdown",
   "metadata": {},
   "source": [
    "Your first task is to establish two simple baselines for the natural language inference task."
   ]
  },
  {
   "cell_type": "markdown",
   "metadata": {},
   "source": [
    "### Random baseline\n",
    "\n",
    "One drawback with the Most Frequent Class (MFC) baseline is that it does not yield well-defined precision and recall values for all classes. Here we therefore ask you to implement a classifier that generates *random* predictions, where the probability of a class is determined by its relative frequency in the training data. This functionality is provided by scikit-learn&rsquo;s [DummyClassifier](https://scikit-learn.org/stable/modules/generated/sklearn.dummy.DummyClassifier.html). Write code to evaluate the performance of this classifier on the development data."
   ]
  },
  {
   "cell_type": "code",
   "execution_count": 25,
   "metadata": {},
   "outputs": [
    {
     "name": "stdout",
     "output_type": "stream",
     "text": [
      "               precision    recall  f1-score   support\n",
      "\n",
      "contradiction       0.34      0.33      0.33      3278\n",
      "   entailment       0.34      0.34      0.34      3329\n",
      "      neutral       0.33      0.33      0.33      3235\n",
      "\n",
      "    micro avg       0.33      0.33      0.33      9842\n",
      "    macro avg       0.33      0.33      0.33      9842\n",
      " weighted avg       0.33      0.33      0.33      9842\n",
      "\n"
     ]
    }
   ],
   "source": [
    "# TODO: Enter code here to implement the random baseline. Print the classification report.\n",
    "from sklearn.dummy import DummyClassifier\n",
    "from sklearn.metrics import classification_report\n",
    "from sklearn import metrics\n",
    "dummy_clf = DummyClassifier(strategy='stratified', random_state=0)\n",
    "dummy_clf.fit(df_train[\"sentence1\"], df_train[\"gold_label\"])\n",
    "dummy_pred = dummy_clf.predict(df_dev[\"sentence2\"])\n",
    "\n",
    "#dummy_clf.score(training_data['words'],test_data['words'])\n",
    "print(classification_report(df_dev[\"gold_label\"], dummy_pred))"
   ]
  },
  {
   "cell_type": "code",
   "execution_count": 26,
   "metadata": {},
   "outputs": [
    {
     "data": {
      "text/plain": [
       "0.3338752286120707"
      ]
     },
     "execution_count": 26,
     "metadata": {},
     "output_type": "execute_result"
    }
   ],
   "source": [
    "metrics.accuracy_score(df_dev[\"gold_label\"], dummy_pred)"
   ]
  },
  {
   "cell_type": "markdown",
   "metadata": {},
   "source": [
    "### One-sided baseline\n",
    "\n",
    "A second obvious baseline for the inference task is to predict the class label of a sentence pair based on the text of only one of the two sentences, just as in a standard document classification task. Put together a simple [CountVectorizer](https://scikit-learn.org/stable/modules/generated/sklearn.feature_extraction.text.CountVectorizer.html) + [LogisticRegression](https://scikit-learn.org/stable/modules/generated/sklearn.linear_model.LogisticRegression.html) pipeline that implements this idea, train it, and evaluate it on the development data. Is it better to base predictions on sentence&nbsp;1 or sentence&nbsp;2?"
   ]
  },
  {
   "cell_type": "code",
   "execution_count": 98,
   "metadata": {},
   "outputs": [],
   "source": [
    "# TODO: Enter code here to implement the one-sentence baselines. Print the classification reports.\n",
    "from sklearn.pipeline import Pipeline\n",
    "from sklearn.feature_extraction.text import CountVectorizer, TfidfTransformer\n",
    "from sklearn.linear_model import LogisticRegression\n",
    "\n",
    "logisReg_clf = Pipeline(\n",
    "        steps=[('vector', CountVectorizer()),\n",
    "               ('clf', LogisticRegression(random_state=12345,solver='lbfgs', multi_class='multinomial', max_iter=1000))])\n",
    "               \n",
    "logisReg_clf.fit(df_train[\"sentence2\"], df_train[\"gold_label\"])\n",
    "y_pred = logisReg_clf.predict(df_dev[\"sentence2\"])"
   ]
  },
  {
   "cell_type": "code",
   "execution_count": null,
   "metadata": {},
   "outputs": [],
   "source": []
  },
  {
   "cell_type": "code",
   "execution_count": 99,
   "metadata": {
    "scrolled": true
   },
   "outputs": [
    {
     "name": "stdout",
     "output_type": "stream",
     "text": [
      "               precision    recall  f1-score   support\n",
      "\n",
      "contradiction       0.60      0.60      0.60      3278\n",
      "   entailment       0.59      0.65      0.62      3329\n",
      "      neutral       0.62      0.56      0.59      3235\n",
      "\n",
      "    micro avg       0.60      0.60      0.60      9842\n",
      "    macro avg       0.60      0.60      0.60      9842\n",
      " weighted avg       0.60      0.60      0.60      9842\n",
      "\n"
     ]
    }
   ],
   "source": [
    "y_true = df_dev[\"gold_label\"]\n",
    "print(classification_report(y_true, y_pred))"
   ]
  },
  {
   "cell_type": "code",
   "execution_count": 100,
   "metadata": {},
   "outputs": [
    {
     "data": {
      "text/plain": [
       "0.6021133915870758"
      ]
     },
     "execution_count": 100,
     "metadata": {},
     "output_type": "execute_result"
    }
   ],
   "source": [
    "metrics.accuracy_score(y_true, y_pred)"
   ]
  },
  {
   "cell_type": "markdown",
   "metadata": {},
   "source": [
    "In this case our Logistic regression for sentence 1 does not perform good as the accuracy is about 31%, which is much lower than our dummy classifier whose accuracy is 33%. Although I was expecting the accuracy to be much better with LogisticRegression. But we use sentence2 the predictions are much better as the accuracy reaches 60% with LogisticRegression\n"
   ]
  },
  {
   "cell_type": "markdown",
   "metadata": {},
   "source": [
    "## Problem 5: A classifier based on manually engineered features"
   ]
  },
  {
   "cell_type": "markdown",
   "metadata": {},
   "source": [
    "[Bowman et al., 2015](https://www.aclweb.org/anthology/D15-1075/) evaluate a classifier that uses (among others) **cross-unigram features**. This term is used to refer to pairs of unigrams $(w_1, w_2)$ such that $w_1$ occurs in sentence&nbsp;1, $w_2$ occurs in sentence&nbsp;2, and both have been assigned the same part-of-speech tag.\n",
    "\n",
    "Your next task is to implement the cross-unigram classifier. To this end, the next cell contains skeleton code for a transformer that you can use as the first component in a classification pipeline. This transformer converts each row of the SNLI data frame into a space-separated string consisting of\n",
    "\n",
    "* the standard unigrams (of sentence&nbsp;1 or sentence&nbsp;2 – this depends on your results in Problem&nbsp;4)\n",
    "* the cross-unigrams, as defined above.\n",
    "\n",
    "The space-separated string forms a new &lsquo;document&rsquo; that can be passed to a vectorizer in exactly the same way as a standard sentence in Problem&nbsp;4."
   ]
  },
  {
   "cell_type": "code",
   "execution_count": 113,
   "metadata": {},
   "outputs": [],
   "source": [
    "from sklearn.base import BaseEstimator, TransformerMixin\n",
    "from itertools import chain, product\n",
    "\n",
    "def bagit(keys, values):\n",
    "    abc = {}\n",
    "    for i, j in zip(keys, values):\n",
    "        abc.setdefault(i, []).append(j)\n",
    "    return abc\n",
    "\n",
    "class CrossUnigramsTransformer(BaseEstimator, TransformerMixin):\n",
    "    def __init__(self):\n",
    "        pass\n",
    "\n",
    "    def fit(self, X, y=None):\n",
    "        return self\n",
    "\n",
    "    # Vectorize a sentence-tag-sentence-tag quadruple.\n",
    "    def _transform(self, sentence1, tags1, sentence2, tags2):\n",
    "        # TODO: Replace the following line with your own code\n",
    "        bag1 = sentence1.split() \n",
    "        bag2 = sentence2.split() \n",
    "        tagbag1 = tags1.split()\n",
    "        tagbag2 = tags2.split()\n",
    "        bagit1 = bagit(tagbag1, bag1)\n",
    "        bagit2 = bagit(tagbag2, bag2)\n",
    "        combination = [list(product(bagit1[tag], bagit2[tag])) for tag in bagit2.keys() if tag in bagit1.keys()]\n",
    "        crossUniGram = [''.join(i) for i in chain(*combination)] \n",
    "        #bag2 = sentence2.split() \n",
    "        return \" \".join(crossUniGram+bag2)\n",
    "\n",
    "    def transform(self, X):       \n",
    "        return [self._transform(s1, t1, s2, t2) for s1, t1, s2, t2  in X]"
   ]
  },
  {
   "cell_type": "markdown",
   "metadata": {},
   "source": [
    "Once you have an implementation of the transformer, extend the pipeline that you built for Problem&nbsp;4, train it, and evaluate it on the development data."
   ]
  },
  {
   "cell_type": "code",
   "execution_count": 114,
   "metadata": {},
   "outputs": [
    {
     "name": "stdout",
     "output_type": "stream",
     "text": [
      "               precision    recall  f1-score   support\n",
      "\n",
      "contradiction       0.34      0.18      0.24      3278\n",
      "   entailment       0.34      0.49      0.40      3329\n",
      "      neutral       0.33      0.34      0.34      3235\n",
      "\n",
      "    micro avg       0.34      0.34      0.34      9842\n",
      "    macro avg       0.34      0.34      0.32      9842\n",
      " weighted avg       0.34      0.34      0.32      9842\n",
      "\n"
     ]
    }
   ],
   "source": [
    "gramClf = Pipeline([\n",
    "        ('gramsCross', CrossUnigramsTransformer()),\n",
    "        ('vector', CountVectorizer()),\n",
    "        ('clf', LogisticRegression( random_state=12345, solver='lbfgs', multi_class='multinomial')),\n",
    "])\n",
    "\n",
    "gramClf.fit(df_train.iloc[:,1:5].values, df_train[\"gold_label\"])\n",
    "predicted_cross = gramClf.predict(df_dev.iloc[:,1:5].values) \n",
    "print(classification_report(y_true = df_dev[\"gold_label\"], y_pred = predicted_cross))\n"
   ]
  },
  {
   "cell_type": "markdown",
   "metadata": {},
   "source": [
    "## Problem 6: A classifier based on word embeddings"
   ]
  },
  {
   "cell_type": "markdown",
   "metadata": {},
   "source": [
    "Your last task in this lab is to build a classifier for the natural language inference task that uses word embeddings. More specifically, we ask you to implement a vectorizer that represents each sentence as the sum of its word vectors – a representation known as the **continuous bag-of-words**. Thus, given that spaCy&rsquo;s word vectors have 300 dimensions, each sentence will be transformed into a 300-dimensional vector. To represent a sentence pair, the vectorizer should concatenate the vectors for the individual sentences; this yields a 600-dimensional vector. This vector can then be passed to a classifier.\n",
    "\n",
    "The next code cell contains skeleton code for the vectorizer. You will have to implement two methods: one that maps a single sentence to a vector (of length 300), and one that maps a sentence pair to a vector (of length 600)."
   ]
  },
  {
   "cell_type": "code",
   "execution_count": 120,
   "metadata": {},
   "outputs": [],
   "source": [
    "import numpy as np\n",
    "\n",
    "from sklearn.base import BaseEstimator, TransformerMixin\n",
    "\n",
    "class PairedSentenceVectorizer(BaseEstimator, TransformerMixin):\n",
    "    def __init__(self):\n",
    "        pass\n",
    "\n",
    "    def fit(self, X, y=None):\n",
    "        return self\n",
    "\n",
    "    # Vectorize a single sentence.\n",
    "    def _transform1(self, sentence):\n",
    "        # TODO: Replace the following line with your own code\n",
    "        s_vec = np.array([nlp.vocab[z].vector for z in sentence.split()])\n",
    "        return np.sum(s_vec, axis = 0)\n",
    "\n",
    "    # Vectorize a pair of sentences.\n",
    "    def _transform2(self, sentence1, sentence2):\n",
    "        # TODO: Replace the following line with your own code\n",
    "        s1_vec = self._transform1(sentence1)\n",
    "        s2_vec = self._transform1(sentence2)\n",
    "        \n",
    "        return np.concatenate((s1_vec, s2_vec)) #np.zeros(nlp.vocab.vectors.shape[1] * 2)\n",
    "\n",
    "    def transform(self, X):\n",
    "        return np.concatenate(\n",
    "            [self._transform2(s1, s2).reshape(1, -1) for s1,t1, s2,t2 in X]\n",
    "        )"
   ]
  },
  {
   "cell_type": "markdown",
   "metadata": {},
   "source": [
    "Once you have a working implementation, build a pipeline consisting of the new vectorizer and a [multi-layer perceptron classifier](https://scikit-learn.org/stable/modules/generated/sklearn.neural_network.MLPClassifier.html). This more powerful (compared to logistic regression) classifier is called for here because we do not specify features by hand (as we did in Problem&nbsp;5), but want to let the model learn a good representation of the data by itself. Use 3&nbsp;hidden layers, each with size 300. It suffices to train the classifier for 8&nbsp;iterations (epochs)."
   ]
  },
  {
   "cell_type": "code",
   "execution_count": 127,
   "metadata": {},
   "outputs": [
    {
     "name": "stderr",
     "output_type": "stream",
     "text": [
      "/anaconda3/lib/python3.7/site-packages/sklearn/neural_network/multilayer_perceptron.py:562: ConvergenceWarning: Stochastic Optimizer: Maximum iterations (15) reached and the optimization hasn't converged yet.\n",
      "  % self.max_iter, ConvergenceWarning)\n"
     ]
    },
    {
     "name": "stdout",
     "output_type": "stream",
     "text": [
      "               precision    recall  f1-score   support\n",
      "\n",
      "contradiction       0.33      0.00      0.00      3278\n",
      "   entailment       0.33      0.00      0.00      3329\n",
      "      neutral       0.33      1.00      0.49      3235\n",
      "\n",
      "    micro avg       0.33      0.33      0.33      9842\n",
      "    macro avg       0.33      0.33      0.17      9842\n",
      " weighted avg       0.33      0.33      0.16      9842\n",
      "\n"
     ]
    }
   ],
   "source": [
    "# TODO: Enter code here to implement the word embeddings classifier. Print the classification report.\n",
    "\n",
    "from sklearn.neural_network import MLPClassifier\n",
    "mlpclf = Pipeline([\n",
    "    ('psv', PairedSentenceVectorizer()),\n",
    "    ('mpl', MLPClassifier(hidden_layer_sizes = (300,300,300),max_iter=15))\n",
    "])\n",
    "\n",
    "mlpclf.fit(df_train.iloc[:,1:5].values.tolist(), df_train.iloc[:,0])\n",
    "predicted_mlp = mlpclf.predict(df_dev.iloc[:,1:5].values.tolist()) \n",
    "print(classification_report(y_true = df_dev[\"gold_label\"], y_pred = predicted_mlp))"
   ]
  },
  {
   "cell_type": "markdown",
   "metadata": {},
   "source": [
    "## Final evaluation"
   ]
  },
  {
   "cell_type": "markdown",
   "metadata": {},
   "source": [
    "Once you have working code for all problems, re-run the code for Problems&nbsp;4–6 with the full training data. What are your results? How do they differ from the results that you obtained for the smaller training data? How do you interpret this? Summarize your findings in a short text."
   ]
  },
  {
   "cell_type": "markdown",
   "metadata": {},
   "source": [
    "*TODO: Insert your discussion of the experimental results here*"
   ]
  },
  {
   "cell_type": "markdown",
   "metadata": {},
   "source": [
    "<div class=\"alert alert-info\">\n",
    "    Please read the section ‘General information’ on the ‘Labs’ page of the course website before submitting this notebook!\n",
    "</div>"
   ]
  }
 ],
 "metadata": {
  "kernelspec": {
   "display_name": "Python 3",
   "language": "python",
   "name": "python3"
  },
  "language_info": {
   "codemirror_mode": {
    "name": "ipython",
    "version": 3
   },
   "file_extension": ".py",
   "mimetype": "text/x-python",
   "name": "python",
   "nbconvert_exporter": "python",
   "pygments_lexer": "ipython3",
   "version": "3.7.3"
  }
 },
 "nbformat": 4,
 "nbformat_minor": 2
}
