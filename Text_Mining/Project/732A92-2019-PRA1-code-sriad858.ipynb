{
 "cells": [
  {
   "cell_type": "code",
   "execution_count": 1,
   "metadata": {},
   "outputs": [],
   "source": [
    "import os\n",
    "import time\n",
    "import numpy as np\n",
    "import pandas as pd\n",
    "import matplotlib.pyplot as plt\n",
    "\n",
    "import re\n",
    "import nltk\n",
    "from nltk.corpus import stopwords\n",
    "from nltk.stem import WordNetLemmatizer\n",
    "\n",
    "from sklearn.model_selection import train_test_split\n",
    "from sklearn.feature_extraction.text import TfidfVectorizer\n",
    "from sklearn.linear_model import LogisticRegression\n",
    "from sklearn.metrics import f1_score\n",
    "\n",
    "import gensim\n",
    "\n",
    "for dirname, _, filenames in os.walk('/kaggle/input'):\n",
    "    for filename in filenames:\n",
    "        print(os.path.join(dirname, filename))"
   ]
  },
  {
   "cell_type": "markdown",
   "metadata": {},
   "source": [
    "### Utils"
   ]
  },
  {
   "cell_type": "code",
   "execution_count": 2,
   "metadata": {},
   "outputs": [],
   "source": [
    "import pickle\n",
    "\n",
    "def savePickle(fn, var):\n",
    "    pickle_out = open(fn+\".pickle\",\"wb\")\n",
    "    pickle.dump(var, pickle_out)\n",
    "    pickle_out.close()\n",
    "\n",
    "def loadPickle(fn):\n",
    "    pickle_in = open(fn+\".pickle\",\"rb\")\n",
    "    var = pickle.load(pickle_in)\n",
    "    pickle_in.close()\n",
    "    return var"
   ]
  },
  {
   "cell_type": "markdown",
   "metadata": {},
   "source": [
    "## Dataset used\n",
    "URL: https://www.kaggle.com/snapcrack/all-the-news\n",
    "\n",
    "The dataset was downloaded from Kaggle.\n",
    "\n",
    "The dataset is split into three files named articles1.csv, articles2.csv and articles3.csv"
   ]
  },
  {
   "cell_type": "code",
   "execution_count": 3,
   "metadata": {},
   "outputs": [
    {
     "data": {
      "text/plain": [
       "(142570, 3)"
      ]
     },
     "execution_count": 3,
     "metadata": {},
     "output_type": "execute_result"
    }
   ],
   "source": [
    "#read data\n",
    "data1 = pd.read_csv(\"data/articles1.csv\", index_col=0).drop([\"url\", \"author\", \"id\", \"date\", \"year\", \"month\"], axis=1)\n",
    "data2 = pd.read_csv(\"data/articles2.csv\", index_col=0).drop([\"url\", \"author\", \"id\", \"date\", \"year\", \"month\"], axis=1)\n",
    "data3 = pd.read_csv(\"data/articles3.csv\", index_col=0).drop([\"url\", \"author\", \"id\", \"date\", \"year\", \"month\"], axis=1)\n",
    "data = pd.concat([data1, data2, data3])\n",
    "del data1, data2, data3\n",
    "data.shape"
   ]
  },
  {
   "cell_type": "markdown",
   "metadata": {},
   "source": [
    "#### Distribution of the data in 20 groups"
   ]
  },
  {
   "cell_type": "code",
   "execution_count": 4,
   "metadata": {},
   "outputs": [
    {
     "data": {
      "text/plain": [
       "publication\n",
       "Fox News                4354\n",
       "Buzzfeed News           4854\n",
       "Vox                     4947\n",
       "Talking Points Memo     5213\n",
       "National Review         6203\n",
       "Business Insider        6757\n",
       "Atlantic                7179\n",
       "New York Times          7803\n",
       "Guardian                8681\n",
       "Reuters                10709\n",
       "Washington Post        11114\n",
       "CNN                    11488\n",
       "NPR                    11992\n",
       "New York Post          17493\n",
       "Breitbart              23781\n",
       "Name: title, dtype: int64"
      ]
     },
     "execution_count": 4,
     "metadata": {},
     "output_type": "execute_result"
    }
   ],
   "source": [
    "data.groupby(\"publication\").count().title.sort_values()"
   ]
  },
  {
   "cell_type": "markdown",
   "metadata": {},
   "source": [
    "## Selecting a subset of data\n",
    "The dataset contains 20 news groups, but only a subset of 5 news groups were used in this project due to lack of computational resources.\n",
    "\n",
    "The five news groups were selected in such a way that the number of articles from each group remain approximately similar.\n",
    "\n",
    "The five groups select are: \"Guardian\", \"Reuters\", \"Washington Post\", \"CNN\" and \"NPR\"."
   ]
  },
  {
   "cell_type": "code",
   "execution_count": 5,
   "metadata": {},
   "outputs": [
    {
     "name": "stdout",
     "output_type": "stream",
     "text": [
      "Shape of the dataset :  (53985, 3)\n"
     ]
    },
    {
     "data": {
      "text/html": [
       "<div>\n",
       "<style scoped>\n",
       "    .dataframe tbody tr th:only-of-type {\n",
       "        vertical-align: middle;\n",
       "    }\n",
       "\n",
       "    .dataframe tbody tr th {\n",
       "        vertical-align: top;\n",
       "    }\n",
       "\n",
       "    .dataframe thead th {\n",
       "        text-align: right;\n",
       "    }\n",
       "</style>\n",
       "<table border=\"1\" class=\"dataframe\">\n",
       "  <thead>\n",
       "    <tr style=\"text-align: right;\">\n",
       "      <th></th>\n",
       "      <th>title</th>\n",
       "      <th>publication</th>\n",
       "      <th>content</th>\n",
       "    </tr>\n",
       "  </thead>\n",
       "  <tbody>\n",
       "    <tr>\n",
       "      <th>31592</th>\n",
       "      <td>Istanbul attack: Dozens killed at nightclub</td>\n",
       "      <td>CNN</td>\n",
       "      <td>Istanbul (CNN) At least 39 people were killed ...</td>\n",
       "    </tr>\n",
       "    <tr>\n",
       "      <th>31593</th>\n",
       "      <td>Alabama, Clemson back in national title game</td>\n",
       "      <td>CNN</td>\n",
       "      <td>Atlanta (CNN) This season’s College Football P...</td>\n",
       "    </tr>\n",
       "    <tr>\n",
       "      <th>31594</th>\n",
       "      <td>New year celebrations ring in 2017</td>\n",
       "      <td>CNN</td>\n",
       "      <td>(CNN) Revelers on the United States’ west coa...</td>\n",
       "    </tr>\n",
       "    <tr>\n",
       "      <th>31595</th>\n",
       "      <td>Trump says he has inside information on hacking</td>\n",
       "      <td>CNN</td>\n",
       "      <td>West Palm Beach, Florida (CNN)  Donald Trump s...</td>\n",
       "    </tr>\n",
       "    <tr>\n",
       "      <th>31596</th>\n",
       "      <td>3 dead in Texas plane crash collision</td>\n",
       "      <td>CNN</td>\n",
       "      <td>(CNN) Two small planes collided in Texas on S...</td>\n",
       "    </tr>\n",
       "  </tbody>\n",
       "</table>\n",
       "</div>"
      ],
      "text/plain": [
       "                                                 title publication  \\\n",
       "31592      Istanbul attack: Dozens killed at nightclub         CNN   \n",
       "31593     Alabama, Clemson back in national title game         CNN   \n",
       "31594               New year celebrations ring in 2017         CNN   \n",
       "31595  Trump says he has inside information on hacking         CNN   \n",
       "31596            3 dead in Texas plane crash collision         CNN   \n",
       "\n",
       "                                                 content  \n",
       "31592  Istanbul (CNN) At least 39 people were killed ...  \n",
       "31593  Atlanta (CNN) This season’s College Football P...  \n",
       "31594   (CNN) Revelers on the United States’ west coa...  \n",
       "31595  West Palm Beach, Florida (CNN)  Donald Trump s...  \n",
       "31596   (CNN) Two small planes collided in Texas on S...  "
      ]
     },
     "execution_count": 5,
     "metadata": {},
     "output_type": "execute_result"
    }
   ],
   "source": [
    "data = data[data.publication.isin([\"Guardian\", \"Reuters\", \"Washington Post\", \"CNN\", \"NPR\"])]\n",
    "print(\"Shape of the dataset : \", data.shape)\n",
    "data.head()"
   ]
  },
  {
   "cell_type": "markdown",
   "metadata": {},
   "source": [
    "## Preprocess articles title and content"
   ]
  },
  {
   "cell_type": "code",
   "execution_count": 6,
   "metadata": {},
   "outputs": [
    {
     "data": {
      "text/plain": [
       "title          1\n",
       "publication    0\n",
       "content        0\n",
       "dtype: int64"
      ]
     },
     "execution_count": 6,
     "metadata": {},
     "output_type": "execute_result"
    }
   ],
   "source": [
    "#checking if the data contains any na values\n",
    "data.isna().sum()"
   ]
  },
  {
   "cell_type": "code",
   "execution_count": 7,
   "metadata": {},
   "outputs": [
    {
     "data": {
      "text/plain": [
       "title          0\n",
       "publication    0\n",
       "content        0\n",
       "dtype: int64"
      ]
     },
     "execution_count": 7,
     "metadata": {},
     "output_type": "execute_result"
    }
   ],
   "source": [
    "#replacing na values with empty string \n",
    "data.fillna(\"\", inplace=True)\n",
    "data.isna().sum()"
   ]
  },
  {
   "cell_type": "code",
   "execution_count": 8,
   "metadata": {},
   "outputs": [],
   "source": [
    "## Removing special characters, \n",
    "## Keeps all words, numbers and alphanumerics\n",
    "def cleanObservations(text):\n",
    "    #remove pumtuations and line change and tabs\n",
    "    text = text.lower()\n",
    "    text = re.sub(r\"[^A-Za-z0-9 ]|\\b\\w{1}\\b\", \" \", text)\n",
    "    text = \" \".join(re.sub(r\"(^| )\\d+\\w+|(^| )\\d+\", \" \", text).split())\n",
    "    return removeStopWords_Lemm(text)\n",
    "\n",
    "#remove stop words and lemmatize the words\n",
    "lemmatizer = WordNetLemmatizer()\n",
    "def removeStopWords_Lemm(text): \n",
    "    rsw = []\n",
    "    stop_words = stopwords.words(\"english\")\n",
    "    for word in text.split():\n",
    "        if word not in stop_words:\n",
    "            rsw.append(lemmatizer.lemmatize(word))\n",
    "    return \" \".join(rsw)\n",
    "\n",
    "def loadProcessedData():\n",
    "    if os.path.exists(\"Data/processedData.pickle\"):\n",
    "        data = loadPickle(\"Data/processedData\")\n",
    "    else:\n",
    "        data[\"PCon\"] = data.content.apply(cleanObservations)\n",
    "        data[\"PTit\"] = data.title.apply(cleanObservations)\n",
    "        data[\"PTitCon\"] = data[\"PTit\"] + \" \" + data[\"PCon\"]\n",
    "        data[\"word_count_content\"] = data.PTitCon.apply(str.split).apply(len)\n",
    "    return data"
   ]
  },
  {
   "cell_type": "code",
   "execution_count": 60,
   "metadata": {},
   "outputs": [
    {
     "data": {
      "text/html": [
       "<div>\n",
       "<style scoped>\n",
       "    .dataframe tbody tr th:only-of-type {\n",
       "        vertical-align: middle;\n",
       "    }\n",
       "\n",
       "    .dataframe tbody tr th {\n",
       "        vertical-align: top;\n",
       "    }\n",
       "\n",
       "    .dataframe thead th {\n",
       "        text-align: right;\n",
       "    }\n",
       "</style>\n",
       "<table border=\"1\" class=\"dataframe\">\n",
       "  <thead>\n",
       "    <tr style=\"text-align: right;\">\n",
       "      <th></th>\n",
       "      <th>publication</th>\n",
       "      <th>PCon</th>\n",
       "      <th>PTit</th>\n",
       "      <th>PTitCon</th>\n",
       "      <th>word_count_content</th>\n",
       "    </tr>\n",
       "  </thead>\n",
       "  <tbody>\n",
       "    <tr>\n",
       "      <th>31592</th>\n",
       "      <td>CNN</td>\n",
       "      <td>istanbul cnn least people killed least wounded...</td>\n",
       "      <td>istanbul attack dozen killed nightclub</td>\n",
       "      <td>istanbul attack dozen killed nightclub istanbu...</td>\n",
       "      <td>550</td>\n",
       "    </tr>\n",
       "    <tr>\n",
       "      <th>31593</th>\n",
       "      <td>CNN</td>\n",
       "      <td>atlanta cnn season college football playoff ce...</td>\n",
       "      <td>alabama clemson back national title game</td>\n",
       "      <td>alabama clemson back national title game atlan...</td>\n",
       "      <td>503</td>\n",
       "    </tr>\n",
       "    <tr>\n",
       "      <th>31594</th>\n",
       "      <td>CNN</td>\n",
       "      <td>cnn reveler united state west coast cheered ad...</td>\n",
       "      <td>new year celebration ring</td>\n",
       "      <td>new year celebration ring cnn reveler united s...</td>\n",
       "      <td>507</td>\n",
       "    </tr>\n",
       "    <tr>\n",
       "      <th>31595</th>\n",
       "      <td>CNN</td>\n",
       "      <td>west palm beach florida cnn donald trump said ...</td>\n",
       "      <td>trump say inside information hacking</td>\n",
       "      <td>trump say inside information hacking west palm...</td>\n",
       "      <td>333</td>\n",
       "    </tr>\n",
       "    <tr>\n",
       "      <th>31596</th>\n",
       "      <td>CNN</td>\n",
       "      <td>cnn two small plane collided texas saturday ki...</td>\n",
       "      <td>dead texas plane crash collision</td>\n",
       "      <td>dead texas plane crash collision cnn two small...</td>\n",
       "      <td>62</td>\n",
       "    </tr>\n",
       "  </tbody>\n",
       "</table>\n",
       "</div>"
      ],
      "text/plain": [
       "      publication                                               PCon  \\\n",
       "31592         CNN  istanbul cnn least people killed least wounded...   \n",
       "31593         CNN  atlanta cnn season college football playoff ce...   \n",
       "31594         CNN  cnn reveler united state west coast cheered ad...   \n",
       "31595         CNN  west palm beach florida cnn donald trump said ...   \n",
       "31596         CNN  cnn two small plane collided texas saturday ki...   \n",
       "\n",
       "                                           PTit  \\\n",
       "31592    istanbul attack dozen killed nightclub   \n",
       "31593  alabama clemson back national title game   \n",
       "31594                 new year celebration ring   \n",
       "31595      trump say inside information hacking   \n",
       "31596          dead texas plane crash collision   \n",
       "\n",
       "                                                 PTitCon  word_count_content  \n",
       "31592  istanbul attack dozen killed nightclub istanbu...                 550  \n",
       "31593  alabama clemson back national title game atlan...                 503  \n",
       "31594  new year celebration ring cnn reveler united s...                 507  \n",
       "31595  trump say inside information hacking west palm...                 333  \n",
       "31596  dead texas plane crash collision cnn two small...                  62  "
      ]
     },
     "execution_count": 60,
     "metadata": {},
     "output_type": "execute_result"
    }
   ],
   "source": [
    "data = loadProcessedData()\n",
    "data.drop([\"title\", \"content\"], axis=1, inplace=True)\n",
    "data.head()"
   ]
  },
  {
   "cell_type": "code",
   "execution_count": 61,
   "metadata": {},
   "outputs": [
    {
     "data": {
      "text/plain": [
       "[<matplotlib.lines.Line2D at 0x7efe0383e080>]"
      ]
     },
     "execution_count": 61,
     "metadata": {},
     "output_type": "execute_result"
    },
    {
     "data": {
      "image/png": "[encoded data removed]",
      "text/plain": [
       "<Figure size 432x288 with 1 Axes>"
      ]
     },
     "metadata": {
      "needs_background": "light"
     },
     "output_type": "display_data"
    }
   ],
   "source": [
    "plt.plot(range(data.shape[0]), data.word_count_content)"
   ]
  },
  {
   "cell_type": "markdown",
   "metadata": {},
   "source": [
    "The plot above shows that majority of the articles are of length less than 5000 words. There are a few outliers that have more than 10,000 words."
   ]
  },
  {
   "cell_type": "markdown",
   "metadata": {},
   "source": [
    "## Split Data into train, validation and test"
   ]
  },
  {
   "cell_type": "code",
   "execution_count": 62,
   "metadata": {},
   "outputs": [
    {
     "data": {
      "text/plain": [
       "((34550, 5), (8638, 5), (10797, 5))"
      ]
     },
     "execution_count": 62,
     "metadata": {},
     "output_type": "execute_result"
    }
   ],
   "source": [
    "train, test, _, _ =  train_test_split(data, data.publication, test_size=0.20, random_state=1234)\n",
    "train, validation, _, _ =  train_test_split(train, train.publication, test_size=0.20, random_state=1234)\n",
    "train.reset_index(inplace=True, drop=True)\n",
    "validation.reset_index(inplace=True, drop=True)\n",
    "test.reset_index(inplace=True, drop=True)\n",
    "del data\n",
    "train.shape, validation.shape, test.shape"
   ]
  },
  {
   "cell_type": "markdown",
   "metadata": {},
   "source": [
    "## Fit LDA using Gensim and visualize it"
   ]
  },
  {
   "cell_type": "code",
   "execution_count": 12,
   "metadata": {},
   "outputs": [],
   "source": [
    "import warnings\n",
    "import logging\n",
    "import shutil\n",
    "\n",
    "### LDA Functions\n",
    "def bigrams(words, bi_min=15, tri_min=10):\n",
    "    bigram = gensim.models.Phrases(words, min_count = bi_min)\n",
    "    bigram_mod = gensim.models.phrases.Phraser(bigram)\n",
    "    return bigram_mod\n",
    "\n",
    "    \n",
    "def get_corpus(observations):\n",
    "    words = observations.map(str.split)\n",
    "    bigram_mod = bigrams(words)\n",
    "    bigram = [bigram_mod[w] for w in words]\n",
    "    id2word = gensim.corpora.Dictionary(bigram)\n",
    "    id2word.filter_extremes(no_below=10, no_above=0.35)\n",
    "    id2word.compactify()\n",
    "    corpus = [id2word.doc2bow(text) for text in bigram]\n",
    "    return corpus, id2word\n",
    "\n",
    "def get_valCorpus(ldaModel, observations):\n",
    "    words = observations.map(str.split)\n",
    "    bigram_mod = bigrams(words)\n",
    "    bigram = [bigram_mod[w] for w in words]\n",
    "    corpus = [ldaModel.id2word.doc2bow(text) for text in bigram]\n",
    "    return genDocVectors(ldaModel, corpus)\n",
    "\n",
    "def genDocVectors(lda_mod, data_corpus):\n",
    "    doc_vecs = []\n",
    "    for i in range(len(data_corpus)):\n",
    "        top_topics = lda_mod.get_document_topics(data_corpus[i], minimum_probability=0.0)\n",
    "        topic_vec = [top_topics[i][1] for i in range(lda_mod.num_topics)]\n",
    "        doc_vecs.append(topic_vec)\n",
    "    doc_vecs = np.array(doc_vecs)\n",
    "    return doc_vecs\n",
    "\n",
    "def train_lda(colName, numTopics=40):\n",
    "    fileName = \"Data/ExtractedFeatures/\" + colName + str(numTopics)\n",
    "    \n",
    "    print(\"Generating corpus--\")\n",
    "    train_corpus, train_id2word = get_corpus(train[colName])\n",
    "\n",
    "    if os.path.exists(fileName):\n",
    "        shutil.rmtree(fileName)\n",
    "        print(\"Removed existing model folder--\")\n",
    "    os.mkdir(fileName)\n",
    "    print(\"Created new folder--\")\n",
    "    \n",
    "    logging.basicConfig(filename=fileName + '/lda_model.log', format='%(asctime)s : %(levelname)s : %(message)s', level=logging.INFO)\n",
    "    \n",
    "    print(\"Starting LDA Training--\")\n",
    "    with warnings.catch_warnings():\n",
    "        warnings.simplefilter('ignore')\n",
    "        lda_train = gensim.models.ldamulticore.LdaMulticore(\n",
    "                               corpus=train_corpus,\n",
    "                               num_topics=numTopics,\n",
    "                               id2word=train_id2word,\n",
    "                               chunksize=100,\n",
    "                               workers=7, # Num. Processing Cores - 1\n",
    "                               passes=50,\n",
    "                               eval_every = 1,\n",
    "                               per_word_topics=True)\n",
    "        lda_train.save(fileName + '/lda_train.model')\n",
    "        \n",
    "    #train_vecs = genDocVectors(lda_train, train_corpus)\n",
    "    #savePickle(fileName + \"/ldaDocVecs\", train_vecs)\n",
    "    return lda_train\n",
    "\n",
    "\n",
    "def loadLdaModel(colName, numTopics=40):\n",
    "    fileName = \"Data/ExtractedFeatures/\" + colName + str(numTopics)\n",
    "    if os.path.exists(fileName):\n",
    "        lda_train = gensim.models.ldamulticore.LdaMulticore.load(fileName + \"/lda_train.model\")\n",
    "    else:\n",
    "        print(\"Could not find trained model to load!! Training a new model....\")\n",
    "        start = time.time()\n",
    "        lda_train = train_lda(colName, numTopics)\n",
    "        print(\"Time taken to train LDA model : \", time.time() - start)\n",
    "\n",
    "    return lda_train\n",
    "\n",
    "def loadLdaFeatures(colName, numTopics=40):\n",
    "    fileName = \"Data/ExtractedFeaturesPickles/\" + colName + str(numTopics)\n",
    "    fext = True\n",
    "    for pt in [\"_tr\", \"_val\", \"_te\"]:\n",
    "        fext = fext & os.path.exists(fileName + pt + \".pickle\")\n",
    "        \n",
    "    if fext == True:\n",
    "        train_fet = loadPickle(fileName + \"_tr\")\n",
    "        val_fet = loadPickle(fileName + \"_val\")\n",
    "        test_fet = loadPickle(fileName + \"_te\")\n",
    "    else:\n",
    "        print(\"Could not find extracted features to load!! Extracting features....\")\n",
    "        mod = loadLdaModel(\"PTitCon\", numTopics)\n",
    "        train_fet = get_valCorpus(mod, train.PTitCon)\n",
    "        savePickle(fileName + \"_tr\", train_fet)\n",
    "        val_fet = get_valCorpus(mod, validation.PTitCon)\n",
    "        savePickle(fileName + \"_val\", val_fet)\n",
    "        test_fet = get_valCorpus(mod, test.PTitCon)\n",
    "        savePickle(fileName + \"_te\", test_fet)\n",
    "\n",
    "    return train_fet, val_fet, test_fet"
   ]
  },
  {
   "cell_type": "markdown",
   "metadata": {},
   "source": [
    "#### Training LDA models with number of topics in range 20 to 200"
   ]
  },
  {
   "cell_type": "code",
   "execution_count": 13,
   "metadata": {},
   "outputs": [
    {
     "name": "stdout",
     "output_type": "stream",
     "text": [
      "Tpoics  20\n",
      "Tpoics  40\n",
      "Tpoics  60\n",
      "Tpoics  80\n",
      "Tpoics  100\n",
      "Tpoics  120\n",
      "Tpoics  140\n",
      "Tpoics  160\n",
      "Tpoics  180\n",
      "Tpoics  200\n"
     ]
    }
   ],
   "source": [
    "for i in range(1,11):\n",
    "    topics = i * 20\n",
    "    print(\"Tpoics \", topics)\n",
    "    _ = loadLdaModel(\"PTitCon\", topics)"
   ]
  },
  {
   "cell_type": "markdown",
   "metadata": {},
   "source": [
    "The time taken to train the LDA models were recorded in a list.\n",
    "\n",
    "It can be seen from the plot that the training time for the LDA model goes up really fast."
   ]
  },
  {
   "cell_type": "code",
   "execution_count": 14,
   "metadata": {},
   "outputs": [
    {
     "data": {
      "text/plain": [
       "[<matplotlib.lines.Line2D at 0x7efea6609668>]"
      ]
     },
     "execution_count": 14,
     "metadata": {},
     "output_type": "execute_result"
    },
    {
     "data": {
      "image/png": "[encoded data removed]",
      "text/plain": [
       "<Figure size 432x288 with 1 Axes>"
      ]
     },
     "metadata": {
      "needs_background": "light"
     },
     "output_type": "display_data"
    }
   ],
   "source": [
    "lda_train_time = np.array([3152, 6847, 7061, 11806, 9040, 10096, 11353, 12771, 13868, 14204])/60\n",
    "plt.plot(range(20, 201, 20), lda_train_time)"
   ]
  },
  {
   "cell_type": "markdown",
   "metadata": {},
   "source": [
    "#### LDA with Logistic"
   ]
  },
  {
   "cell_type": "code",
   "execution_count": 15,
   "metadata": {},
   "outputs": [],
   "source": [
    "def testLdaTopics():\n",
    "    res_lda_top = {}\n",
    "\n",
    "    for topics in range(20, 201, 20):\n",
    "        print(topics)\n",
    "        tst = time.time()\n",
    "        \n",
    "        mod = loadLdaModel(\"PTitCon\", topics)\n",
    "        tr_lda, val_lda, _ = loadLdaFeatures(\"PTitCon\", topics)\n",
    "        \n",
    "\n",
    "        lr_clf = LogisticRegression(random_state=1234, solver=\"saga\")\n",
    "        lr_clf.fit(tr_lda, train.publication)\n",
    "\n",
    "        a = pd.DataFrame({\"act\":train.publication, \"pred\":lr_clf.predict(tr_lda)})\n",
    "        tr_acc = sum(a.act == a.pred)/len(a)\n",
    "        tr_f1 = f1_score(a.act, a.pred, average=\"weighted\")\n",
    "\n",
    "        a = pd.DataFrame({\"act\":validation.publication, \"pred\":lr_clf.predict(val_lda)})\n",
    "        val_acc = sum(a.act == a.pred)/len(a)\n",
    "        val_f1 = f1_score(a.act, a.pred, average=\"weighted\")\n",
    "\n",
    "        res_lda_top[topics] = (tr_acc, tr_f1, val_acc, val_f1, time.time()-tst)\n",
    "        print(topics, res_lda_top[topics])\n",
    "\n",
    "        del a, tr_acc, tr_f1, val_acc, val_f1, tr_lda, val_lda, mod\n",
    "    return res_lda_top"
   ]
  },
  {
   "cell_type": "code",
   "execution_count": 17,
   "metadata": {},
   "outputs": [
    {
     "data": {
      "text/plain": [
       "<matplotlib.axes._subplots.AxesSubplot at 0x7efea23cd748>"
      ]
     },
     "execution_count": 17,
     "metadata": {},
     "output_type": "execute_result"
    },
    {
     "data": {
      "image/png": "[encoded data removed]",
      "text/plain": [
       "<Figure size 432x288 with 1 Axes>"
      ]
     },
     "metadata": {
      "needs_background": "light"
     },
     "output_type": "display_data"
    }
   ],
   "source": [
    "if os.path.exists(\"results_lda_topics_sel.csv\"):\n",
    "    res_lda_top_df = pd.read_csv(\"results_lda_topics_sel.csv\", index_col=0)\n",
    "else:\n",
    "    res_lda_top = testLdaTopics()\n",
    "    res_lda_top_df = pd.DataFrame(res_lda_top).transpose()\n",
    "    res_lda_top_df.columns = [\"Train Acc\", \"Train F1\", \"Val Acc\", \"Val F1\", \"Time to train\"]\n",
    "    res_lda_top_df.to_csv(\"results_lda_topics_sel.csv\")\n",
    "\n",
    "res_lda_top_df.drop([\"Time to train\", \"Train F1\", \"Val F1\"], axis=1).plot()"
   ]
  },
  {
   "cell_type": "markdown",
   "metadata": {},
   "source": [
    "#### LDA with SVM"
   ]
  },
  {
   "cell_type": "code",
   "execution_count": 32,
   "metadata": {},
   "outputs": [],
   "source": [
    "from sklearn.svm import SVC\n",
    "\n",
    "def testLdaTopicsSVM(st=20, en=201, stp=20):\n",
    "    res_lda_top = {}\n",
    "\n",
    "    for topics in range(st, en, stp):\n",
    "        print(topics)\n",
    "        tst = time.time()\n",
    "        \n",
    "        mod = loadLdaModel(\"PTitCon\", topics)\n",
    "        tr_lda, val_lda, _ = loadLdaFeatures(\"PTitCon\", topics)\n",
    "        \n",
    "\n",
    "        sv_clf = SVC(kernel=\"linear\")\n",
    "        sv_clf.fit(tr_lda, train.publication)\n",
    "\n",
    "        a = pd.DataFrame({\"act\":train.publication, \"pred\":sv_clf.predict(tr_lda)})\n",
    "        tr_acc = sum(a.act == a.pred)/len(a)\n",
    "        tr_f1 = f1_score(a.act, a.pred, average=\"weighted\")\n",
    "\n",
    "        a = pd.DataFrame({\"act\":validation.publication, \"pred\":sv_clf.predict(val_lda)})\n",
    "        val_acc = sum(a.act == a.pred)/len(a)\n",
    "        val_f1 = f1_score(a.act, a.pred, average=\"weighted\")\n",
    "\n",
    "        res_lda_top[topics] = (tr_acc, tr_f1, val_acc, val_f1, time.time()-tst)\n",
    "        print(topics, res_lda_top[topics])\n",
    "\n",
    "        del a, tr_acc, tr_f1, val_acc, val_f1, tr_lda, val_lda, mod, sv_clf\n",
    "    return res_lda_top"
   ]
  },
  {
   "cell_type": "code",
   "execution_count": 30,
   "metadata": {},
   "outputs": [
    {
     "data": {
      "text/plain": [
       "<matplotlib.axes._subplots.AxesSubplot at 0x7efea1bd2860>"
      ]
     },
     "execution_count": 30,
     "metadata": {},
     "output_type": "execute_result"
    },
    {
     "data": {
      "image/png": "[encoded data removed]",
      "text/plain": [
       "<Figure size 432x288 with 1 Axes>"
      ]
     },
     "metadata": {
      "needs_background": "light"
     },
     "output_type": "display_data"
    }
   ],
   "source": [
    "if os.path.exists(\"results_lda_svm_topics_sel.csv\"):\n",
    "    res_lda_svm_top_df = pd.read_csv(\"results_lda_svm_topics_sel.csv\", index_col=0)\n",
    "else:\n",
    "    res_lda_svm_top = testLdaTopicsSVM()\n",
    "    res_lda_svm_top_df = pd.DataFrame(res_lda_svm_top).transpose()\n",
    "    res_lda_svm_top_df.columns = [\"Train Acc\", \"Train F1\", \"Val Acc\", \"Val F1\", \"Time to train\"]\n",
    "    res_lda_svm_top_df.to_csv(\"results_lda_svm_topics_sel.csv\")\n",
    "\n",
    "res_lda_svm_top_df.drop([\"Time to train\", \"Train F1\", \"Val F1\"], axis=1).plot()"
   ]
  },
  {
   "cell_type": "code",
   "execution_count": null,
   "metadata": {},
   "outputs": [],
   "source": []
  },
  {
   "cell_type": "markdown",
   "metadata": {},
   "source": [
    "## Generate Vocabulary"
   ]
  },
  {
   "cell_type": "code",
   "execution_count": 18,
   "metadata": {},
   "outputs": [],
   "source": [
    "def genVocab(articles):\n",
    "    global wordsCount\n",
    "    for art in articles:\n",
    "        docWords = set()\n",
    "        for word in art.split():\n",
    "            try:\n",
    "                wordsCount[word][0] += 1\n",
    "                if word not in docWords:\n",
    "                    wordsCount[word][1] += 1\n",
    "                    docWords.add(word)\n",
    "            except:\n",
    "                wordsCount[word] = [1, 1]"
   ]
  },
  {
   "cell_type": "code",
   "execution_count": 19,
   "metadata": {},
   "outputs": [],
   "source": [
    "wordsCount = {}\n",
    "genVocab(train.PTitCon.to_list())\n",
    "wordsCount = pd.DataFrame({\"Words\":list(wordsCount.keys()), \"WordCount\":list(wordsCount.values())})\n",
    "wordsCount[['Count','DocCount']] = pd.DataFrame(wordsCount.WordCount.values.tolist(), index= wordsCount.index)\n",
    "wordsCount.drop(\"WordCount\", axis=1, inplace=True)"
   ]
  },
  {
   "cell_type": "markdown",
   "metadata": {},
   "source": [
    "Count of unique words in the text fields of the datset."
   ]
  },
  {
   "cell_type": "code",
   "execution_count": 20,
   "metadata": {},
   "outputs": [
    {
     "data": {
      "text/plain": [
       "141803"
      ]
     },
     "execution_count": 20,
     "metadata": {},
     "output_type": "execute_result"
    }
   ],
   "source": [
    "len(wordsCount)"
   ]
  },
  {
   "cell_type": "markdown",
   "metadata": {},
   "source": [
    "Top 10 words that occur in most of the documents."
   ]
  },
  {
   "cell_type": "code",
   "execution_count": 21,
   "metadata": {},
   "outputs": [
    {
     "data": {
      "text/html": [
       "<div>\n",
       "<style scoped>\n",
       "    .dataframe tbody tr th:only-of-type {\n",
       "        vertical-align: middle;\n",
       "    }\n",
       "\n",
       "    .dataframe tbody tr th {\n",
       "        vertical-align: top;\n",
       "    }\n",
       "\n",
       "    .dataframe thead th {\n",
       "        text-align: right;\n",
       "    }\n",
       "</style>\n",
       "<table border=\"1\" class=\"dataframe\">\n",
       "  <thead>\n",
       "    <tr style=\"text-align: right;\">\n",
       "      <th></th>\n",
       "      <th>Words</th>\n",
       "      <th>Count</th>\n",
       "      <th>DocCount</th>\n",
       "    </tr>\n",
       "  </thead>\n",
       "  <tbody>\n",
       "    <tr>\n",
       "      <th>41</th>\n",
       "      <td>said</td>\n",
       "      <td>181723</td>\n",
       "      <td>27210</td>\n",
       "    </tr>\n",
       "    <tr>\n",
       "      <th>412</th>\n",
       "      <td>one</td>\n",
       "      <td>70408</td>\n",
       "      <td>25187</td>\n",
       "    </tr>\n",
       "    <tr>\n",
       "      <th>32</th>\n",
       "      <td>year</td>\n",
       "      <td>66204</td>\n",
       "      <td>23641</td>\n",
       "    </tr>\n",
       "    <tr>\n",
       "      <th>763</th>\n",
       "      <td>would</td>\n",
       "      <td>69868</td>\n",
       "      <td>22825</td>\n",
       "    </tr>\n",
       "    <tr>\n",
       "      <th>73</th>\n",
       "      <td>also</td>\n",
       "      <td>48689</td>\n",
       "      <td>22805</td>\n",
       "    </tr>\n",
       "    <tr>\n",
       "      <th>292</th>\n",
       "      <td>time</td>\n",
       "      <td>50565</td>\n",
       "      <td>21815</td>\n",
       "    </tr>\n",
       "    <tr>\n",
       "      <th>85</th>\n",
       "      <td>new</td>\n",
       "      <td>55649</td>\n",
       "      <td>21279</td>\n",
       "    </tr>\n",
       "    <tr>\n",
       "      <th>440</th>\n",
       "      <td>people</td>\n",
       "      <td>67505</td>\n",
       "      <td>21188</td>\n",
       "    </tr>\n",
       "    <tr>\n",
       "      <th>311</th>\n",
       "      <td>say</td>\n",
       "      <td>70924</td>\n",
       "      <td>19492</td>\n",
       "    </tr>\n",
       "    <tr>\n",
       "      <th>241</th>\n",
       "      <td>could</td>\n",
       "      <td>41091</td>\n",
       "      <td>19100</td>\n",
       "    </tr>\n",
       "  </tbody>\n",
       "</table>\n",
       "</div>"
      ],
      "text/plain": [
       "      Words   Count  DocCount\n",
       "41     said  181723     27210\n",
       "412     one   70408     25187\n",
       "32     year   66204     23641\n",
       "763   would   69868     22825\n",
       "73     also   48689     22805\n",
       "292    time   50565     21815\n",
       "85      new   55649     21279\n",
       "440  people   67505     21188\n",
       "311     say   70924     19492\n",
       "241   could   41091     19100"
      ]
     },
     "execution_count": 21,
     "metadata": {},
     "output_type": "execute_result"
    }
   ],
   "source": [
    "wordsCount.sort_values(by=\"DocCount\", ascending=False)[:10]"
   ]
  },
  {
   "cell_type": "markdown",
   "metadata": {},
   "source": [
    "Top 10 words that occur most number of times in the data corpus."
   ]
  },
  {
   "cell_type": "code",
   "execution_count": 22,
   "metadata": {},
   "outputs": [
    {
     "data": {
      "text/html": [
       "<div>\n",
       "<style scoped>\n",
       "    .dataframe tbody tr th:only-of-type {\n",
       "        vertical-align: middle;\n",
       "    }\n",
       "\n",
       "    .dataframe tbody tr th {\n",
       "        vertical-align: top;\n",
       "    }\n",
       "\n",
       "    .dataframe thead th {\n",
       "        text-align: right;\n",
       "    }\n",
       "</style>\n",
       "<table border=\"1\" class=\"dataframe\">\n",
       "  <thead>\n",
       "    <tr style=\"text-align: right;\">\n",
       "      <th></th>\n",
       "      <th>Words</th>\n",
       "      <th>Count</th>\n",
       "      <th>DocCount</th>\n",
       "    </tr>\n",
       "  </thead>\n",
       "  <tbody>\n",
       "    <tr>\n",
       "      <th>41</th>\n",
       "      <td>said</td>\n",
       "      <td>181723</td>\n",
       "      <td>27210</td>\n",
       "    </tr>\n",
       "    <tr>\n",
       "      <th>190</th>\n",
       "      <td>trump</td>\n",
       "      <td>120540</td>\n",
       "      <td>13224</td>\n",
       "    </tr>\n",
       "    <tr>\n",
       "      <th>311</th>\n",
       "      <td>say</td>\n",
       "      <td>70924</td>\n",
       "      <td>19492</td>\n",
       "    </tr>\n",
       "    <tr>\n",
       "      <th>412</th>\n",
       "      <td>one</td>\n",
       "      <td>70408</td>\n",
       "      <td>25187</td>\n",
       "    </tr>\n",
       "    <tr>\n",
       "      <th>763</th>\n",
       "      <td>would</td>\n",
       "      <td>69868</td>\n",
       "      <td>22825</td>\n",
       "    </tr>\n",
       "    <tr>\n",
       "      <th>440</th>\n",
       "      <td>people</td>\n",
       "      <td>67505</td>\n",
       "      <td>21188</td>\n",
       "    </tr>\n",
       "    <tr>\n",
       "      <th>32</th>\n",
       "      <td>year</td>\n",
       "      <td>66204</td>\n",
       "      <td>23641</td>\n",
       "    </tr>\n",
       "    <tr>\n",
       "      <th>350</th>\n",
       "      <td>state</td>\n",
       "      <td>63364</td>\n",
       "      <td>18274</td>\n",
       "    </tr>\n",
       "    <tr>\n",
       "      <th>85</th>\n",
       "      <td>new</td>\n",
       "      <td>55649</td>\n",
       "      <td>21279</td>\n",
       "    </tr>\n",
       "    <tr>\n",
       "      <th>292</th>\n",
       "      <td>time</td>\n",
       "      <td>50565</td>\n",
       "      <td>21815</td>\n",
       "    </tr>\n",
       "  </tbody>\n",
       "</table>\n",
       "</div>"
      ],
      "text/plain": [
       "      Words   Count  DocCount\n",
       "41     said  181723     27210\n",
       "190   trump  120540     13224\n",
       "311     say   70924     19492\n",
       "412     one   70408     25187\n",
       "763   would   69868     22825\n",
       "440  people   67505     21188\n",
       "32     year   66204     23641\n",
       "350   state   63364     18274\n",
       "85      new   55649     21279\n",
       "292    time   50565     21815"
      ]
     },
     "execution_count": 22,
     "metadata": {},
     "output_type": "execute_result"
    }
   ],
   "source": [
    "wordsCount.sort_values(by=\"Count\", ascending=False)[:10]"
   ]
  },
  {
   "cell_type": "markdown",
   "metadata": {},
   "source": [
    "## TF-IDF"
   ]
  },
  {
   "cell_type": "markdown",
   "metadata": {},
   "source": [
    "#### Selecting max features for TF-IDF"
   ]
  },
  {
   "cell_type": "markdown",
   "metadata": {},
   "source": [
    "#### TF-IDF with Logistic"
   ]
  },
  {
   "cell_type": "code",
   "execution_count": 23,
   "metadata": {},
   "outputs": [],
   "source": [
    "#arguments will be multiplied by 1000\n",
    "def testTfIdfMaxf(start=1, end=31, step=1):\n",
    "    res_tf_fet = {}\n",
    "\n",
    "    for i in range(start, end, step):\n",
    "        print(i*1000)\n",
    "        tst = time.time()\n",
    "        tf = TfidfVectorizer(max_features=i*1000, ngram_range=(1,3))\n",
    "        train_tf = tf.fit_transform(train.PTitCon).todense()\n",
    "        val_tf = tf.transform(validation.PTitCon).todense()\n",
    "\n",
    "        lr_clf = LogisticRegression(random_state=1234, solver=\"saga\")\n",
    "        lr_clf.fit(train_tf, train.publication)\n",
    "\n",
    "        a = pd.DataFrame({\"act\":train.publication, \"pred\":lr_clf.predict(train_tf)})\n",
    "        tr_acc = sum(a.act == a.pred)/len(a)\n",
    "        tr_f1 = f1_score(a.act, a.pred, average=\"weighted\")\n",
    "\n",
    "        a = pd.DataFrame({\"act\":validation.publication, \"pred\":lr_clf.predict(val_tf)})\n",
    "        val_acc = sum(a.act == a.pred)/len(a)\n",
    "        val_f1 = f1_score(a.act, a.pred, average=\"weighted\")\n",
    "\n",
    "        res_tf_fet[i*1000] = (tr_acc, tr_f1, val_acc, val_f1, time.time()-tst)\n",
    "        print(i, res_tf_fet[i*1000])\n",
    "\n",
    "        del a, tr_acc, val_acc, tr_f1, val_f1, train_tf, val_tf, tf\n",
    "    return res_tf_fet"
   ]
  },
  {
   "cell_type": "code",
   "execution_count": 25,
   "metadata": {},
   "outputs": [
    {
     "data": {
      "text/plain": [
       "<matplotlib.axes._subplots.AxesSubplot at 0x7efea12bc7f0>"
      ]
     },
     "execution_count": 25,
     "metadata": {},
     "output_type": "execute_result"
    },
    {
     "data": {
      "image/png": "[encoded data removed]",
      "text/plain": [
       "<Figure size 432x288 with 1 Axes>"
      ]
     },
     "metadata": {
      "needs_background": "light"
     },
     "output_type": "display_data"
    }
   ],
   "source": [
    "if os.path.exists(\"results_tf_fet_sel.csv\"):\n",
    "    res_tf_fet_df = pd.read_csv(\"results_tf_fet_sel.csv\", index_col=0)\n",
    "else:\n",
    "    res_tf_fet = testTfIdfMaxf(1,31)\n",
    "    res_tf_fet_df = pd.DataFrame(res_tf_fet).transpose()\n",
    "    res_tf_fet_df.columns = [\"Train Acc\", \"Train F1\", \"Val Acc\", \"Val F1\", \"Time to train\"]\n",
    "    res_tf_fet_df.to_csv(\"results_tf_fet_sel.csv\")\n",
    "    res_tf_fet_df.drop([\"Time to train\", \"Train F1\", \"Val F1\"], axis=1).plot()\n",
    "\n",
    "res_tf_fet_df.drop([\"Time to train\", \"Train F1\", \"Val F1\"], axis=1).plot()"
   ]
  },
  {
   "cell_type": "markdown",
   "metadata": {},
   "source": [
    "#### TF-IDF with SVM"
   ]
  },
  {
   "cell_type": "code",
   "execution_count": 42,
   "metadata": {},
   "outputs": [],
   "source": [
    "#arguments will be multiplied by 1000\n",
    "def testTfIdfMaxfSVM(start=1, end=31, step=1):\n",
    "    res_tf_svm_fet = {}\n",
    "\n",
    "    for i in range(start, end, step):\n",
    "        print(i*1000)\n",
    "        tst = time.time()\n",
    "        tf = TfidfVectorizer(max_features=i*1000, ngram_range=(1,3))\n",
    "        train_tf = tf.fit_transform(train.PTitCon).todense()\n",
    "        val_tf = tf.transform(validation.PTitCon).todense()\n",
    "\n",
    "        sv_clf = SVC(kernel=\"linear\")\n",
    "        sv_clf.fit(train_tf, train.publication)\n",
    "\n",
    "        a = pd.DataFrame({\"act\":train.publication, \"pred\":sv_clf.predict(train_tf)})\n",
    "        tr_acc = sum(a.act == a.pred)/len(a)\n",
    "        tr_f1 = f1_score(a.act, a.pred, average=\"weighted\")\n",
    "\n",
    "        a = pd.DataFrame({\"act\":validation.publication, \"pred\":sv_clf.predict(val_tf)})\n",
    "        val_acc = sum(a.act == a.pred)/len(a)\n",
    "        val_f1 = f1_score(a.act, a.pred, average=\"weighted\")\n",
    "\n",
    "        res_tf_svm_fet[i*1000] = (tr_acc, tr_f1, val_acc, val_f1, time.time()-tst)\n",
    "        print(i, res_tf_svm_fet[i*1000])\n",
    "\n",
    "        del a, tr_acc, val_acc, tr_f1, val_f1, train_tf, val_tf, tf\n",
    "    return res_tf_svm_fet"
   ]
  },
  {
   "cell_type": "code",
   "execution_count": 45,
   "metadata": {},
   "outputs": [
    {
     "data": {
      "text/plain": [
       "<matplotlib.axes._subplots.AxesSubplot at 0x7efdfb4cad30>"
      ]
     },
     "execution_count": 45,
     "metadata": {},
     "output_type": "execute_result"
    },
    {
     "data": {
      "image/png": "[encoded data removed]",
      "text/plain": [
       "<Figure size 432x288 with 1 Axes>"
      ]
     },
     "metadata": {
      "needs_background": "light"
     },
     "output_type": "display_data"
    }
   ],
   "source": [
    "if os.path.exists(\"results_tf_svm_fet_sel.csv\"):\n",
    "    res_tf_svm_fet_df = pd.read_csv(\"results_tf_svm_fet_sel.csv\", index_col=0)\n",
    "else:\n",
    "    res_tf_svm_fet = testTfIdfMaxfSVM(1,11)\n",
    "    res_tf_svm_fet_df = pd.DataFrame(res_tf_svm_fet).transpose()\n",
    "    res_tf_svm_fet_df.columns = [\"Train Acc\", \"Train F1\", \"Val Acc\", \"Val F1\", \"Time to train\"]\n",
    "    res_tf_svm_fet_df.to_csv(\"results_tf_svm_fet_sel.csv\")\n",
    "\n",
    "res_tf_svm_fet_df.drop([\"Time to train\", \"Train F1\", \"Val F1\"], axis=1).plot()"
   ]
  },
  {
   "cell_type": "code",
   "execution_count": null,
   "metadata": {},
   "outputs": [],
   "source": []
  },
  {
   "cell_type": "markdown",
   "metadata": {},
   "source": [
    "## Visualize Results"
   ]
  },
  {
   "cell_type": "markdown",
   "metadata": {},
   "source": [
    "#### TF-IDF number of features selection"
   ]
  },
  {
   "cell_type": "code",
   "execution_count": 71,
   "metadata": {},
   "outputs": [
    {
     "data": {
      "image/png": "[encoded data removed]",
      "text/plain": [
       "<Figure size 720x504 with 1 Axes>"
      ]
     },
     "metadata": {
      "needs_background": "light"
     },
     "output_type": "display_data"
    }
   ],
   "source": [
    "res1 = pd.read_csv(\"results_tf_fet_sel.csv\", index_col=0).drop([\"Train F1\", \"Val F1\", \"Time to train\"], axis=1)\n",
    "res1.columns = [\"Train Logistic\", \"Validation Logistic\"]\n",
    "res2 = pd.read_csv(\"results_tf_svm_fet_sel.csv\", index_col=0).drop([\"Train F1\", \"Val F1\", \"Time to train\"], axis=1)\n",
    "res2.columns = [\"Train SVM\", \"Validation SVM\"]\n",
    "res = pd.concat([res1, res2])\n",
    "ax = res.plot(title=\"Accuracy by Max Features in TF-IDF\", figsize=(10,7))\n",
    "ax.set_xlabel(\"Maximum Features\")\n",
    "ax.set_ylabel(\"Prediction Accuracy\")\n",
    "ax.axvline(5000, color='gray', linestyle='--')\n",
    "ax.get_figure().savefig(\"tfidf_fet_sel.png\")"
   ]
  },
  {
   "cell_type": "markdown",
   "metadata": {},
   "source": [
    "#### LDA number of topics selection"
   ]
  },
  {
   "cell_type": "code",
   "execution_count": 56,
   "metadata": {},
   "outputs": [
    {
     "data": {
      "image/png": "[encoded data removed]",
      "text/plain": [
       "<Figure size 720x504 with 1 Axes>"
      ]
     },
     "metadata": {
      "needs_background": "light"
     },
     "output_type": "display_data"
    }
   ],
   "source": [
    "res1 = pd.read_csv(\"results_lda_topics_sel.csv\", index_col=0).drop([\"Train F1\", \"Val F1\", \"Time to train\"], axis=1)\n",
    "res1.columns = [\"Train Logistic\", \"Validation Logistic\"]\n",
    "res2 = pd.read_csv(\"results_lda_svm_topics_sel.csv\", index_col=0).drop([\"Train F1\", \"Val F1\", \"Time to train\"], axis=1)\n",
    "res2.columns = [\"Train SVM\", \"Validation SVM\"]\n",
    "res = pd.concat([res1, res2])\n",
    "ax = res.plot(title=\"Accuracy by Number of Topics in LDA\", figsize=(10,7))\n",
    "ax.set_xlabel(\"Maximum Features\")\n",
    "ax.set_ylabel(\"Prediction Accuracy\")\n",
    "ax.axvline(160, color='gray', linestyle='--')\n",
    "ax.get_figure().savefig(\"lda_top_sel.png\")"
   ]
  },
  {
   "cell_type": "code",
   "execution_count": null,
   "metadata": {},
   "outputs": [],
   "source": []
  },
  {
   "cell_type": "markdown",
   "metadata": {},
   "source": [
    "#### Visualize LDA topics"
   ]
  },
  {
   "cell_type": "code",
   "execution_count": 67,
   "metadata": {},
   "outputs": [],
   "source": [
    "from sklearn.manifold import TSNE\n",
    "import matplotlib.pyplot as plt\n",
    "import seaborn as sns\n",
    "import random\n",
    "\n",
    "def plot_docs(numTopics=40, name=\"\"):\n",
    "    doc_vecs = loadPickle(\"Data/ExtractedFeaturesPickles/PTitCon\"+str(numTopics)+\"_tr\")\n",
    "    doc_class = []\n",
    "    inds = []\n",
    "    classes = train.publication.unique()\n",
    "    for cl in classes:\n",
    "        sam = train[train.publication == cl].index.to_list()\n",
    "        inds.extend(random.sample(sam, 200))\n",
    "    docs = np.array(doc_vecs[inds])\n",
    "    n = len(inds)\n",
    "    #docs = random.sample(train_vecs, n)\n",
    "    dvm = np.zeros((n, doc_vecs.shape[1]))\n",
    "    c = 0\n",
    "    for doc in docs:\n",
    "        _ = doc.reshape(doc_vecs.shape[1],1)\n",
    "        dvm[c,:] = doc\n",
    "        doc_class.append(train.iloc[inds[c]].publication)\n",
    "        c += 1\n",
    "    red_dvm = TSNE(n_components=2, random_state=1234).fit_transform(dvm)\n",
    "    df = pd.DataFrame({\"x\":red_dvm[:, 0], \"y\":red_dvm[:, 1], \"label\":doc_class})\n",
    "    \n",
    "    sns.scatterplot(x=\"x\", y=\"y\", hue=\"label\", data=df)\n",
    "    lgd = plt.legend(bbox_to_anchor=(1.05, 1), loc=2, borderaxespad=0.)\n",
    "    if name != \"\":\n",
    "        plt.savefig(name+\".png\", bbox_extra_artists=(lgd, ), bbox_inches='tight')\n",
    "    plt.show()"
   ]
  },
  {
   "cell_type": "code",
   "execution_count": 69,
   "metadata": {},
   "outputs": [
    {
     "data": {
      "image/png": "[encoded data removed]",
      "text/plain": [
       "<Figure size 432x288 with 1 Axes>"
      ]
     },
     "metadata": {
      "needs_background": "light"
     },
     "output_type": "display_data"
    }
   ],
   "source": [
    "plot_docs(160, \"lda160_viz.png\")"
   ]
  },
  {
   "cell_type": "code",
   "execution_count": null,
   "metadata": {},
   "outputs": [],
   "source": []
  },
  {
   "cell_type": "code",
   "execution_count": null,
   "metadata": {},
   "outputs": [],
   "source": []
  },
  {
   "cell_type": "markdown",
   "metadata": {},
   "source": [
    "## Best Classifiers Results"
   ]
  },
  {
   "cell_type": "code",
   "execution_count": 75,
   "metadata": {},
   "outputs": [],
   "source": [
    "def checkPreformance(mod, tr, val, te):\n",
    "    a = pd.DataFrame({\"act\":train.publication, \"pred\":mod.predict(tr)})\n",
    "    tr_acc = sum(a.act == a.pred)/len(a)\n",
    "    tr_f1 = f1_score(a.act, a.pred, average=\"weighted\")\n",
    "    print(\"Training Dataset Accuracy :\", tr_acc)\n",
    "    print(\"Training Dataset F1 :\", tr_f1)\n",
    "\n",
    "    a = pd.DataFrame({\"act\":validation.publication, \"pred\":mod.predict(val)})\n",
    "    val_acc = sum(a.act == a.pred)/len(a)\n",
    "    val_f1 = f1_score(a.act, a.pred, average=\"weighted\")\n",
    "    print(\"Validation Dataset Accuracy :\", val_acc)\n",
    "    print(\"Validation Dataset F1 :\", val_f1)\n",
    "    \n",
    "    a = pd.DataFrame({\"act\":test.publication, \"pred\":mod.predict(te)})\n",
    "    te_acc = sum(a.act == a.pred)/len(a)\n",
    "    te_f1 = f1_score(a.act, a.pred, average=\"weighted\")\n",
    "    print(\"Test Dataset Accuracy :\", te_acc)\n",
    "    print(\"Test Dataset F1 :\", te_f1)"
   ]
  },
  {
   "cell_type": "markdown",
   "metadata": {},
   "source": [
    "#### LDA"
   ]
  },
  {
   "cell_type": "code",
   "execution_count": 77,
   "metadata": {},
   "outputs": [],
   "source": [
    "tr_lda, val_lda, te_lda = loadLdaFeatures(\"PTitCon\", 160)"
   ]
  },
  {
   "cell_type": "markdown",
   "metadata": {},
   "source": [
    "###### Logistic"
   ]
  },
  {
   "cell_type": "code",
   "execution_count": 78,
   "metadata": {},
   "outputs": [
    {
     "name": "stdout",
     "output_type": "stream",
     "text": [
      "Training Dataset Accuracy : 0.5736613603473227\n",
      "Training Dataset F1 : 0.5694610686608421\n",
      "Validation Dataset Accuracy : 0.5639036814077333\n",
      "Validation Dataset F1 : 0.5602418792565961\n",
      "Test Dataset Accuracy : 0.567657682689636\n",
      "Test Dataset F1 : 0.564601366946962\n"
     ]
    }
   ],
   "source": [
    "lr_clf_lda = LogisticRegression(random_state=1234, solver=\"saga\")\n",
    "lr_clf_lda.fit(tr_lda, train.publication)\n",
    "checkPreformance(lr_clf_lda, tr_lda, val_lda, te_lda)"
   ]
  },
  {
   "cell_type": "markdown",
   "metadata": {},
   "source": [
    "###### SVM"
   ]
  },
  {
   "cell_type": "code",
   "execution_count": 83,
   "metadata": {},
   "outputs": [
    {
     "name": "stdout",
     "output_type": "stream",
     "text": [
      "Training Dataset Accuracy : 0.6872937771345875\n",
      "Training Dataset F1 : 0.6856639542182597\n",
      "Validation Dataset Accuracy : 0.618082889557768\n",
      "Validation Dataset F1 : 0.6180557031897302\n",
      "Test Dataset Accuracy : 0.6213763082337687\n",
      "Test Dataset F1 : 0.6205345683639447\n"
     ]
    }
   ],
   "source": [
    "sv_clf_lda = SVC(kernel=\"linear\")\n",
    "sv_clf_lda.fit(tr_lda, train.publication)\n",
    "checkPreformance(sv_clf_lda, tr_lda, val_lda, te_lda)"
   ]
  },
  {
   "cell_type": "markdown",
   "metadata": {},
   "source": [
    "#### TF-IDF"
   ]
  },
  {
   "cell_type": "code",
   "execution_count": 88,
   "metadata": {},
   "outputs": [],
   "source": [
    "tf = TfidfVectorizer(max_features=5000, ngram_range=(1,3))\n",
    "train_tf = tf.fit_transform(train.PTitCon).todense()\n",
    "val_tf = tf.transform(validation.PTitCon).todense()\n",
    "test_tf = tf.transform(test.PTitCon).todense()"
   ]
  },
  {
   "cell_type": "markdown",
   "metadata": {},
   "source": [
    "###### Logistic"
   ]
  },
  {
   "cell_type": "code",
   "execution_count": 89,
   "metadata": {},
   "outputs": [
    {
     "name": "stdout",
     "output_type": "stream",
     "text": [
      "Training Dataset Accuracy : 0.9177424023154848\n",
      "Training Dataset F1 : 0.9178692540309259\n",
      "Validation Dataset Accuracy : 0.8591109053021533\n",
      "Validation Dataset F1 : 0.859233439736964\n",
      "Test Dataset Accuracy : 0.8713531536537927\n",
      "Test Dataset F1 : 0.8716858883034857\n"
     ]
    }
   ],
   "source": [
    "lr_clf_tf = LogisticRegression(random_state=1234, solver=\"saga\")\n",
    "lr_clf_tf.fit(train_tf, train.publication)\n",
    "checkPreformance(lr_clf_tf, train_tf, val_tf, test_tf)"
   ]
  },
  {
   "cell_type": "markdown",
   "metadata": {},
   "source": [
    "###### SVM"
   ]
  },
  {
   "cell_type": "code",
   "execution_count": 82,
   "metadata": {},
   "outputs": [
    {
     "name": "stdout",
     "output_type": "stream",
     "text": [
      "Train Dataset Accuracy : 0.9364978292329956\n",
      "Train Dataset F1 : 0.9365794119766288\n",
      "Validation Dataset Accuracy : 0.8674461680944663\n",
      "Validation Dataset F1 : 0.8679231355286984\n",
      "Test Dataset Accuracy : 0.8778364360470501\n",
      "Test Dataset F1 : 0.8783547363662094\n"
     ]
    }
   ],
   "source": [
    "#sv_clf_lda = SVC(kernel=\"linear\")\n",
    "#sv_clf_lda.fit(train_tf, train.publication)\n",
    "#checkPreformance(sv_clf_lda, train_tf, val_tf, test_tf)\n",
    "\n",
    "print(\"Train Dataset Accuracy :\", 0.9364978292329956)\n",
    "print(\"Train Dataset F1 :\", 0.9365794119766288)\n",
    "print(\"Validation Dataset Accuracy :\", 0.8674461680944663)\n",
    "print(\"Validation Dataset F1 :\", 0.8679231355286984)\n",
    "print(\"Test Dataset Accuracy :\", 0.8778364360470501)\n",
    "print(\"Test Dataset F1 :\", 0.8783547363662094)"
   ]
  },
  {
   "cell_type": "code",
   "execution_count": 103,
   "metadata": {},
   "outputs": [
    {
     "data": {
      "text/html": [
       "<div>\n",
       "<style scoped>\n",
       "    .dataframe tbody tr th:only-of-type {\n",
       "        vertical-align: middle;\n",
       "    }\n",
       "\n",
       "    .dataframe tbody tr th {\n",
       "        vertical-align: top;\n",
       "    }\n",
       "\n",
       "    .dataframe thead th {\n",
       "        text-align: right;\n",
       "    }\n",
       "</style>\n",
       "<table border=\"1\" class=\"dataframe\">\n",
       "  <thead>\n",
       "    <tr style=\"text-align: right;\">\n",
       "      <th></th>\n",
       "      <th>Words</th>\n",
       "      <th>Ind</th>\n",
       "    </tr>\n",
       "  </thead>\n",
       "  <tbody>\n",
       "    <tr>\n",
       "      <th>0</th>\n",
       "      <td>post</td>\n",
       "      <td>3296</td>\n",
       "    </tr>\n",
       "    <tr>\n",
       "      <th>1</th>\n",
       "      <td>strong</td>\n",
       "      <td>4260</td>\n",
       "    </tr>\n",
       "    <tr>\n",
       "      <th>2</th>\n",
       "      <td>first</td>\n",
       "      <td>1692</td>\n",
       "    </tr>\n",
       "    <tr>\n",
       "      <th>3</th>\n",
       "      <td>quarter</td>\n",
       "      <td>3482</td>\n",
       "    </tr>\n",
       "    <tr>\n",
       "      <th>4</th>\n",
       "      <td>sale</td>\n",
       "      <td>3845</td>\n",
       "    </tr>\n",
       "  </tbody>\n",
       "</table>\n",
       "</div>"
      ],
      "text/plain": [
       "     Words   Ind\n",
       "0     post  3296\n",
       "1   strong  4260\n",
       "2    first  1692\n",
       "3  quarter  3482\n",
       "4     sale  3845"
      ]
     },
     "execution_count": 103,
     "metadata": {},
     "output_type": "execute_result"
    }
   ],
   "source": [
    "pd.DataFrame({\"Words\":list(tf.vocabulary_.keys()), \"Ind\":list(tf.vocabulary_.values())}).head()"
   ]
  },
  {
   "cell_type": "markdown",
   "metadata": {},
   "source": [
    "#### TF-IDF features preform better than the LDA topics."
   ]
  }
 ],
 "metadata": {
  "kernelspec": {
   "display_name": "Python 3",
   "language": "python",
   "name": "python3"
  },
  "language_info": {
   "codemirror_mode": {
    "name": "ipython",
    "version": 3
   },
   "file_extension": ".py",
   "mimetype": "text/x-python",
   "name": "python",
   "nbconvert_exporter": "python",
   "pygments_lexer": "ipython3",
   "version": "3.6.8"
  }
 },
 "nbformat": 4,
 "nbformat_minor": 4
}
