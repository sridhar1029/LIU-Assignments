{
 "cells": [
  {
   "cell_type": "markdown",
   "metadata": {},
   "source": [
    "# Lab 2B: Functional programming, and declarative patterns\n"
   ]
  },
  {
   "cell_type": "markdown",
   "metadata": {},
   "source": [
    "__Student:__ Sridhar Adhikarla(sriad858)\n",
    "\n",
    "__Student:__ Anubhav Dikshit(anudi287)"
   ]
  },
  {
   "cell_type": "markdown",
   "metadata": {},
   "source": [
    "Disclaimer: Functional programming in Python does not always lead to the fastest possible code, and is often not considered the *pythonic* approach. However, functional programming is the basis for many concurrent systems (the MapReduce programming model which many big data systems, e.g. Hadoop, relies on gets its name from the *map* and *reduce* functions mentioned below). Python is a multi-paradigm language, and functional programming is one of the main paradigms one can use. To understand how and when to do this, it is necessary to do things in a non-*pythonic* way in order to cover the basics."
   ]
  },
  {
   "cell_type": "markdown",
   "metadata": {},
   "source": [
    "## General instructions\n",
    "\n",
    "In this lab there are some general rules you should keep in mind to make sure you are on the correct path in your solutions.\n",
    "\n",
    "#### Rules\n",
    "1. You are not allowed to use `while` or `for` statements unless this is explicitly allowed in the task.\n",
    "2. You are not allowed to use global variables (other than for functions defined in the global environment).\n",
    "3. Code stubs should be viewed as fixed, you are only allowed to add code, the only code you are allowed to change is `pass` statements, which you should remove.\n",
    "4. You should refrain from using the `list` datatype unless otherwise specified and instead use `tuple`. One of the strengths of functional programming is its focus on immutable data types (this is why functional programming and concurrency goes so well together). Incidentally, one might find speedups when using the immutable tuples instead of lists.\n",
    "\n",
    "#### Advice\n",
    "1. Avoid local variables unless you are certain they are necessary, in most cases you won't need to use local variables. (altermatively, use local variables to your hearts content, but when your solution works, try to eliminate them, you should be able to eliminate most of them, over time, you might find that you don't need them.)"
   ]
  },
  {
   "cell_type": "markdown",
   "metadata": {},
   "source": [
    "# 2 Recursion\n",
    "\n",
    "As an introduction to linear recursion, read the introductory note on the course webpage. This might help explain terms that you may not know (even if the concept is previously known)."
   ]
  },
  {
   "cell_type": "markdown",
   "metadata": {},
   "source": [
    "## 2.1 Linear recursion"
   ]
  },
  {
   "cell_type": "markdown",
   "metadata": {},
   "source": [
    "a) Write a recursive function `sum_even(n)` that takes a natural number $n\\geq 0$ and returns the sum of all even numbers $0,...,n$. It should be linear-recursive with delayed computations."
   ]
  },
  {
   "cell_type": "code",
   "execution_count": 2,
   "metadata": {},
   "outputs": [
    {
     "name": "stdout",
     "output_type": "stream",
     "text": [
      "Sum for n = 11 : 30\n",
      "Sum for n = 100 : 2550\n"
     ]
    }
   ],
   "source": [
    "def sum_even(n):\n",
    "    if n <= 1:\n",
    "        return n\n",
    "    else:\n",
    "        if n%2==0:\n",
    "            return n + sum_even(n-2)\n",
    "        else:\n",
    "            return sum_even(n-1)\n",
    "    \n",
    "print(\"Sum for n = 11 :\", sum_even(11))\n",
    "print(\"Sum for n = 100 :\", sum_even(100))"
   ]
  },
  {
   "cell_type": "markdown",
   "metadata": {},
   "source": [
    "b) Write `sum_even_it(n)` according to the same specification. In this case, the solution should be tail recursive."
   ]
  },
  {
   "cell_type": "code",
   "execution_count": 3,
   "metadata": {},
   "outputs": [
    {
     "name": "stdout",
     "output_type": "stream",
     "text": [
      "Sum for n = 11 : 30\n",
      "Sum for n = 100 : 2550\n"
     ]
    }
   ],
   "source": [
    "def sum_even_it(n, tot=0):\n",
    "    if n <= 1:\n",
    "        return tot\n",
    "    else:\n",
    "        if n%2==0:\n",
    "            return sum_even_it(n-2, tot + n)\n",
    "        else:\n",
    "            return sum_even_it(n-1, tot)\n",
    "        \n",
    "print(\"Sum for n = 11 :\", sum_even_it(11))\n",
    "print(\"Sum for n = 100 :\", sum_even_it(100))"
   ]
  },
  {
   "cell_type": "markdown",
   "metadata": {},
   "source": [
    "c) We can of course express this in a declarative and Pythonic way, which is non-recursive. Write a function `sum_even_py` which returns the same result as above, but using comprehension or filter/map/reduce construct."
   ]
  },
  {
   "cell_type": "code",
   "execution_count": 4,
   "metadata": {},
   "outputs": [
    {
     "name": "stdout",
     "output_type": "stream",
     "text": [
      "Sum for n = 11 : 30\n",
      "Sum for n = 100 : 2550\n"
     ]
    }
   ],
   "source": [
    "from functools import reduce\n",
    "\n",
    "def sum_even_py(n):\n",
    "    return reduce((lambda x, y: (x%2==0)*x + (y%2==0)*y), range(n+1))\n",
    "\n",
    "print(\"Sum for n = 11 :\", sum_even_py(11))\n",
    "print(\"Sum for n = 100 :\", sum_even_py(100))"
   ]
  },
  {
   "cell_type": "markdown",
   "metadata": {},
   "source": [
    "## 2.2 Double/tree recursion"
   ]
  },
  {
   "cell_type": "markdown",
   "metadata": {},
   "source": [
    "Sometimes we might find ourselves with branching structures, where there are several \"smaller\" cases to recurse over. This might for instance be the case when we have trees, lists-within-lists or the like."
   ]
  },
  {
   "cell_type": "markdown",
   "metadata": {},
   "source": [
    "[Note: In the tasks below, it might be helpful to gain an understanding of `isinstance`. See the documentation!]"
   ]
  },
  {
   "cell_type": "markdown",
   "metadata": {},
   "source": [
    "a) One common use of recursion is to traverse recursive data structures. One exercise might be to _flatten_ nested lists or tuples. This is relatively simple with only one level of nesting, or when the structure follows a strict pattern, but for arbitrary nested sequences, a recursive approach is more natural. Implement a recursive function `myflatten` which can take an arbitrary structure of nested tuples and flattens it (in the sense of returning a new non-nested tuple with the same elements in the same order)."
   ]
  },
  {
   "cell_type": "code",
   "execution_count": 21,
   "metadata": {},
   "outputs": [
    {
     "name": "stdout",
     "output_type": "stream",
     "text": [
      "All Tests passed\n"
     ]
    }
   ],
   "source": [
    "def myflatten(seq):\n",
    "    if seq==():\n",
    "        return ()\n",
    "    elif not isinstance(seq, (list, tuple)):\n",
    "        return (seq,)\n",
    "    else:\n",
    "        return myflatten(seq[0]) + myflatten(seq[1:]) \n",
    "\n",
    "def test_myflatten():\n",
    "    tests = (\n",
    "     ((), (), \"the empty tuple\"), \n",
    "     ((1,2,3), (1,2,3), \"flat tuples invariant under flattening\"), \n",
    "     ( (1, (2), 3, (4, 5, (6), 7), 8), (1, 2, 3, 4, 5, 6, 7, 8), \"Arbitrarily nested tuples.\")\n",
    "    )\n",
    "    for arg, expected_output, error_msg in tests:\n",
    "        assert myflatten(arg) == expected_output, error_msg\n",
    "    print(\"All Tests passed\")\n",
    "\n",
    "test_myflatten()    # Uncomment this line to run tests."
   ]
  },
  {
   "cell_type": "markdown",
   "metadata": {},
   "source": [
    "b) Implement a function `exists_in(e, seq)` which returns `True` if the element `e` exists somewhere in the tuple `seq` (and `False` otherwise). `seq` might be nested and contain tuples-within-tuples."
   ]
  },
  {
   "cell_type": "code",
   "execution_count": 22,
   "metadata": {},
   "outputs": [],
   "source": [
    "def exists_in(e, seq):\n",
    "    if seq==():\n",
    "        return False\n",
    "    elif not isinstance(seq, (list, tuple)):\n",
    "        return seq==e\n",
    "    else:\n",
    "        return exists_in(e, seq[0]) or exists_in(e, seq[1:]) "
   ]
  },
  {
   "cell_type": "markdown",
   "metadata": {},
   "source": [
    "c) Write a few representative test cases, as in lab 2A."
   ]
  },
  {
   "cell_type": "code",
   "execution_count": 23,
   "metadata": {},
   "outputs": [
    {
     "name": "stdout",
     "output_type": "stream",
     "text": [
      "All Tests passed\n"
     ]
    }
   ],
   "source": [
    "def test_find_anywhere():\n",
    "    tests = (\n",
    "     (((), 10), False, \"the empty tuple, nothing to find Should return False\"), \n",
    "     (((1,2,3), 3), True, \"Element 3 is thre in the tuple, should return True\"), \n",
    "     ( ((1, (2), 3, (4, 5, (6), 7), 8), 5), True, \"Arbitrarily nested tuples.Element 5 is thre in the tuple, should return True\")\n",
    "    )\n",
    "    for arg, expected_output, error_msg in tests:\n",
    "        assert exists_in(arg[1], arg[0]) == expected_output, error_msg\n",
    "    print(\"All Tests passed\")\n",
    "    \n",
    "test_find_anywhere()"
   ]
  },
  {
   "cell_type": "markdown",
   "metadata": {},
   "source": [
    "d) One of the most famous recursive functions is the Quicksort function (https://en.wikipedia.org/wiki/Quicksort). It allows us to sort a sequence, with repeated values, in (amortized) log-linear time and with a logarithmic number of recursive calls. We will start by implementing Quicksort for a tuple of numbers.\n",
    "\n",
    "Note that Wikipedia illustrates a more advanced _in-place_ version of Quicksort, with a more advanced partition function. For the purposes of this assignment, you can simply pass a new tuple or generator to each recursive call to quicksort. You may use eg _filter_ or a comprehension to create the inputs."
   ]
  },
  {
   "cell_type": "code",
   "execution_count": 8,
   "metadata": {},
   "outputs": [
    {
     "name": "stdout",
     "output_type": "stream",
     "text": [
      "(1740, 1904, 1301, 1599, 1381, 1779, 1158, 1163, 1934, 1750, 1237, 1096, 1907, 1297, 1993, 1826, 1276, 1672, 1279, 1037, 1809, 1770, 1488, 1000, 1932, 1593, 1061, 1077, 1065, 1738, 1413, 1495, 1571, 1307, 1578, 1159, 1283, 1359, 1051, 1802, 1763, 1539, 1373, 1013, 1304, 1564, 1050, 1592, 1407, 1365, 1136, 1195, 1811, 1523, 1244, 1541, 1438, 1006, 1853, 1215, 1041, 1436, 1394, 1748, 1767, 1018, 1688, 1046, 1331, 1228, 1985, 1223, 1116, 1687, 1153, 1518, 1801, 1522, 1151, 1547, 1099, 1125, 1743, 1508, 1856, 1305, 1404, 1603, 1874, 1914, 1154, 1479, 1231, 1505, 1224, 1957, 1363, 1088, 1176, 1782, 1772, 1967, 1207, 1059, 1864, 1482, 1894, 1700, 1167, 1552, 1569, 1974, 1621, 1504, 1155, 1735, 1731, 1086, 1282, 1931, 1327, 1193, 1833, 1075, 1653, 1001, 1494, 1813, 1227, 1316, 1938, 1984, 1132, 1156, 1929, 1555, 1560, 1091, 1662, 1695, 1943, 1964, 1668, 1202, 1575, 1321, 1027, 1364, 1355, 1902, 1785, 1845, 1713, 1947, 1102, 1481, 1318, 1390, 1314, 1422, 1287, 1108, 1045, 1780, 1005, 1918, 1848, 1145, 1930, 1631, 1622, 1963, 1419, 1540, 1843, 1295, 1728, 1630, 1796, 1467, 1519, 1999, 1857, 1709, 1466, 1996, 1794, 1771, 1343, 1747, 1389, 1922, 1892, 1181, 1869, 1022, 1607, 1789, 1309, 1092, 1919, 1798, 1441, 1876, 1401, 1753, 1807, 1601, 1385, 1742, 1721, 1470, 1015, 1524, 1994, 1448, 1269, 1057, 1606, 1240, 1326, 1024, 1388, 1990, 1737, 1633, 1512, 1925, 1405, 1251, 1642, 1804, 1881, 1213, 1837, 1870, 1873, 1619, 1212, 1319, 1263, 1432, 1160, 1684, 1097, 1500, 1896, 1733, 1562, 1514, 1107, 1973, 1194, 1719, 1375, 1219, 1756, 1665, 1920, 1958, 1032, 1835, 1758, 1115, 1420, 1579, 1260, 1028, 1590, 1658, 1004, 1755, 1549, 1877, 1841, 1208, 1666, 1273, 1629, 1600, 1103, 1087, 1663, 1170, 1232, 1824, 1627, 1977, 1651, 1905, 1008, 1690, 1416, 1189, 1795, 1968, 1317, 1071, 1397, 1916, 1897, 1836, 1698, 1707, 1430, 1049, 1377, 1140, 1403, 1203, 1862, 1182, 1133, 1353, 1965, 1112, 1484, 1337, 1723, 1528, 1252, 1910, 1527, 1412, 1577, 1344, 1645, 1360, 1732, 1079, 1933, 1400, 1915, 1686, 1465, 1444, 1399, 1501, 1179, 1773, 1739, 1157, 1474, 1543, 1533, 1254, 1229, 1329, 1596, 1625, 1591, 1358, 1949, 1245, 1031, 1971, 1706, 1878, 1120, 1955, 1924, 1917, 1396, 1211, 1635, 1100, 1217, 1980, 1320, 1339, 1532, 1831, 1720, 1184, 1272, 1702, 1426, 1819, 1368, 1313, 1256, 1868, 1357, 1937, 1725, 1691, 1970, 1530, 1939, 1026, 1030, 1832, 1632, 1650, 1421, 1111, 1860, 1342, 1324, 1392, 1076, 1003, 1114, 1053, 1561, 1885, 1766, 1673, 1376, 1674, 1308, 1641, 1875, 1893, 1351, 1345, 1705, 1020, 1261, 1761, 1995, 1890, 1510, 1271, 1806, 1566, 1236, 1746, 1774, 1431, 1722, 1362, 1887, 1667, 1602, 1513, 1218, 1457, 1628, 1568, 1830, 1823, 1752, 1911, 1293, 1058, 1953, 1863, 1268, 1382, 1791, 1461, 1570, 1143, 1717, 1246, 1191, 1019, 1679, 1374, 1177, 1171, 1135, 1204, 1921, 1370, 1490, 1787, 1056, 1682, 1926, 1844, 1879, 1209, 1201, 1978, 1277, 1306, 1253, 1498, 1085, 1745, 1951, 1954, 1386, 1352, 1741, 1109, 1083, 1867, 1786, 1414, 1677, 1986, 1861, 1243, 1292, 1142, 1664, 1644, 1093, 1067, 1614, 1793, 1715, 1704, 1274, 1597, 1928, 1744, 1710, 1222, 1034, 1423, 1129, 1361, 1546, 1909, 1220, 1503, 1464, 1670, 1302, 1137, 1110, 1054, 1551, 1262, 1792, 1131, 1840, 1536, 1815, 1609, 1141, 1637, 1255, 1542, 1525, 1341, 1760, 1391, 1696, 1829, 1196, 1090, 1676, 1349, 1259, 1328, 1241, 1460, 1350, 1052, 1011, 1459, 1724, 1267, 1605, 1417, 1757, 1174, 1623, 1556, 1998, 1265, 1310, 1776, 1850, 1178, 1846, 1858, 1284, 1839, 1139, 1146, 1214, 1289, 1478, 1847, 1952, 1239, 1335, 1936, 1095, 1433, 1333, 1818, 1010, 1007, 1640, 1101, 1604, 1972, 1322, 1238, 1913, 1340, 1534, 1797, 1646, 1098, 1334, 1923, 1531, 1526, 1981, 1803, 1489, 1969, 1656, 1012, 1336, 1588, 1675, 1987, 1311, 1398, 1281, 1454, 1113, 1330, 1634, 1121, 1200, 1429, 1168, 1777, 1617, 1638, 1021, 1009, 1886, 1992, 1162, 1033, 1589, 1595, 1453, 1036, 1257, 1485, 1180, 1124, 1754, 1961, 1496, 1367, 1161, 1081, 1612, 1855, 1447, 1574, 1234, 1068, 1395, 1383, 1888, 1463, 1410, 1406, 1812, 1906, 1654, 1678, 1169, 1900, 1043, 1249, 1442, 1199, 1248, 1550, 1685, 1703, 1515, 1891, 1788, 1828, 1164, 1070, 1296, 1449, 1440, 1315, 1064, 1681, 1486, 1701, 1659, 1585, 1822, 1814, 1901, 1491, 1716, 1291, 1166, 1624, 1946, 1821, 1535, 1884, 1323, 1882, 1712, 1066, 1693, 1851, 1104, 1393, 1718, 1576, 1548, 1759, 1563, 1298, 1582, 1730, 1764, 1475, 1573, 1134, 1660, 1425, 1226, 1683, 1727, 1471, 1428, 1554, 1062, 1898, 1123, 1648, 1559, 1808, 1827, 1002, 1545, 1594, 1119, 1790, 1557, 1188, 1040, 1415, 1285, 1258, 1384, 1035, 1371, 1452, 1205, 1235, 1872, 1190, 1356, 1445, 1647, 1074, 1347, 1636, 1880, 1014, 1493, 1944, 1903, 1726, 1266, 1580, 1434, 1817, 1749, 1567, 1692, 1017, 1084, 1714, 1130, 1275, 1778, 1927, 1734, 1299, 1346, 1661, 1487, 1671, 1150, 1849, 1979, 1060, 1242, 1657, 1615, 1451, 1435, 1472, 1956, 1462, 1502, 1480, 1477, 1210, 1865, 1783, 1784, 1586, 1455, 1781, 1941, 1221, 1584, 1303, 1225, 1122, 1055, 1649, 1945, 1408, 1286, 1810, 1960, 1348, 1751, 1871, 1511, 1989, 1039, 1991, 1608, 1620, 1799, 1842, 1128, 1025, 1325, 1775, 1247, 1290, 1250, 1820, 1149, 1962, 1544, 1834, 1443, 1912, 1616, 1762, 1450, 1598, 1736, 1366, 1883, 1126, 1038, 1529, 1409, 1587, 1082, 1172, 1711, 1838, 1118, 1521, 1729, 1768, 1173, 1080, 1165, 1380, 1825, 1983, 1187, 1144, 1497, 1387, 1063, 1613, 1312, 1198, 1516, 1473, 1805, 1966, 1138, 1186, 1507, 1889, 1147, 1044, 1369, 1517, 1300, 1016, 1378, 1866, 1652, 1655, 1458, 1800, 1148, 1611, 1280, 1583, 1942, 1042, 1689, 1069, 1332, 1697, 1908, 1127, 1424, 1338, 1895, 1117, 1411, 1610, 1950, 1643, 1094, 1073, 1105, 1023, 1185, 1476, 1446, 1538, 1699, 1078, 1572, 1379, 1558, 1816, 1520, 1468, 1206, 1072, 1270, 1506, 1106, 1499, 1288, 1553, 1680, 1439, 1975, 1427, 1618, 1216, 1089, 1859, 1509, 1492, 1940, 1935, 1565, 1294, 1581, 1402, 1708, 1047, 1192, 1152, 1197, 1029, 1437, 1959, 1048, 1982, 1233, 1765, 1183, 1278, 1948, 1469, 1694, 1854, 1997, 1230, 1639, 1264, 1852, 1456, 1483, 1175, 1669, 1354, 1537, 1988, 1372, 1626, 1976, 1418, 1899, 1769)\n",
      "(1000, 1001, 1002, 1003, 1004, 1005, 1006, 1007, 1008, 1009, 1010, 1011, 1012, 1013, 1014, 1015, 1016, 1017, 1018, 1019, 1020, 1021, 1022, 1023, 1024, 1025, 1026, 1027, 1028, 1029, 1030, 1031, 1032, 1033, 1034, 1035, 1036, 1037, 1038, 1039, 1040, 1041, 1042, 1043, 1044, 1045, 1046, 1047, 1048, 1049, 1050, 1051, 1052, 1053, 1054, 1055, 1056, 1057, 1058, 1059, 1060, 1061, 1062, 1063, 1064, 1065, 1066, 1067, 1068, 1069, 1070, 1071, 1072, 1073, 1074, 1075, 1076, 1077, 1078, 1079, 1080, 1081, 1082, 1083, 1084, 1085, 1086, 1087, 1088, 1089, 1090, 1091, 1092, 1093, 1094, 1095, 1096, 1097, 1098, 1099, 1100, 1101, 1102, 1103, 1104, 1105, 1106, 1107, 1108, 1109, 1110, 1111, 1112, 1113, 1114, 1115, 1116, 1117, 1118, 1119, 1120, 1121, 1122, 1123, 1124, 1125, 1126, 1127, 1128, 1129, 1130, 1131, 1132, 1133, 1134, 1135, 1136, 1137, 1138, 1139, 1140, 1141, 1142, 1143, 1144, 1145, 1146, 1147, 1148, 1149, 1150, 1151, 1152, 1153, 1154, 1155, 1156, 1157, 1158, 1159, 1160, 1161, 1162, 1163, 1164, 1165, 1166, 1167, 1168, 1169, 1170, 1171, 1172, 1173, 1174, 1175, 1176, 1177, 1178, 1179, 1180, 1181, 1182, 1183, 1184, 1185, 1186, 1187, 1188, 1189, 1190, 1191, 1192, 1193, 1194, 1195, 1196, 1197, 1198, 1199, 1200, 1201, 1202, 1203, 1204, 1205, 1206, 1207, 1208, 1209, 1210, 1211, 1212, 1213, 1214, 1215, 1216, 1217, 1218, 1219, 1220, 1221, 1222, 1223, 1224, 1225, 1226, 1227, 1228, 1229, 1230, 1231, 1232, 1233, 1234, 1235, 1236, 1237, 1238, 1239, 1240, 1241, 1242, 1243, 1244, 1245, 1246, 1247, 1248, 1249, 1250, 1251, 1252, 1253, 1254, 1255, 1256, 1257, 1258, 1259, 1260, 1261, 1262, 1263, 1264, 1265, 1266, 1267, 1268, 1269, 1270, 1271, 1272, 1273, 1274, 1275, 1276, 1277, 1278, 1279, 1280, 1281, 1282, 1283, 1284, 1285, 1286, 1287, 1288, 1289, 1290, 1291, 1292, 1293, 1294, 1295, 1296, 1297, 1298, 1299, 1300, 1301, 1302, 1303, 1304, 1305, 1306, 1307, 1308, 1309, 1310, 1311, 1312, 1313, 1314, 1315, 1316, 1317, 1318, 1319, 1320, 1321, 1322, 1323, 1324, 1325, 1326, 1327, 1328, 1329, 1330, 1331, 1332, 1333, 1334, 1335, 1336, 1337, 1338, 1339, 1340, 1341, 1342, 1343, 1344, 1345, 1346, 1347, 1348, 1349, 1350, 1351, 1352, 1353, 1354, 1355, 1356, 1357, 1358, 1359, 1360, 1361, 1362, 1363, 1364, 1365, 1366, 1367, 1368, 1369, 1370, 1371, 1372, 1373, 1374, 1375, 1376, 1377, 1378, 1379, 1380, 1381, 1382, 1383, 1384, 1385, 1386, 1387, 1388, 1389, 1390, 1391, 1392, 1393, 1394, 1395, 1396, 1397, 1398, 1399, 1400, 1401, 1402, 1403, 1404, 1405, 1406, 1407, 1408, 1409, 1410, 1411, 1412, 1413, 1414, 1415, 1416, 1417, 1418, 1419, 1420, 1421, 1422, 1423, 1424, 1425, 1426, 1427, 1428, 1429, 1430, 1431, 1432, 1433, 1434, 1435, 1436, 1437, 1438, 1439, 1440, 1441, 1442, 1443, 1444, 1445, 1446, 1447, 1448, 1449, 1450, 1451, 1452, 1453, 1454, 1455, 1456, 1457, 1458, 1459, 1460, 1461, 1462, 1463, 1464, 1465, 1466, 1467, 1468, 1469, 1470, 1471, 1472, 1473, 1474, 1475, 1476, 1477, 1478, 1479, 1480, 1481, 1482, 1483, 1484, 1485, 1486, 1487, 1488, 1489, 1490, 1491, 1492, 1493, 1494, 1495, 1496, 1497, 1498, 1499, 1500, 1501, 1502, 1503, 1504, 1505, 1506, 1507, 1508, 1509, 1510, 1511, 1512, 1513, 1514, 1515, 1516, 1517, 1518, 1519, 1520, 1521, 1522, 1523, 1524, 1525, 1526, 1527, 1528, 1529, 1530, 1531, 1532, 1533, 1534, 1535, 1536, 1537, 1538, 1539, 1540, 1541, 1542, 1543, 1544, 1545, 1546, 1547, 1548, 1549, 1550, 1551, 1552, 1553, 1554, 1555, 1556, 1557, 1558, 1559, 1560, 1561, 1562, 1563, 1564, 1565, 1566, 1567, 1568, 1569, 1570, 1571, 1572, 1573, 1574, 1575, 1576, 1577, 1578, 1579, 1580, 1581, 1582, 1583, 1584, 1585, 1586, 1587, 1588, 1589, 1590, 1591, 1592, 1593, 1594, 1595, 1596, 1597, 1598, 1599, 1600, 1601, 1602, 1603, 1604, 1605, 1606, 1607, 1608, 1609, 1610, 1611, 1612, 1613, 1614, 1615, 1616, 1617, 1618, 1619, 1620, 1621, 1622, 1623, 1624, 1625, 1626, 1627, 1628, 1629, 1630, 1631, 1632, 1633, 1634, 1635, 1636, 1637, 1638, 1639, 1640, 1641, 1642, 1643, 1644, 1645, 1646, 1647, 1648, 1649, 1650, 1651, 1652, 1653, 1654, 1655, 1656, 1657, 1658, 1659, 1660, 1661, 1662, 1663, 1664, 1665, 1666, 1667, 1668, 1669, 1670, 1671, 1672, 1673, 1674, 1675, 1676, 1677, 1678, 1679, 1680, 1681, 1682, 1683, 1684, 1685, 1686, 1687, 1688, 1689, 1690, 1691, 1692, 1693, 1694, 1695, 1696, 1697, 1698, 1699, 1700, 1701, 1702, 1703, 1704, 1705, 1706, 1707, 1708, 1709, 1710, 1711, 1712, 1713, 1714, 1715, 1716, 1717, 1718, 1719, 1720, 1721, 1722, 1723, 1724, 1725, 1726, 1727, 1728, 1729, 1730, 1731, 1732, 1733, 1734, 1735, 1736, 1737, 1738, 1739, 1740, 1741, 1742, 1743, 1744, 1745, 1746, 1747, 1748, 1749, 1750, 1751, 1752, 1753, 1754, 1755, 1756, 1757, 1758, 1759, 1760, 1761, 1762, 1763, 1764, 1765, 1766, 1767, 1768, 1769, 1770, 1771, 1772, 1773, 1774, 1775, 1776, 1777, 1778, 1779, 1780, 1781, 1782, 1783, 1784, 1785, 1786, 1787, 1788, 1789, 1790, 1791, 1792, 1793, 1794, 1795, 1796, 1797, 1798, 1799, 1800, 1801, 1802, 1803, 1804, 1805, 1806, 1807, 1808, 1809, 1810, 1811, 1812, 1813, 1814, 1815, 1816, 1817, 1818, 1819, 1820, 1821, 1822, 1823, 1824, 1825, 1826, 1827, 1828, 1829, 1830, 1831, 1832, 1833, 1834, 1835, 1836, 1837, 1838, 1839, 1840, 1841, 1842, 1843, 1844, 1845, 1846, 1847, 1848, 1849, 1850, 1851, 1852, 1853, 1854, 1855, 1856, 1857, 1858, 1859, 1860, 1861, 1862, 1863, 1864, 1865, 1866, 1867, 1868, 1869, 1870, 1871, 1872, 1873, 1874, 1875, 1876, 1877, 1878, 1879, 1880, 1881, 1882, 1883, 1884, 1885, 1886, 1887, 1888, 1889, 1890, 1891, 1892, 1893, 1894, 1895, 1896, 1897, 1898, 1899, 1900, 1901, 1902, 1903, 1904, 1905, 1906, 1907, 1908, 1909, 1910, 1911, 1912, 1913, 1914, 1915, 1916, 1917, 1918, 1919, 1920, 1921, 1922, 1923, 1924, 1925, 1926, 1927, 1928, 1929, 1930, 1931, 1932, 1933, 1934, 1935, 1936, 1937, 1938, 1939, 1940, 1941, 1942, 1943, 1944, 1945, 1946, 1947, 1948, 1949, 1950, 1951, 1952, 1953, 1954, 1955, 1956, 1957, 1958, 1959, 1960, 1961, 1962, 1963, 1964, 1965, 1966, 1967, 1968, 1969, 1970, 1971, 1972, 1973, 1974, 1975, 1976, 1977, 1978, 1979, 1980, 1981, 1982, 1983, 1984, 1985, 1986, 1987, 1988, 1989, 1990, 1991, 1992, 1993, 1994, 1995, 1996, 1997, 1998, 1999)\n"
     ]
    }
   ],
   "source": [
    "from random import sample, choice\n",
    "\n",
    "# Write quicksort here:\n",
    "def partition(A, piv):\n",
    "    A = list(A)\n",
    "    temp = A[0]\n",
    "    A[0] = A[piv]\n",
    "    A[piv] = temp\n",
    "    i = 1\n",
    "    for j in range(1,len(A)):\n",
    "        if A[j] < A[0]:\n",
    "            if i==j:\n",
    "                i += 1\n",
    "            else:\n",
    "                temp = A[j]\n",
    "                A[j] = A[i]\n",
    "                A[i] = temp\n",
    "                i += 1\n",
    "    temp = A[0]\n",
    "    A[0] = A[i-1]\n",
    "    A[i-1] = temp\n",
    "    return A, i-1\n",
    "\n",
    "def quicksort(A):\n",
    "    n = len(A)\n",
    "    if n<=1:\n",
    "        return A\n",
    "    else:\n",
    "        piv = choice(range(n))\n",
    "        A, ind = partition(A, piv)\n",
    "        A[0:ind] = quicksort(A[0:ind])\n",
    "        A[ind+1:] = quicksort(A[ind+1:])\n",
    "        return tuple(A)\n",
    "        \n",
    "a = tuple(sample(range(1000,2000), 1000))\n",
    "print(a)\n",
    "b = quicksort(a)\n",
    "print(b)"
   ]
  },
  {
   "cell_type": "markdown",
   "metadata": {},
   "source": [
    "## 3 Higher order functions (HOF)\n",
    " \n",
    "A _higher-order function_ is a function which operates on other functions. What this means exactly is disputed, but we will call any function which returns a function or takes a function as an argument a higher-order function. (Conversely, a function neither taking another function as input nor returning a function we will refer to as a _first-order function_)\n",
    "\n",
    "In R you have encountered these when, for instance, using the `apply` family of functions, which are all versions of what is called a `map` function in functional programming (see below).\n",
    "\n",
    "When using higher-order functions, it is often useful to create simple anonymous functions at the place in the code where they are used, rather than defining a new named function in one place only to call it in a single other place. In R, all functions are created in this way with the `function` keyword, but they are usually assigned to global names with standard assignment (`<-`). Python provides similar functionality using the `lambda` keyword (name inspired by Alonzo Church's [$\\lambda$-calculus](https://www.youtube.com/watch?v=eis11j_iGMs) which has inspired much of functional programming) with which we can create anonymous functions. Of course, we can also pass named functions to higher-order functions, which is usually the case when the function is predefined, general enough to be used in more than one place, or complex enough to warrant separate definition and documentation for the sake of clarity."
   ]
  },
  {
   "cell_type": "markdown",
   "metadata": {},
   "source": [
    "## 3.1 The three standard functions `map`, `reduce` and `filter`\n",
    "\n",
    "There are three standard cases which are widely applicable and many other higher-order functions are special cases or combinations of these. They are: `map`, apply a function on each element in a sequence, `filter`, keep (or conversely, remove) elements from a sequence according to some condition, and `reduce`, combine the elements in a sequence. The `map` function takes a sequence and a function (usually of 1 parameter) which is to be applied to each element of the sequence and might return anything, this function is assumed not to have side effects. The `filter` function takes a function (usually of 1 parameter) which returns a boolean value used to indicate which elements are to be kept. The `reduce` function takes a function (usually of 2 parameters) which is used to combine the elements in the sequence.\n",
    "\n",
    "In Python, `map` and `filter` are standard built-in functions. Since Python 3, the `reduce` function needs to be imported from the `functools` module.\n",
    "\n",
    "Many more advanced functions, of any order, can be created by combining these three higher-order functions.\n",
    "\n",
    "A note from last year: usually, the `reduce` function is more difficult to grasp than `map` and `filter` but I found this blog-post by André Burgaud to be a nice introduction to `reduce`. Note that Burgaud talks about the more general _fold_ concept rather than `reduce`, which is a special case of fold often called _left fold_ (this is covered in more detail in the post). https://www.burgaud.com/foldl-foldr-python/"
   ]
  },
  {
   "cell_type": "markdown",
   "metadata": {},
   "source": [
    "a) Implement a function `mysum` which computes the sum of a list or tuple of numbers using the reduce function and a lambda function."
   ]
  },
  {
   "cell_type": "code",
   "execution_count": 8,
   "metadata": {},
   "outputs": [
    {
     "data": {
      "text/plain": [
       "12"
      ]
     },
     "execution_count": 8,
     "metadata": {},
     "output_type": "execute_result"
    }
   ],
   "source": [
    "from functools import reduce\n",
    "\n",
    "def mysum(seq):\n",
    "    return reduce((lambda x, y: x + y), seq)\n",
    "\n",
    "mysum((4, 7, 1))"
   ]
  },
  {
   "cell_type": "markdown",
   "metadata": {},
   "source": [
    "b) Implement a function `mylength` which uses `map` and `reduce` to compute the length of a sequence. The use of the `len` function is not allowed.\n",
    "\n",
    "[Hint: Use `map` to convert the input to something which can easily be `reduce`:d.]"
   ]
  },
  {
   "cell_type": "code",
   "execution_count": 9,
   "metadata": {},
   "outputs": [
    {
     "name": "stdout",
     "output_type": "stream",
     "text": [
      "5\n",
      "4\n"
     ]
    }
   ],
   "source": [
    "def mylength(seq):\n",
    "    return reduce((lambda x, y: x + y), map(lambda x: 1, seq))\n",
    "    \n",
    "print(mylength((4, 2, 5, 2, 5)))\n",
    "print(mylength(\"test\"))"
   ]
  },
  {
   "cell_type": "markdown",
   "metadata": {},
   "source": [
    "## 3.2 Building your own higher order functions"
   ]
  },
  {
   "cell_type": "markdown",
   "metadata": {},
   "source": [
    "a) Re-implement the three basic functional helper functions `map`, `filter` and `reduce` **as purely functional recursive functions**. You may not express this as eg comprehensions; the task is to practice figuring out this type of logic.\n",
    "\n",
    "Note that the built-in versions of these functions work on multiple sequences of equal length if supplied, however, you can assume a single sequence as second parameter, i.e. you can also skip the third parameter to reduce."
   ]
  },
  {
   "cell_type": "code",
   "execution_count": 24,
   "metadata": {},
   "outputs": [
    {
     "data": {
      "text/plain": [
       "[0, 1, 4, 9, 16, 25, 36, 49, 64, 81]"
      ]
     },
     "execution_count": 24,
     "metadata": {},
     "output_type": "execute_result"
    }
   ],
   "source": [
    "def mymap(f, seq):\n",
    "    if seq==[]:\n",
    "        return []\n",
    "    elif not isinstance(seq, (list, tuple)):\n",
    "        return [f(seq),]\n",
    "    else:\n",
    "        return mymap(f, seq[0]) + mymap(f, seq[1:])\n",
    "\n",
    "mymap(lambda x:x**2, list(range(10)))"
   ]
  },
  {
   "cell_type": "code",
   "execution_count": 25,
   "metadata": {},
   "outputs": [
    {
     "data": {
      "text/plain": [
       "[0, 2, 4, 6, 8]"
      ]
     },
     "execution_count": 25,
     "metadata": {},
     "output_type": "execute_result"
    }
   ],
   "source": [
    "def myfilter(f, seq):\n",
    "    if seq==[]:\n",
    "        return []\n",
    "    elif not isinstance(seq, (list, tuple)):\n",
    "        if f(seq):\n",
    "            return [seq,]\n",
    "        else:\n",
    "            return []\n",
    "    else:\n",
    "        return myfilter(f, seq[0]) + myfilter(f, seq[1:])\n",
    "\n",
    "myfilter(lambda x:x%2==0, list(range(10)))"
   ]
  },
  {
   "cell_type": "markdown",
   "metadata": {},
   "source": [
    "You might note the similarities with how you implemented `sum_even`."
   ]
  },
  {
   "cell_type": "code",
   "execution_count": 26,
   "metadata": {},
   "outputs": [
    {
     "data": {
      "text/plain": [
       "120"
      ]
     },
     "execution_count": 26,
     "metadata": {},
     "output_type": "execute_result"
    }
   ],
   "source": [
    "def myreduce(f, seq):\n",
    "    if seq==[]:\n",
    "        return []\n",
    "    elif not isinstance(seq, (list, tuple)):\n",
    "        return seq\n",
    "    else:\n",
    "        first = myreduce(f, seq[0])\n",
    "        last = myreduce(f, seq[1:])\n",
    "        if last:\n",
    "            return f(first, last)\n",
    "        else:\n",
    "            return first\n",
    "\n",
    "myreduce(lambda x, y: x*y, list(range(1,6)))"
   ]
  },
  {
   "cell_type": "markdown",
   "metadata": {},
   "source": [
    "## 3.3 Returning functions\n",
    "\n",
    "The previous section covered functions which take other functions as input, but what about the opposite, functions returning functions as output?"
   ]
  },
  {
   "cell_type": "markdown",
   "metadata": {},
   "source": [
    "a) Function composition is a common in both maths and programming. Write a function `compose` which takes two functions, $f$ and $g$, and produces the _composite_ function $f \\circ g$, where $(f \\circ g)(x) \\Leftrightarrow f(g(x))$. Example use is given below."
   ]
  },
  {
   "cell_type": "code",
   "execution_count": 27,
   "metadata": {
    "scrolled": true
   },
   "outputs": [
    {
     "name": "stdout",
     "output_type": "stream",
     "text": [
      "[-1.507556722888818, -1.2060453783110545, -0.9045340337332909, -0.6030226891555273, -0.30151134457776363, 0.0, 0.30151134457776363, 0.6030226891555273, 0.9045340337332909, 1.2060453783110545, 1.507556722888818]\n"
     ]
    }
   ],
   "source": [
    "from statistics import stdev, mean\n",
    "\n",
    "def compose(f, g):\n",
    "    return lambda x: f(g(x))\n",
    "\n",
    "def myscale(vals):\n",
    "    return [x/stdev(vals) for x in vals]\n",
    "\n",
    "def myshift(vals):\n",
    "    return [x-mean(vals) for x in vals]\n",
    "\n",
    "standardize = compose(myscale, myshift)\n",
    "\n",
    "print(standardize(range(-3, 8)))"
   ]
  },
  {
   "cell_type": "markdown",
   "metadata": {},
   "source": [
    "b) Create a function `composition(*funs)` which takes a non-empty sequence of functions of one argument and returns their sequential composition. That is $composition(f_0,f_1, \\ldots, f_n) = f_0 \\circ f_1 \\circ\\ldots \\circ f_n$. (The question of if $f\\circ g \\circ h$ should be read $f\\circ (g\\circ h)$ or $(f \\circ g) \\circ h$ is perfectly valid, but they turn out to be the same. That is, $\\circ$ is associative.)"
   ]
  },
  {
   "cell_type": "code",
   "execution_count": 28,
   "metadata": {},
   "outputs": [],
   "source": [
    "def compose(f, g):\n",
    "    return lambda x: g(f(x))\n",
    "\n",
    "def composition(*funs):\n",
    "    return reduce(compose , funs, lambda x: x)"
   ]
  },
  {
   "cell_type": "markdown",
   "metadata": {},
   "source": [
    "Hint: Don't remember what can be found in `*funs`? Print it! Don't know how the values should be combined? Write out some simple example on paper."
   ]
  },
  {
   "cell_type": "markdown",
   "metadata": {},
   "source": [
    "Note: This task demonstrates the generality of our constructs. Previously we worked with sequences of numbers and the like. Now we lift this to the level of working with functions as values, and instead of using combinators which work on numbers, we use function combinators in conjunction with our known patterns."
   ]
  },
  {
   "cell_type": "markdown",
   "metadata": {},
   "source": [
    "### Voluntary task: pipelining\n",
    "\n",
    "When doing data analysis, one very important part is pre-processing. Often, data goes through a number of steps of preprocessing, sometimes called a pipeline. The function composition example above can be seen as a special case of such a pipeline for only two functions. By clever use of higher order functions, we can build a pipeline function which takes a list or tuple of data transforming functions and creates a function which applies these sequentially. Construct such a function called `make_pipeline`. In order to focus on the primary purpose of the `make_pipeline` function, we will perform a very simple set of transformations, increment each value by 1, take the absolute value, and then take the square root. Usage example and code for the `inc` function is supplied below.\n",
    "\n",
    "You may want to use functions you have defined above."
   ]
  },
  {
   "cell_type": "code",
   "execution_count": 29,
   "metadata": {
    "scrolled": false
   },
   "outputs": [
    {
     "name": "stdout",
     "output_type": "stream",
     "text": [
      "<function compose.<locals>.<lambda> at 0x000000000510D2F0>\n",
      "Value :  -5  Pipelined to --->  2.0\n",
      "Value :  -4  Pipelined to --->  1.7320508075688772\n",
      "Value :  -3  Pipelined to --->  1.4142135623730951\n",
      "Value :  -2  Pipelined to --->  1.0\n",
      "Value :  -1  Pipelined to --->  0.0\n",
      "Value :  0  Pipelined to --->  1.0\n",
      "Value :  1  Pipelined to --->  1.4142135623730951\n",
      "Value :  2  Pipelined to --->  1.7320508075688772\n",
      "Value :  3  Pipelined to --->  2.0\n",
      "Value :  4  Pipelined to --->  2.23606797749979\n"
     ]
    }
   ],
   "source": [
    "from functools import reduce, partial\n",
    "from math import sqrt \n",
    "\n",
    "\n",
    "def make_pipeline(*funs):\n",
    "    comp = composition(*funs)\n",
    "    print(comp)\n",
    "    return lambda vals: map(comp, vals)\n",
    "\n",
    "# We can even drop the lambda vals : bit, using partial\n",
    "# evaluation (see the help for functools.partial!)\n",
    "\n",
    "def inc(x):\n",
    "    return x+1\n",
    "\n",
    "pipeline = make_pipeline(inc, abs, sqrt)\n",
    "rng = list(range(-5, 5))\n",
    "res = tuple(pipeline(rng))\n",
    "for i in range(len(rng)):\n",
    "    print(\"Value : \", rng[i], \" Pipelined to ---> \", res[i])"
   ]
  },
  {
   "cell_type": "markdown",
   "metadata": {},
   "source": [
    "## 4. Simple declarative Pythonic patterns (involing HOF)"
   ]
  },
  {
   "cell_type": "markdown",
   "metadata": {},
   "source": [
    "a) As preparation, create a named tuple type \"coord\" which has fields `x` and `y`."
   ]
  },
  {
   "cell_type": "code",
   "execution_count": 16,
   "metadata": {},
   "outputs": [],
   "source": [
    "# Add the requisite import statement here\n",
    "from collections import namedtuple\n",
    "coord = namedtuple('coord', ['x', 'y']) # your code here\n",
    "\n",
    "five_three = coord(5,3)\n",
    "assert five_three.x == 5, \"first element is the x coordinate\"\n",
    "assert five_three.y == 3, \"the second element is the y coordinate\""
   ]
  },
  {
   "cell_type": "markdown",
   "metadata": {},
   "source": [
    "b) Generate a $10^7$ random coordinates, with $x$ and $y$ coordinates drawn uniformly from [-1000,1000]. Save the tuple of those with $x + y > 0$ as `rnd_coords`. How many are there?"
   ]
  },
  {
   "cell_type": "code",
   "execution_count": 18,
   "metadata": {},
   "outputs": [
    {
     "data": {
      "text/plain": [
       "483"
      ]
     },
     "execution_count": 18,
     "metadata": {},
     "output_type": "execute_result"
    }
   ],
   "source": [
    "from random import uniform\n",
    "def gen_rand_coord(x):\n",
    "    return coord(uniform(-1000, 1000), uniform(-1000, 1000))\n",
    "\n",
    "rnd_coords = tuple(filter(lambda crd: (crd.x+crd.y)>0, map(gen_rand_coord, range(10**3))))\n",
    "len(rnd_coords)"
   ]
  },
  {
   "cell_type": "markdown",
   "metadata": {},
   "source": [
    "[Note: If this takes a while, you might want to consider when the elements are generated and saved.]"
   ]
  },
  {
   "cell_type": "markdown",
   "metadata": {},
   "source": [
    "**Before having solved the tasks below, consider setting `coords` to a smaller set (eg generate $10^3$ elements instead of $10^7$ to start with).**"
   ]
  },
  {
   "cell_type": "markdown",
   "metadata": {},
   "source": [
    "c) Let `sorted_rnd` be the coordinated sorted first by the `x` component and then the `y`. Use a built-in Python sorting function. Do you need any extra parameters? Why? Why not? How would you find out where the order comes from (and might it be consistent but useless, eg sorting the elements by memory location)?"
   ]
  },
  {
   "cell_type": "code",
   "execution_count": 19,
   "metadata": {},
   "outputs": [
    {
     "name": "stdout",
     "output_type": "stream",
     "text": [
      "(coord(x=-552.6773325690559, y=-998.5599739445969), coord(x=558.3491085139965, y=-997.3606595242964), coord(x=483.81555387701724, y=-996.5332741943806), coord(x=-914.0068422163026, y=-996.476387996907), coord(x=-369.9631637877934, y=-996.2133266054134), coord(x=-104.90986801911765, y=-991.9547264243098), coord(x=-918.3697997010119, y=-988.4750023574298), coord(x=567.9772340031795, y=-980.976879724401), coord(x=-813.8463922690711, y=-979.9432671920985), coord(x=-918.5627649809396, y=-979.9328884220864))\n",
      "(coord(x=453.67472413826454, y=971.8403591294255), coord(x=905.1297340348322, y=975.573973338282), coord(x=331.5780978611317, y=977.1268904218828), coord(x=-81.78629050982545, y=981.5563083546317), coord(x=-68.62206044154459, y=984.3133521059881), coord(x=728.849338790998, y=986.6020097369867), coord(x=-214.36652783011925, y=986.7567876725891), coord(x=-203.43666450539888, y=986.9209370265457), coord(x=-386.2906241235029, y=988.3180872395301), coord(x=696.1135855769244, y=989.0625830870897))\n"
     ]
    }
   ],
   "source": [
    "coords = list(map(gen_rand_coord, range(10**3)))\n",
    "sorted_rnd = sorted(coords, key= lambda crd: crd.x)\n",
    "sorted_rnd = tuple(sorted(sorted_rnd, key= lambda crd: crd.y))\n",
    "print(sorted_rnd[:10])\n",
    "print(sorted_rnd[-10:])"
   ]
  },
  {
   "cell_type": "markdown",
   "metadata": {},
   "source": [
    "[General words of advice:\n",
    "\n",
    "* During testing, you might want to use a smaller data set (and then try it out at a larger set).\n",
    "* You might not want to display the entire list to see if you're right all the time. Slicing out the first and last elements, say the first or last 10, might provide some hints.\n",
    "* You could naturally define a function which checks that the list is in order (or performs some probabilistic sampling test), to test this.]"
   ]
  },
  {
   "cell_type": "markdown",
   "metadata": {},
   "source": [
    "d) Sort the values (in the sense of returning a new sorted tuple) by their Euclidean distance to the point (5,3). Continue using a built-in Python sorting function."
   ]
  },
  {
   "cell_type": "code",
   "execution_count": 20,
   "metadata": {},
   "outputs": [
    {
     "name": "stdout",
     "output_type": "stream",
     "text": [
      "(coord(x=25.530282091706795, y=27.592592144565515), coord(x=31.269315588619975, y=-27.83276107992674), coord(x=28.546092812058532, y=43.47443502776059), coord(x=-45.65213529447874, y=9.636057766470458), coord(x=-10.466790662415406, y=-54.80952384204568), coord(x=14.324766068156691, y=69.35556718708426), coord(x=68.65718849324799, y=-18.796001493476297), coord(x=-74.6757161446792, y=0.6505505232286168), coord(x=-52.216326026552224, y=-70.14801843880684), coord(x=-55.995615483469805, y=-67.79047701650768))\n",
      "(coord(x=-947.283524006345, y=929.3827871792932), coord(x=-990.1511845365214, y=-888.3358492284843), coord(x=-951.3932372919832, y=945.1486064512387), coord(x=-969.7535750382542, y=928.4415720322224), coord(x=-939.0607573483702, y=-953.8718447008374), coord(x=-930.2021294457328, y=970.5081542111764), coord(x=959.1672021221689, y=-946.5574765917663), coord(x=-918.5627649809396, y=-979.9328884220864), coord(x=-918.3697997010119, y=-988.4750023574298), coord(x=-914.0068422163026, y=-996.476387996907))\n"
     ]
    }
   ],
   "source": [
    "pts_near_53 = tuple(sorted(coords, key= lambda crd: sqrt((crd.x-5)**2 + (crd.y-3)**2)))\n",
    "print(pts_near_53[:10])\n",
    "print(pts_near_53[-10:])"
   ]
  },
  {
   "cell_type": "markdown",
   "metadata": {},
   "source": [
    "Note: here we customise the behaviour of a built-in function by passing it information about our intended ordering."
   ]
  },
  {
   "cell_type": "markdown",
   "metadata": {},
   "source": [
    "d) Define the function `sorted_by_distance(origo)` which takes a coordinate `origo` and returns a function which sorts the sequence by the euclidean distance to `origo`. (Ie those closest to origo come first in the list.)"
   ]
  },
  {
   "cell_type": "code",
   "execution_count": 21,
   "metadata": {},
   "outputs": [
    {
     "name": "stdout",
     "output_type": "stream",
     "text": [
      "(coord(x=25.530282091706795, y=27.592592144565515), coord(x=31.269315588619975, y=-27.83276107992674), coord(x=28.546092812058532, y=43.47443502776059), coord(x=-45.65213529447874, y=9.636057766470458), coord(x=-10.466790662415406, y=-54.80952384204568), coord(x=14.324766068156691, y=69.35556718708426), coord(x=68.65718849324799, y=-18.796001493476297), coord(x=-74.6757161446792, y=0.6505505232286168), coord(x=-52.216326026552224, y=-70.14801843880684), coord(x=-55.995615483469805, y=-67.79047701650768))\n",
      "(coord(x=-947.283524006345, y=929.3827871792932), coord(x=-990.1511845365214, y=-888.3358492284843), coord(x=-951.3932372919832, y=945.1486064512387), coord(x=-969.7535750382542, y=928.4415720322224), coord(x=-939.0607573483702, y=-953.8718447008374), coord(x=-930.2021294457328, y=970.5081542111764), coord(x=959.1672021221689, y=-946.5574765917663), coord(x=-918.5627649809396, y=-979.9328884220864), coord(x=-918.3697997010119, y=-988.4750023574298), coord(x=-914.0068422163026, y=-996.476387996907))\n"
     ]
    }
   ],
   "source": [
    "def sorted_by_distance(origo):\n",
    "    return lambda lis: tuple(sorted(lis, key= lambda crd: sqrt((crd.x-origo.x)**2 + (crd.y-origo.y)**2)))\n",
    "\n",
    "ordered_by_closeness_to_53 = sorted_by_distance(coord(5,3))   # Return the function.\n",
    "pts_near_53_2 = ordered_by_closeness_to_53(coords)     # Applying the function \n",
    "\n",
    "print(pts_near_53_2[:10])\n",
    "print(pts_near_53_2[-10:])\n",
    "\n",
    "assert pts_near_53 == pts_near_53_2"
   ]
  },
  {
   "cell_type": "markdown",
   "metadata": {},
   "source": [
    "[Note: Here we extend the work above to a higher-order function, which uses the local value of `origo`. In essence, this task summarises higher order functionality - we create a closure, return a function and use a custom ordering ]"
   ]
  },
  {
   "cell_type": "markdown",
   "metadata": {},
   "source": [
    "e) So far in the course, we have seen, and possibly used `enumerate`, `range`, `zip`, `map` and `filter` as declarative constructs (along with the general comprehension syntax). Now we introduce a further useful iterator construct. Construct something called `reverse_squared` which when prompted would give us the squares of elements 0,...,N _but in reverse_ (that is $N^2, (N-1)^2, ..., 2^2, 1^2, 0^2$)."
   ]
  },
  {
   "cell_type": "code",
   "execution_count": 22,
   "metadata": {},
   "outputs": [
    {
     "name": "stdout",
     "output_type": "stream",
     "text": [
      "[400, 361, 324, 289, 256, 225, 196, 169, 144, 121, 100, 81, 64, 49, 36, 25, 16, 9, 4, 1, 0]\n"
     ]
    }
   ],
   "source": [
    "# The time it takes to run this shouldn't really depend on if you use SMALL_N or BIG_N.\n",
    "\n",
    "BIG_N = 99999999\n",
    "SMALL_N = 999\n",
    "\n",
    "N = SMALL_N    # change this to test later on\n",
    "\n",
    "reverse_squares = list(map(lambda x: x*x, range(N, -1, -1))) # your code here\n",
    "print(reverse_squares[-21:])"
   ]
  },
  {
   "cell_type": "code",
   "execution_count": 23,
   "metadata": {
    "scrolled": true
   },
   "outputs": [
    {
     "name": "stdout",
     "output_type": "stream",
     "text": [
      "Did we find it?  True\n",
      "         65 function calls in 0.000 seconds\n",
      "\n",
      "   Ordered by: standard name\n",
      "\n",
      "   ncalls  tottime  percall  cumtime  percall filename:lineno(function)\n",
      "        5    0.000    0.000    0.000    0.000 :0(acquire)\n",
      "        5    0.000    0.000    0.000    0.000 :0(append)\n",
      "        1    0.000    0.000    0.000    0.000 :0(exec)\n",
      "        4    0.000    0.000    0.000    0.000 :0(getpid)\n",
      "        4    0.000    0.000    0.000    0.000 :0(isinstance)\n",
      "        1    0.000    0.000    0.000    0.000 :0(print)\n",
      "        1    0.000    0.000    0.000    0.000 :0(setprofile)\n",
      "        1    0.000    0.000    0.000    0.000 <string>:1(<module>)\n",
      "        5    0.000    0.000    0.000    0.000 iostream.py:195(schedule)\n",
      "        4    0.000    0.000    0.000    0.000 iostream.py:307(_is_master_process)\n",
      "        4    0.000    0.000    0.000    0.000 iostream.py:320(_schedule_flush)\n",
      "        4    0.000    0.000    0.000    0.000 iostream.py:382(write)\n",
      "        5    0.000    0.000    0.000    0.000 iostream.py:93(_event_pipe)\n",
      "        1    0.000    0.000    0.000    0.000 profile:0(print('Did we find it? ', 998001 in reverse_squares))\n",
      "        0    0.000             0.000          profile:0(profiler)\n",
      "        5    0.000    0.000    0.000    0.000 socket.py:334(send)\n",
      "        5    0.000    0.000    0.000    0.000 threading.py:1062(_wait_for_tstate_lock)\n",
      "        5    0.000    0.000    0.000    0.000 threading.py:1104(is_alive)\n",
      "        5    0.000    0.000    0.000    0.000 threading.py:506(is_set)\n",
      "\n",
      "\n"
     ]
    }
   ],
   "source": [
    "# Experimentation: copy and paste your code from above into this cell.\n",
    "# This is rather crude, but we want you to to be able to trust that any\n",
    "# slowness in the cell above can be found by reference to that code, not the\n",
    "# profiling code below.\n",
    "\n",
    "# Copy-pasting as it might be useful to have fresh maps.\n",
    "\n",
    "\n",
    "import profile\n",
    "\n",
    "# We cut and paste this code \n",
    "BIG_N = 99999999\n",
    "SMALL_N = 999\n",
    "\n",
    "N = SMALL_N    \n",
    "# Look at the run time. Switching from BIG_N to SMALL_N shouldn't really matter.\n",
    "# This suggests that we have quick access to elements at the end of our (squared) range.\n",
    "\n",
    "reverse_squares = list(map(lambda x: x*x, range(N, -1, -1))) # <<----------- Your code from the cell above goes here.\n",
    "\n",
    "\n",
    "profile.run(\"print('Did we find it? ', {} in reverse_squares)\".format( N**2 ))"
   ]
  },
  {
   "cell_type": "markdown",
   "metadata": {},
   "source": [
    "Note: once you know of the construct, this task is extremely simple. It mostly serves as a demonstration of the availability of these constructs, and how they can be combined. Also, it points to efficiency considerations when using declarative iterator constructs as opposed to fixed computed structures.\n",
    "\n",
    "As the profiling code above suggests, where we redefine the object in every run, we do not have a purely functional construct. In that case, we wouldn't be able to exhaust the values."
   ]
  },
  {
   "cell_type": "markdown",
   "metadata": {},
   "source": [
    "[Additional reading: some additional tools are available in the `itertools` module.]"
   ]
  },
  {
   "cell_type": "markdown",
   "metadata": {},
   "source": [
    "## 5 Mutating function state\n",
    "\n",
    "A function always has access to the environment in which it was created. Usually, this means that the function can access global variables. It also means that it can access and modify local bindings from where it was created.\n",
    "\n",
    "A closure is a function which has access to an environment which is not accessible from outside the function (but which is not destroyed when the function returns). I.e. it is a way to introduce a small measure of statefulness into functional programming. In Python, iterators and generators work much like this. However, we can use the general concept in many cases."
   ]
  },
  {
   "cell_type": "markdown",
   "metadata": {},
   "source": [
    "a) Implement a function `make_counter` which has a single parameter `n` which acts as the initial value for a counter. The function should return a function with no parameters which, when called, increments the value of `n` by 1 and returns the new value."
   ]
  },
  {
   "cell_type": "code",
   "execution_count": 24,
   "metadata": {},
   "outputs": [
    {
     "name": "stdout",
     "output_type": "stream",
     "text": [
      "To show that the functions do not affect each others' states, consider the printout:\n",
      "counter_A returns: 1\n",
      "counter_A returns: 2\n",
      "counter_B returns: 16\n",
      "counter_A returns: 3 (was it affected by the call to counter_B?)\n",
      "- No counter_A was not affected by the call to counter_B.\n"
     ]
    }
   ],
   "source": [
    "def make_counter(n):\n",
    "    def inc_counter():\n",
    "        nonlocal n\n",
    "        n = n+1\n",
    "        return n\n",
    "    return inc_counter\n",
    "\n",
    "counter_A = make_counter(0)\n",
    "counter_B = make_counter(15)\n",
    "print(\"To show that the functions do not affect each others' states, consider the printout:\")\n",
    "print(\"counter_A returns: {}\".format(counter_A()))\n",
    "print(\"counter_A returns: {}\".format(counter_A()))\n",
    "print(\"counter_B returns: {}\".format(counter_B()))\n",
    "print(\"counter_A returns: {} (was it affected by the call to counter_B?)\".format(counter_A()))\n",
    "print(\"- No counter_A was not affected by the call to counter_B.\")"
   ]
  },
  {
   "cell_type": "markdown",
   "metadata": {},
   "source": [
    "## 6. Use case: parametrisation\n",
    "\n",
    "Above, we see how `sorted` can be parametrised with information about the intended order. We want to extend our `quicksort` to work the same way. We should be able to provide the way for it to tell if object A in the tuple should come before object B, or after. This is done by mapping the objects onto something where we do have an order."
   ]
  },
  {
   "cell_type": "markdown",
   "metadata": {},
   "source": [
    "a) Copy your code from the `quicksort` task above, and extend it. Call the function `quicksort_param` for parametrised, and allow a key parameter to be passed in (like in `sorted`). Note that the key function should be optional. We thus want default arguments."
   ]
  },
  {
   "cell_type": "code",
   "execution_count": 25,
   "metadata": {},
   "outputs": [
    {
     "name": "stdout",
     "output_type": "stream",
     "text": [
      "((0.8464016247568648, 0.6769523093440624, 0.05121930816651432), (0.49666927469300204, 0.565330606723813, 0.9535352224711416), (0.012293412115924163, 0.6092001739792255, 0.8822205976505244), (0.5327750502469324, 0.2200841185304625, 0.5178877957021811), (0.7781970997736402, 0.46834608764334085, 0.8133189617611636), (0.8510649486517419, 0.7664885376820035, 0.4407335670686803), (0.6637531339208227, 0.5844734300521771, 0.16288806818068602), (0.05902649633711643, 0.04833625511214046, 0.36327842337528793), (0.9552427735227573, 0.8915280155779856, 0.5081358537738155), (0.3991700723262681, 0.643469786456928, 0.36843241278785255))\n",
      "\n",
      "Sorted using Quicksort Param :\n",
      "\n",
      "(0.05902649633711643, 0.04833625511214046, 0.36327842337528793) 0.4706411748245448\n",
      "(0.5327750502469324, 0.2200841185304625, 0.5178877957021811) 1.2707469644795761\n",
      "(0.3991700723262681, 0.643469786456928, 0.36843241278785255) 1.4110722715710486\n",
      "(0.6637531339208227, 0.5844734300521771, 0.16288806818068602) 1.4111146321536858\n",
      "(0.012293412115924163, 0.6092001739792255, 0.8822205976505244) 1.5037141837456742\n",
      "(0.8464016247568648, 0.6769523093440624, 0.05121930816651432) 1.5745732422674412\n",
      "(0.49666927469300204, 0.565330606723813, 0.9535352224711416) 2.0155351038879568\n",
      "(0.8510649486517419, 0.7664885376820035, 0.4407335670686803) 2.0582870534024256\n",
      "(0.7781970997736402, 0.46834608764334085, 0.8133189617611636) 2.0598621491781444\n",
      "(0.9552427735227573, 0.8915280155779856, 0.5081358537738155) 2.354906642874558\n",
      "(2, 5, 9, 200)\n"
     ]
    }
   ],
   "source": [
    "from random import random\n",
    "\n",
    "# Write quicksort_param here:\n",
    "def partition_param(A, piv, f):\n",
    "    A = list(A)\n",
    "    temp = A[0]\n",
    "    A[0] = A[piv]\n",
    "    A[piv] = temp\n",
    "    i = 1\n",
    "    for j in range(1,len(A)):\n",
    "        if f(A[j]) < f(A[0]):\n",
    "            if i==j:\n",
    "                i += 1\n",
    "            else:\n",
    "                temp = A[j]\n",
    "                A[j] = A[i]\n",
    "                A[i] = temp\n",
    "                i += 1\n",
    "    temp = A[0]\n",
    "    A[0] = A[i-1]\n",
    "    A[i-1] = temp\n",
    "    return A, i-1\n",
    "\n",
    "def quicksort_param(A, f=lambda x: x):\n",
    "    n = len(A)\n",
    "    if n<=1:\n",
    "        return A\n",
    "    else:\n",
    "        piv = choice(range(n))\n",
    "        A, ind = partition_param(A, piv, f)\n",
    "        A[0:ind] = quicksort_param(A[0:ind], f)\n",
    "        A[ind+1:] = quicksort_param(A[ind+1:], f)\n",
    "        return tuple(A)\n",
    "\n",
    "\n",
    "a = tuple(tuple(random() for i in range(3)) for j in range(10))\n",
    "print(a)\n",
    "print(\"\\nSorted using Quicksort Param :\\n\")\n",
    "b = quicksort_param(a, sum)   # Elements are three-tuples. Those with smallest sums of values should come first.\n",
    "for i in b:\n",
    "    print(i, sum(i))\n",
    "print(quicksort_param([5,2,9,200]))   # No key function provided."
   ]
  },
  {
   "cell_type": "markdown",
   "metadata": {},
   "source": [
    "## Attribution\n",
    "\n",
    "Lab by Johan Falkenjack (2018), extended and rewritten by Anders Märak Leffler (2019).\n",
    "\n",
    "License [CC-BY-SA 4.0](https://creativecommons.org/licenses/by-sa/4.0/)"
   ]
  }
 ],
 "metadata": {
  "kernelspec": {
   "display_name": "Python 3",
   "language": "python",
   "name": "python3"
  },
  "language_info": {
   "codemirror_mode": {
    "name": "ipython",
    "version": 3
   },
   "file_extension": ".py",
   "mimetype": "text/x-python",
   "name": "python",
   "nbconvert_exporter": "python",
   "pygments_lexer": "ipython3",
   "version": "3.6.7"
  }
 },
 "nbformat": 4,
 "nbformat_minor": 2
}
