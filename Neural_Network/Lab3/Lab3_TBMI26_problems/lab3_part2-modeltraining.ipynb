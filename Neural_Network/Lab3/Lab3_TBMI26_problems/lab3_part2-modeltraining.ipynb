{
 "cells": [
  {
   "cell_type": "markdown",
   "metadata": {
    "_uuid": "a5bbcc04059a0030a3122441e527ed26f5979541"
   },
   "source": [
    "## Training a whole network\n",
    "So far, we have been training a single layer and we have been following the progress with the help of the Eager mode. If we want to train a whole network, it is much better to leave the Eager mode and to compile the graph. For this, we need to kill the notebook kernel (\"Kernel\" -> \"Restart\"). After that, we continue below in the classical TensorFlow mode.  "
   ]
  },
  {
   "cell_type": "code",
   "execution_count": 1,
   "metadata": {
    "_uuid": "99cd8854212f6a579d91fbe7b27ac478467e323d"
   },
   "outputs": [
    {
     "name": "stdout",
     "output_type": "stream",
     "text": [
      "TensorFlow version 1.12.0\n"
     ]
    }
   ],
   "source": [
    "import tensorflow as tf\n",
    "print('TensorFlow version '+tf.__version__)\n",
    "import matplotlib.pyplot as plt\n",
    "%matplotlib inline\n",
    "import numpy as np\n",
    "from tensorflow.keras.utils import to_categorical"
   ]
  },
  {
   "cell_type": "markdown",
   "metadata": {
    "_uuid": "04f0bfb787b4e5a5faedbc1f71c36f8cba73cd7d"
   },
   "source": [
    "**Task 12:** We will train on CIFAR10, which is contained in `keras.datasets`. Download the dataset, show a sample for each class, convert the labels to one-hot coding, and normalize the images."
   ]
  },
  {
   "cell_type": "code",
   "execution_count": 2,
   "metadata": {
    "_uuid": "2473b024b59041d21af93134fdab5345035621fa"
   },
   "outputs": [
    {
     "name": "stdout",
     "output_type": "stream",
     "text": [
      "Downloading data from https://www.cs.toronto.edu/~kriz/cifar-10-python.tar.gz\n",
      "170500096/170498071 [==============================] - 9s 0us/step\n",
      "Range of data :  \n",
      "MAX :  255 \n",
      "MIN :  0\n"
     ]
    }
   ],
   "source": [
    "#Loading Dataset\n",
    "from tensorflow.keras.datasets import cifar10\n",
    "(x_train, y_train), (x_test, y_test) = cifar10.load_data()\n",
    "y_train = to_categorical(y_train)\n",
    "y_test = to_categorical(y_test)\n",
    "\n",
    "print(\"Range of data : \", \"\\nMAX : \", np.max(x_train), \"\\nMIN : \", np.min(x_train))\n",
    "\n",
    "#normalize data\n",
    "x_train = x_train/255\n",
    "x_test = x_test/255"
   ]
  },
  {
   "cell_type": "code",
   "execution_count": 3,
   "metadata": {
    "_uuid": "962d585f9803768ab258e109c2d7d0fa3d391f6e"
   },
   "outputs": [
    {
     "data": {
      "text/plain": [
       "((50000, 32, 32, 3), (50000, 10), (10000, 32, 32, 3), (10000, 10))"
      ]
     },
     "execution_count": 3,
     "metadata": {},
     "output_type": "execute_result"
    }
   ],
   "source": [
    "(x_train.shape, y_train.shape, x_test.shape, y_test.shape)"
   ]
  },
  {
   "cell_type": "markdown",
   "metadata": {
    "_uuid": "b91444ab5c9a6371b83de5ceba3c0dc97f51b48d"
   },
   "source": [
    "**Task 13:** Build the depicted LeNet5-inspired model using Keras standard components.\n",
    "![title](model.png)"
   ]
  },
  {
   "cell_type": "code",
   "execution_count": 4,
   "metadata": {
    "_uuid": "126c906d91e03ff8ddf0a5884262ac96a2b08f61"
   },
   "outputs": [],
   "source": [
    "from tensorflow.keras.layers import Flatten, Dense, Conv2D, Dropout, BatchNormalization, MaxPool2D\n",
    "from tensorflow.keras.models import Sequential\n",
    "from tensorflow.keras.optimizers import Adam"
   ]
  },
  {
   "cell_type": "code",
   "execution_count": 5,
   "metadata": {
    "_uuid": "36c6a06110bfe8d76a4db36e8dd0883121259388"
   },
   "outputs": [
    {
     "name": "stdout",
     "output_type": "stream",
     "text": [
      "_________________________________________________________________\n",
      "Layer (type)                 Output Shape              Param #   \n",
      "=================================================================\n",
      "conv2d (Conv2D)              (None, 32, 32, 32)        896       \n",
      "_________________________________________________________________\n",
      "batch_normalization (BatchNo (None, 32, 32, 32)        128       \n",
      "_________________________________________________________________\n",
      "conv2d_1 (Conv2D)            (None, 32, 32, 32)        9248      \n",
      "_________________________________________________________________\n",
      "batch_normalization_1 (Batch (None, 32, 32, 32)        128       \n",
      "_________________________________________________________________\n",
      "max_pooling2d (MaxPooling2D) (None, 16, 16, 32)        0         \n",
      "_________________________________________________________________\n",
      "dropout (Dropout)            (None, 16, 16, 32)        0         \n",
      "_________________________________________________________________\n",
      "conv2d_2 (Conv2D)            (None, 16, 16, 64)        18496     \n",
      "_________________________________________________________________\n",
      "batch_normalization_2 (Batch (None, 16, 16, 64)        256       \n",
      "_________________________________________________________________\n",
      "conv2d_3 (Conv2D)            (None, 16, 16, 64)        36928     \n",
      "_________________________________________________________________\n",
      "batch_normalization_3 (Batch (None, 16, 16, 64)        256       \n",
      "_________________________________________________________________\n",
      "max_pooling2d_1 (MaxPooling2 (None, 8, 8, 64)          0         \n",
      "_________________________________________________________________\n",
      "dropout_1 (Dropout)          (None, 8, 8, 64)          0         \n",
      "_________________________________________________________________\n",
      "conv2d_4 (Conv2D)            (None, 8, 8, 128)         73856     \n",
      "_________________________________________________________________\n",
      "batch_normalization_4 (Batch (None, 8, 8, 128)         512       \n",
      "_________________________________________________________________\n",
      "conv2d_5 (Conv2D)            (None, 8, 8, 128)         147584    \n",
      "_________________________________________________________________\n",
      "batch_normalization_5 (Batch (None, 8, 8, 128)         512       \n",
      "_________________________________________________________________\n",
      "max_pooling2d_2 (MaxPooling2 (None, 4, 4, 128)         0         \n",
      "_________________________________________________________________\n",
      "dropout_2 (Dropout)          (None, 4, 4, 128)         0         \n",
      "_________________________________________________________________\n",
      "flatten (Flatten)            (None, 2048)              0         \n",
      "_________________________________________________________________\n",
      "dense (Dense)                (None, 10)                20490     \n",
      "=================================================================\n",
      "Total params: 309,290\n",
      "Trainable params: 308,394\n",
      "Non-trainable params: 896\n",
      "_________________________________________________________________\n",
      "None\n"
     ]
    }
   ],
   "source": [
    "model = Sequential()\n",
    "model.add(Conv2D(32, (3, 3), padding='same', activation='relu', input_shape=(32, 32, 3)))\n",
    "model.add(BatchNormalization())\n",
    "model.add(Conv2D(32, (3, 3), padding='same', activation='relu'))\n",
    "model.add(BatchNormalization())\n",
    "model.add(MaxPool2D((2,2)))\n",
    "model.add(Dropout(0.2))\n",
    "model.add(Conv2D(64, (3, 3), padding='same', activation='relu'))\n",
    "model.add(BatchNormalization())\n",
    "model.add(Conv2D(64, (3, 3), padding='same', activation='relu'))\n",
    "model.add(BatchNormalization())\n",
    "model.add(MaxPool2D((2,2)))\n",
    "model.add(Dropout(0.3))\n",
    "model.add(Conv2D(128, (3, 3), padding='same', activation='relu'))\n",
    "model.add(BatchNormalization())\n",
    "model.add(Conv2D(128, (3, 3), padding='same', activation='relu'))\n",
    "model.add(BatchNormalization())\n",
    "model.add(MaxPool2D((2,2)))\n",
    "model.add(Dropout(0.4))\n",
    "model.add(Flatten())\n",
    "model.add(Dense(10, activation='softmax'))\n",
    "model.compile(optimizer=Adam(lr=1e-4),loss='categorical_crossentropy',metrics=['accuracy'])\n",
    "print(model.summary())"
   ]
  },
  {
   "cell_type": "markdown",
   "metadata": {
    "_uuid": "5edbaf32b5b3516b69338ee9d323e45f1c96b2fa"
   },
   "source": [
    "We will now train the network. For displaying the performance we define a helper function:"
   ]
  },
  {
   "cell_type": "code",
   "execution_count": 6,
   "metadata": {
    "_uuid": "60a76ed9b8f1423634b77fe1125645d1cec5e0a5"
   },
   "outputs": [],
   "source": [
    "import tensorflow.keras.backend as K\n",
    "def scheduler(epoch):\n",
    "    if epoch%10==0 and epoch!=0:\n",
    "        lr = K.get_value(model.optimizer.lr)\n",
    "        K.set_value(model.optimizer.lr, lr*.9)\n",
    "        print(\"lr changed to {}\".format(lr*.9))\n",
    "    return K.get_value(model.optimizer.lr)"
   ]
  },
  {
   "cell_type": "code",
   "execution_count": 7,
   "metadata": {
    "_uuid": "40e2e61c03c09c5665fa7bc1d36cf898a0fd3f17",
    "scrolled": true
   },
   "outputs": [],
   "source": [
    "def plot_model_history(model):\n",
    "    line_w = 3\n",
    "    fig_size = (8, 6)\n",
    "    plt.figure(0)\n",
    "    plt.plot(model.history['acc'],'r', lw=line_w)\n",
    "    plt.plot(model.history['val_acc'],'b', lw=line_w)\n",
    "    plt.rcParams['figure.figsize'] = fig_size\n",
    "    plt.xlabel(\"Epoch number\")\n",
    "    plt.ylabel(\"Accuracy\")\n",
    "    plt.title(\"Training Accuracy vs Validation Accuracy\")\n",
    "    plt.legend(['Training','Validation'])\n",
    "    plt.grid(True)"
   ]
  },
  {
   "cell_type": "markdown",
   "metadata": {
    "_uuid": "177fe0509ebf84268132201b7f08000cf647a641"
   },
   "source": [
    "**Task 14:** Train the defined model for 50 epochs and a suitable batch size and display the result."
   ]
  },
  {
   "cell_type": "code",
   "execution_count": 8,
   "metadata": {
    "_uuid": "6d876fe6c092713e30439ee610f3ff64087c7a0f"
   },
   "outputs": [],
   "source": [
    "from tensorflow.keras.callbacks import EarlyStopping, LearningRateScheduler\n",
    "my_callbacks = [LearningRateScheduler(scheduler)] #EarlyStopping(monitor=\"val_acc\", patience=5, mode='max')"
   ]
  },
  {
   "cell_type": "code",
   "execution_count": 9,
   "metadata": {
    "_uuid": "bd063f7e4381dbe242c5998ad964e7dd68503a07",
    "scrolled": true
   },
   "outputs": [
    {
     "name": "stdout",
     "output_type": "stream",
     "text": [
      "Train on 47500 samples, validate on 2500 samples\n",
      "Epoch 1/50\n",
      "47500/47500 [==============================] - 10s 212us/step - loss: 2.4978 - acc: 0.3167 - val_loss: 1.5553 - val_acc: 0.4452\n",
      "Epoch 2/50\n",
      "47500/47500 [==============================] - 8s 170us/step - loss: 1.8116 - acc: 0.4224 - val_loss: 1.3256 - val_acc: 0.5280\n",
      "Epoch 3/50\n",
      "47500/47500 [==============================] - 8s 169us/step - loss: 1.5679 - acc: 0.4836 - val_loss: 1.2830 - val_acc: 0.5460\n",
      "Epoch 4/50\n",
      "47500/47500 [==============================] - 8s 169us/step - loss: 1.3919 - acc: 0.5346 - val_loss: 1.1967 - val_acc: 0.5844\n",
      "Epoch 5/50\n",
      "47500/47500 [==============================] - 8s 170us/step - loss: 1.2626 - acc: 0.5722 - val_loss: 1.0559 - val_acc: 0.6444\n",
      "Epoch 6/50\n",
      "47500/47500 [==============================] - 8s 176us/step - loss: 1.1522 - acc: 0.6063 - val_loss: 0.9690 - val_acc: 0.6656\n",
      "Epoch 7/50\n",
      "47500/47500 [==============================] - 9s 180us/step - loss: 1.0592 - acc: 0.6333 - val_loss: 0.9676 - val_acc: 0.6636\n",
      "Epoch 8/50\n",
      "47500/47500 [==============================] - 8s 170us/step - loss: 0.9870 - acc: 0.6584 - val_loss: 0.8553 - val_acc: 0.7120\n",
      "Epoch 9/50\n",
      "47500/47500 [==============================] - 8s 169us/step - loss: 0.9323 - acc: 0.6761 - val_loss: 0.8740 - val_acc: 0.7004\n",
      "Epoch 10/50\n",
      "47500/47500 [==============================] - 8s 168us/step - loss: 0.8773 - acc: 0.6960 - val_loss: 0.7639 - val_acc: 0.7364\n",
      "lr changed to 8.999999772640876e-05\n",
      "Epoch 11/50\n",
      "47500/47500 [==============================] - 8s 169us/step - loss: 0.8291 - acc: 0.7121 - val_loss: 0.8397 - val_acc: 0.7212\n",
      "Epoch 12/50\n",
      "47500/47500 [==============================] - 8s 169us/step - loss: 0.7915 - acc: 0.7210 - val_loss: 0.7660 - val_acc: 0.7384\n",
      "Epoch 13/50\n",
      "47500/47500 [==============================] - 8s 169us/step - loss: 0.7592 - acc: 0.7349 - val_loss: 0.7338 - val_acc: 0.7516\n",
      "Epoch 14/50\n",
      "47500/47500 [==============================] - 8s 169us/step - loss: 0.7296 - acc: 0.7462 - val_loss: 0.6653 - val_acc: 0.7696\n",
      "Epoch 15/50\n",
      "47500/47500 [==============================] - 8s 169us/step - loss: 0.6994 - acc: 0.7551 - val_loss: 0.6733 - val_acc: 0.7692\n",
      "Epoch 16/50\n",
      "47500/47500 [==============================] - 8s 176us/step - loss: 0.6791 - acc: 0.7619 - val_loss: 0.6594 - val_acc: 0.7732\n",
      "Epoch 17/50\n",
      "47500/47500 [==============================] - 8s 177us/step - loss: 0.6572 - acc: 0.7692 - val_loss: 0.6284 - val_acc: 0.7932\n",
      "Epoch 18/50\n",
      "47500/47500 [==============================] - 8s 169us/step - loss: 0.6348 - acc: 0.7772 - val_loss: 0.6238 - val_acc: 0.7928\n",
      "Epoch 19/50\n",
      "47500/47500 [==============================] - 8s 169us/step - loss: 0.6106 - acc: 0.7860 - val_loss: 0.6055 - val_acc: 0.7944\n",
      "Epoch 20/50\n",
      "47500/47500 [==============================] - 8s 169us/step - loss: 0.6019 - acc: 0.7885 - val_loss: 0.6050 - val_acc: 0.7928\n",
      "lr changed to 8.100000122794882e-05\n",
      "Epoch 21/50\n",
      "47500/47500 [==============================] - 8s 168us/step - loss: 0.5774 - acc: 0.7984 - val_loss: 0.5744 - val_acc: 0.8020\n",
      "Epoch 22/50\n",
      "47500/47500 [==============================] - 8s 169us/step - loss: 0.5592 - acc: 0.8047 - val_loss: 0.6298 - val_acc: 0.7888\n",
      "Epoch 23/50\n",
      "47500/47500 [==============================] - 8s 169us/step - loss: 0.5447 - acc: 0.8061 - val_loss: 0.5757 - val_acc: 0.8076\n",
      "Epoch 24/50\n",
      "47500/47500 [==============================] - 8s 169us/step - loss: 0.5297 - acc: 0.8135 - val_loss: 0.5697 - val_acc: 0.8112\n",
      "Epoch 25/50\n",
      "47500/47500 [==============================] - 8s 170us/step - loss: 0.5186 - acc: 0.8164 - val_loss: 0.5564 - val_acc: 0.8200\n",
      "Epoch 26/50\n",
      "47500/47500 [==============================] - 8s 178us/step - loss: 0.5029 - acc: 0.8223 - val_loss: 0.5540 - val_acc: 0.8168\n",
      "Epoch 27/50\n",
      "47500/47500 [==============================] - 9s 183us/step - loss: 0.4912 - acc: 0.8267 - val_loss: 0.5531 - val_acc: 0.8232\n",
      "Epoch 28/50\n",
      "47500/47500 [==============================] - 9s 182us/step - loss: 0.4804 - acc: 0.8316 - val_loss: 0.5366 - val_acc: 0.8276\n",
      "Epoch 29/50\n",
      "47500/47500 [==============================] - 8s 168us/step - loss: 0.4712 - acc: 0.8336 - val_loss: 0.5547 - val_acc: 0.8128\n",
      "Epoch 30/50\n",
      "47500/47500 [==============================] - 8s 170us/step - loss: 0.4595 - acc: 0.8391 - val_loss: 0.5356 - val_acc: 0.8304\n",
      "lr changed to 7.289999848580919e-05\n",
      "Epoch 31/50\n",
      "47500/47500 [==============================] - 8s 169us/step - loss: 0.4422 - acc: 0.8458 - val_loss: 0.5367 - val_acc: 0.8288\n",
      "Epoch 32/50\n",
      "47500/47500 [==============================] - 8s 169us/step - loss: 0.4356 - acc: 0.8450 - val_loss: 0.5298 - val_acc: 0.8268\n",
      "Epoch 33/50\n",
      "47500/47500 [==============================] - 8s 179us/step - loss: 0.4324 - acc: 0.8468 - val_loss: 0.5249 - val_acc: 0.8292\n",
      "Epoch 34/50\n",
      "47500/47500 [==============================] - 8s 170us/step - loss: 0.4243 - acc: 0.8516 - val_loss: 0.5302 - val_acc: 0.8284\n",
      "Epoch 35/50\n",
      "47500/47500 [==============================] - 8s 169us/step - loss: 0.4124 - acc: 0.8543 - val_loss: 0.5304 - val_acc: 0.8252\n",
      "Epoch 36/50\n",
      "47500/47500 [==============================] - 9s 181us/step - loss: 0.4039 - acc: 0.8556 - val_loss: 0.4897 - val_acc: 0.8380\n",
      "Epoch 37/50\n",
      "47500/47500 [==============================] - 8s 173us/step - loss: 0.3949 - acc: 0.8602 - val_loss: 0.4981 - val_acc: 0.8384\n",
      "Epoch 38/50\n",
      "47500/47500 [==============================] - 8s 169us/step - loss: 0.3872 - acc: 0.8627 - val_loss: 0.4931 - val_acc: 0.8364\n",
      "Epoch 39/50\n",
      "47500/47500 [==============================] - 8s 169us/step - loss: 0.3810 - acc: 0.8645 - val_loss: 0.5070 - val_acc: 0.8328\n",
      "Epoch 40/50\n",
      "47500/47500 [==============================] - 8s 170us/step - loss: 0.3740 - acc: 0.8656 - val_loss: 0.5081 - val_acc: 0.8392\n",
      "lr changed to 6.56100019114092e-05\n",
      "Epoch 41/50\n",
      "47500/47500 [==============================] - 8s 170us/step - loss: 0.3673 - acc: 0.8681 - val_loss: 0.4926 - val_acc: 0.8452\n",
      "Epoch 42/50\n",
      "37824/47500 [======================>.......] - ETA: 1s - loss: 0.3516 - acc: 0.8744"
     ]
    }
   ],
   "source": [
    "hist = model.fit(x_train, y_train, batch_size=64, validation_split=0.05, epochs=50, callbacks=my_callbacks)"
   ]
  },
  {
   "cell_type": "code",
   "execution_count": 10,
   "metadata": {
    "_uuid": "3080f6b8b2ea633a364c54fbbc26fef5a0d82039",
    "scrolled": true
   },
   "outputs": [
    {
     "data": {
      "image/png": "[encoded data removed]",
      "text/plain": [
       "<Figure size 432x288 with 1 Axes>"
      ]
     },
     "metadata": {},
     "output_type": "display_data"
    }
   ],
   "source": [
    "plot_model_history(hist)"
   ]
  },
  {
   "cell_type": "markdown",
   "metadata": {
    "_uuid": "588e8bf71639776f8bb1d92ebeeaaba62155b129"
   },
   "source": [
    "The results can be improved in several ways, e.g., by successively reducing the learning rate (divided by two after 30 and 40 epochs), by data augmentation (`ImageDataGenerator`), and by weight regularization (see above).  \n",
    "**Extra task:** Try to improve the result using one or several of the mentioned approaches.  \n",
    "Hint: you need to define a suitable callback function to change the learning rate during training."
   ]
  },
  {
   "cell_type": "code",
   "execution_count": 11,
   "metadata": {
    "_uuid": "79f9e938e54c3ad1f2fe99108a4679a0380e33b1"
   },
   "outputs": [
    {
     "name": "stdout",
     "output_type": "stream",
     "text": [
      "10000/10000 [==============================] - 1s 54us/step\n",
      "On evaluating the model on test data :\n",
      "Test Loss =  0.5357113175392151\n",
      "Test accuracy =  0.8282\n"
     ]
    }
   ],
   "source": [
    "test_loss, test_acc = model.evaluate(x=x_test, y=y_test, batch_size=64)\n",
    "print(\"On evaluating the model on test data :\")\n",
    "print(\"Test Loss = \", test_loss)\n",
    "print(\"Test accuracy = \", test_acc)"
   ]
  }
 ],
 "metadata": {
  "kernelspec": {
   "display_name": "Python 3",
   "language": "python",
   "name": "python3"
  },
  "language_info": {
   "codemirror_mode": {
    "name": "ipython",
    "version": 3
   },
   "file_extension": ".py",
   "mimetype": "text/x-python",
   "name": "python",
   "nbconvert_exporter": "python",
   "pygments_lexer": "ipython3",
   "version": "3.6.6"
  }
 },
 "nbformat": 4,
 "nbformat_minor": 1
}
